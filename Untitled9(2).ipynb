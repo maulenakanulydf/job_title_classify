{
  "nbformat": 4,
  "nbformat_minor": 0,
  "metadata": {
    "colab": {
      "provenance": [],
      "gpuType": "T4"
    },
    "kernelspec": {
      "name": "python3",
      "display_name": "Python 3"
    },
    "language_info": {
      "name": "python"
    },
    "accelerator": "GPU"
  },
  "cells": [
    {
      "cell_type": "code",
      "source": [
        "import numpy as np\n",
        "import pandas as pd\n",
        "import torch"
      ],
      "metadata": {
        "id": "a_PoJWH8elN_"
      },
      "execution_count": 3,
      "outputs": []
    },
    {
      "cell_type": "code",
      "source": [
        "device = torch.device('cuda' if torch.cuda.is_available() else 'cpu')\n",
        "print(f'Using device: {device}')"
      ],
      "metadata": {
        "colab": {
          "base_uri": "https://localhost:8080/"
        },
        "id": "gjfW6O0jJ9GH",
        "outputId": "b7a2d536-1708-4550-d6a3-a6964cfe7106"
      },
      "execution_count": 4,
      "outputs": [
        {
          "output_type": "stream",
          "name": "stdout",
          "text": [
            "Using device: cuda\n"
          ]
        }
      ]
    },
    {
      "cell_type": "code",
      "source": [
        "prof_df = pd.read_csv('/content/v.csv')"
      ],
      "metadata": {
        "id": "u-hRdVrveqOT"
      },
      "execution_count": 5,
      "outputs": []
    },
    {
      "cell_type": "code",
      "source": [
        "import re\n",
        "from bs4 import BeautifulSoup as bs\n",
        "from nltk.tokenize import RegexpTokenizer\n",
        "from nltk.corpus import stopwords\n",
        "\n",
        "\n",
        "def preprocess(sentence):\n",
        "    soup = bs(sentence, features=\"html.parser\")\n",
        "    sentence = soup.get_text()\n",
        "    soup = bs(sentence, features=\"html.parser\")\n",
        "    sentence = soup.get_text()\n",
        "\n",
        "    sentence = str(sentence)\n",
        "    sentence = sentence.lower()\n",
        "    sentence = sentence.replace('{html}',\"\")\n",
        "    cleanr = re.compile('<.*?>')\n",
        "    cleantext = re.sub(cleanr, '', sentence)\n",
        "    rem_url = re.sub(r'http\\S+', '',cleantext)\n",
        "    rem_num = re.sub('[0-9]+', '', rem_url)\n",
        "    tokenizer = RegexpTokenizer(r'\\w+')\n",
        "    tokens = tokenizer.tokenize(rem_num)\n",
        "    filtered_words = [w for w in tokens if not w in stopwords.words('russian')]\n",
        "\n",
        "    return \" \".join(filtered_words)"
      ],
      "metadata": {
        "id": "Gesm8RzuhAiY"
      },
      "execution_count": 6,
      "outputs": []
    },
    {
      "cell_type": "code",
      "source": [
        "import nltk\n",
        "nltk.download('stopwords')\n",
        "prof_df['name'] = prof_df['name'].apply(preprocess)"
      ],
      "metadata": {
        "colab": {
          "base_uri": "https://localhost:8080/"
        },
        "id": "VmEb2Oh0e1Xw",
        "outputId": "11d824c3-136f-44a7-b07a-a0b3ff74dc8b"
      },
      "execution_count": 7,
      "outputs": [
        {
          "output_type": "stream",
          "name": "stderr",
          "text": [
            "[nltk_data] Downloading package stopwords to /root/nltk_data...\n",
            "[nltk_data]   Package stopwords is already up-to-date!\n",
            "<ipython-input-6-7c129dd79c03>:8: MarkupResemblesLocatorWarning: The input looks more like a filename than markup. You may want to open this file and pass the filehandle into Beautiful Soup.\n",
            "  soup = bs(sentence, features=\"html.parser\")\n",
            "<ipython-input-6-7c129dd79c03>:10: MarkupResemblesLocatorWarning: The input looks more like a filename than markup. You may want to open this file and pass the filehandle into Beautiful Soup.\n",
            "  soup = bs(sentence, features=\"html.parser\")\n"
          ]
        }
      ]
    },
    {
      "cell_type": "code",
      "source": [
        "prof_df"
      ],
      "metadata": {
        "colab": {
          "base_uri": "https://localhost:8080/",
          "height": 754
        },
        "id": "JKWt6N21jgTI",
        "outputId": "73ee09cb-b4f6-4afb-bb5c-462cd8dcf4d1"
      },
      "execution_count": 8,
      "outputs": [
        {
          "output_type": "execute_result",
          "data": {
            "text/plain": [
              "      Unnamed: 0       uid                                              name  \\\n",
              "0              0  35913555                        senior application support   \n",
              "1              1  35914198                                   lead translator   \n",
              "2              2  38744478                      техничка уборщик детский сад   \n",
              "3              3  35915133  грузчик упаковщик рабочий производственного цеха   \n",
              "4              4  35917009          управляющий кофейней starbucks г шымкент   \n",
              "...          ...       ...                                               ...   \n",
              "9995        9995  92706010                         учитель английского языка   \n",
              "9996        9996  92737062                                    smm специалист   \n",
              "9997        9997  92797994                    менеджер продажам оборудования   \n",
              "9998        9998  92739928                                          электрик   \n",
              "9999        9999  92799524                                 выездной менеджер   \n",
              "\n",
              "                                            description  \\\n",
              "0     &lt;strong&gt;Responsibilities:&lt;/strong&gt;...   \n",
              "1     &lt;p&gt;Job description&lt;/p&gt; &lt;ul&gt; ...   \n",
              "2     &lt;strong&gt;Обязанности:&lt;/strong&gt; &lt;...   \n",
              "3     &lt;p&gt;&lt;em&gt;Группа Компаний «Alina» - м...   \n",
              "4     &lt;p&gt;18 декабря 2015 года мы открыли перву...   \n",
              "...                                                 ...   \n",
              "9995  <strong>Обязанности:</strong> <ul> <li>Препода...   \n",
              "9996  <p><strong>Привет!</strong></p> <p>Мы крутое, ...   \n",
              "9997  <p><em>Уважаемый кандидат,</em></p> <p><em>Доб...   \n",
              "9998  <p><strong>Группа Компании «</strong><strong>A...   \n",
              "9999  <p>Эксклюзивный торговый представитель по прод...   \n",
              "\n",
              "                                      clean_description  \n",
              "0     responsibilities high technical background inf...  \n",
              "1     job description awareness company quality poli...  \n",
              "2     обязанности соблюдать чистоту порядок детском ...  \n",
              "3     группа компаний alina многоотраслевой холдинг ...  \n",
              "4     декабря года открыли первую казахстане кофейню...  \n",
              "...                                                 ...  \n",
              "9995  обязанности преподавание английского языка гру...  \n",
              "9996  привет крутое молодое яркое коммуникационное а...  \n",
              "9997  уважаемый кандидат добро пожаловать нашу стран...  \n",
              "9998  группа компании alina казахстанский многоотрас...  \n",
              "9999  эксклюзивный торговый представитель продажам п...  \n",
              "\n",
              "[10000 rows x 5 columns]"
            ],
            "text/html": [
              "\n",
              "  <div id=\"df-a1879833-6572-4cc4-b41c-2db5968ee020\" class=\"colab-df-container\">\n",
              "    <div>\n",
              "<style scoped>\n",
              "    .dataframe tbody tr th:only-of-type {\n",
              "        vertical-align: middle;\n",
              "    }\n",
              "\n",
              "    .dataframe tbody tr th {\n",
              "        vertical-align: top;\n",
              "    }\n",
              "\n",
              "    .dataframe thead th {\n",
              "        text-align: right;\n",
              "    }\n",
              "</style>\n",
              "<table border=\"1\" class=\"dataframe\">\n",
              "  <thead>\n",
              "    <tr style=\"text-align: right;\">\n",
              "      <th></th>\n",
              "      <th>Unnamed: 0</th>\n",
              "      <th>uid</th>\n",
              "      <th>name</th>\n",
              "      <th>description</th>\n",
              "      <th>clean_description</th>\n",
              "    </tr>\n",
              "  </thead>\n",
              "  <tbody>\n",
              "    <tr>\n",
              "      <th>0</th>\n",
              "      <td>0</td>\n",
              "      <td>35913555</td>\n",
              "      <td>senior application support</td>\n",
              "      <td>&amp;lt;strong&amp;gt;Responsibilities:&amp;lt;/strong&amp;gt;...</td>\n",
              "      <td>responsibilities high technical background inf...</td>\n",
              "    </tr>\n",
              "    <tr>\n",
              "      <th>1</th>\n",
              "      <td>1</td>\n",
              "      <td>35914198</td>\n",
              "      <td>lead translator</td>\n",
              "      <td>&amp;lt;p&amp;gt;Job description&amp;lt;/p&amp;gt; &amp;lt;ul&amp;gt; ...</td>\n",
              "      <td>job description awareness company quality poli...</td>\n",
              "    </tr>\n",
              "    <tr>\n",
              "      <th>2</th>\n",
              "      <td>2</td>\n",
              "      <td>38744478</td>\n",
              "      <td>техничка уборщик детский сад</td>\n",
              "      <td>&amp;lt;strong&amp;gt;Обязанности:&amp;lt;/strong&amp;gt; &amp;lt;...</td>\n",
              "      <td>обязанности соблюдать чистоту порядок детском ...</td>\n",
              "    </tr>\n",
              "    <tr>\n",
              "      <th>3</th>\n",
              "      <td>3</td>\n",
              "      <td>35915133</td>\n",
              "      <td>грузчик упаковщик рабочий производственного цеха</td>\n",
              "      <td>&amp;lt;p&amp;gt;&amp;lt;em&amp;gt;Группа Компаний «Alina» - м...</td>\n",
              "      <td>группа компаний alina многоотраслевой холдинг ...</td>\n",
              "    </tr>\n",
              "    <tr>\n",
              "      <th>4</th>\n",
              "      <td>4</td>\n",
              "      <td>35917009</td>\n",
              "      <td>управляющий кофейней starbucks г шымкент</td>\n",
              "      <td>&amp;lt;p&amp;gt;18 декабря 2015 года мы открыли перву...</td>\n",
              "      <td>декабря года открыли первую казахстане кофейню...</td>\n",
              "    </tr>\n",
              "    <tr>\n",
              "      <th>...</th>\n",
              "      <td>...</td>\n",
              "      <td>...</td>\n",
              "      <td>...</td>\n",
              "      <td>...</td>\n",
              "      <td>...</td>\n",
              "    </tr>\n",
              "    <tr>\n",
              "      <th>9995</th>\n",
              "      <td>9995</td>\n",
              "      <td>92706010</td>\n",
              "      <td>учитель английского языка</td>\n",
              "      <td>&lt;strong&gt;Обязанности:&lt;/strong&gt; &lt;ul&gt; &lt;li&gt;Препода...</td>\n",
              "      <td>обязанности преподавание английского языка гру...</td>\n",
              "    </tr>\n",
              "    <tr>\n",
              "      <th>9996</th>\n",
              "      <td>9996</td>\n",
              "      <td>92737062</td>\n",
              "      <td>smm специалист</td>\n",
              "      <td>&lt;p&gt;&lt;strong&gt;Привет!&lt;/strong&gt;&lt;/p&gt; &lt;p&gt;Мы крутое, ...</td>\n",
              "      <td>привет крутое молодое яркое коммуникационное а...</td>\n",
              "    </tr>\n",
              "    <tr>\n",
              "      <th>9997</th>\n",
              "      <td>9997</td>\n",
              "      <td>92797994</td>\n",
              "      <td>менеджер продажам оборудования</td>\n",
              "      <td>&lt;p&gt;&lt;em&gt;Уважаемый кандидат,&lt;/em&gt;&lt;/p&gt; &lt;p&gt;&lt;em&gt;Доб...</td>\n",
              "      <td>уважаемый кандидат добро пожаловать нашу стран...</td>\n",
              "    </tr>\n",
              "    <tr>\n",
              "      <th>9998</th>\n",
              "      <td>9998</td>\n",
              "      <td>92739928</td>\n",
              "      <td>электрик</td>\n",
              "      <td>&lt;p&gt;&lt;strong&gt;Группа Компании «&lt;/strong&gt;&lt;strong&gt;A...</td>\n",
              "      <td>группа компании alina казахстанский многоотрас...</td>\n",
              "    </tr>\n",
              "    <tr>\n",
              "      <th>9999</th>\n",
              "      <td>9999</td>\n",
              "      <td>92799524</td>\n",
              "      <td>выездной менеджер</td>\n",
              "      <td>&lt;p&gt;Эксклюзивный торговый представитель по прод...</td>\n",
              "      <td>эксклюзивный торговый представитель продажам п...</td>\n",
              "    </tr>\n",
              "  </tbody>\n",
              "</table>\n",
              "<p>10000 rows × 5 columns</p>\n",
              "</div>\n",
              "    <div class=\"colab-df-buttons\">\n",
              "\n",
              "  <div class=\"colab-df-container\">\n",
              "    <button class=\"colab-df-convert\" onclick=\"convertToInteractive('df-a1879833-6572-4cc4-b41c-2db5968ee020')\"\n",
              "            title=\"Convert this dataframe to an interactive table.\"\n",
              "            style=\"display:none;\">\n",
              "\n",
              "  <svg xmlns=\"http://www.w3.org/2000/svg\" height=\"24px\" viewBox=\"0 -960 960 960\">\n",
              "    <path d=\"M120-120v-720h720v720H120Zm60-500h600v-160H180v160Zm220 220h160v-160H400v160Zm0 220h160v-160H400v160ZM180-400h160v-160H180v160Zm440 0h160v-160H620v160ZM180-180h160v-160H180v160Zm440 0h160v-160H620v160Z\"/>\n",
              "  </svg>\n",
              "    </button>\n",
              "\n",
              "  <style>\n",
              "    .colab-df-container {\n",
              "      display:flex;\n",
              "      gap: 12px;\n",
              "    }\n",
              "\n",
              "    .colab-df-convert {\n",
              "      background-color: #E8F0FE;\n",
              "      border: none;\n",
              "      border-radius: 50%;\n",
              "      cursor: pointer;\n",
              "      display: none;\n",
              "      fill: #1967D2;\n",
              "      height: 32px;\n",
              "      padding: 0 0 0 0;\n",
              "      width: 32px;\n",
              "    }\n",
              "\n",
              "    .colab-df-convert:hover {\n",
              "      background-color: #E2EBFA;\n",
              "      box-shadow: 0px 1px 2px rgba(60, 64, 67, 0.3), 0px 1px 3px 1px rgba(60, 64, 67, 0.15);\n",
              "      fill: #174EA6;\n",
              "    }\n",
              "\n",
              "    .colab-df-buttons div {\n",
              "      margin-bottom: 4px;\n",
              "    }\n",
              "\n",
              "    [theme=dark] .colab-df-convert {\n",
              "      background-color: #3B4455;\n",
              "      fill: #D2E3FC;\n",
              "    }\n",
              "\n",
              "    [theme=dark] .colab-df-convert:hover {\n",
              "      background-color: #434B5C;\n",
              "      box-shadow: 0px 1px 3px 1px rgba(0, 0, 0, 0.15);\n",
              "      filter: drop-shadow(0px 1px 2px rgba(0, 0, 0, 0.3));\n",
              "      fill: #FFFFFF;\n",
              "    }\n",
              "  </style>\n",
              "\n",
              "    <script>\n",
              "      const buttonEl =\n",
              "        document.querySelector('#df-a1879833-6572-4cc4-b41c-2db5968ee020 button.colab-df-convert');\n",
              "      buttonEl.style.display =\n",
              "        google.colab.kernel.accessAllowed ? 'block' : 'none';\n",
              "\n",
              "      async function convertToInteractive(key) {\n",
              "        const element = document.querySelector('#df-a1879833-6572-4cc4-b41c-2db5968ee020');\n",
              "        const dataTable =\n",
              "          await google.colab.kernel.invokeFunction('convertToInteractive',\n",
              "                                                    [key], {});\n",
              "        if (!dataTable) return;\n",
              "\n",
              "        const docLinkHtml = 'Like what you see? Visit the ' +\n",
              "          '<a target=\"_blank\" href=https://colab.research.google.com/notebooks/data_table.ipynb>data table notebook</a>'\n",
              "          + ' to learn more about interactive tables.';\n",
              "        element.innerHTML = '';\n",
              "        dataTable['output_type'] = 'display_data';\n",
              "        await google.colab.output.renderOutput(dataTable, element);\n",
              "        const docLink = document.createElement('div');\n",
              "        docLink.innerHTML = docLinkHtml;\n",
              "        element.appendChild(docLink);\n",
              "      }\n",
              "    </script>\n",
              "  </div>\n",
              "\n",
              "\n",
              "<div id=\"df-0b5d7d9c-1171-4b89-8cb6-2e46c0c9c5a9\">\n",
              "  <button class=\"colab-df-quickchart\" onclick=\"quickchart('df-0b5d7d9c-1171-4b89-8cb6-2e46c0c9c5a9')\"\n",
              "            title=\"Suggest charts\"\n",
              "            style=\"display:none;\">\n",
              "\n",
              "<svg xmlns=\"http://www.w3.org/2000/svg\" height=\"24px\"viewBox=\"0 0 24 24\"\n",
              "     width=\"24px\">\n",
              "    <g>\n",
              "        <path d=\"M19 3H5c-1.1 0-2 .9-2 2v14c0 1.1.9 2 2 2h14c1.1 0 2-.9 2-2V5c0-1.1-.9-2-2-2zM9 17H7v-7h2v7zm4 0h-2V7h2v10zm4 0h-2v-4h2v4z\"/>\n",
              "    </g>\n",
              "</svg>\n",
              "  </button>\n",
              "\n",
              "<style>\n",
              "  .colab-df-quickchart {\n",
              "      --bg-color: #E8F0FE;\n",
              "      --fill-color: #1967D2;\n",
              "      --hover-bg-color: #E2EBFA;\n",
              "      --hover-fill-color: #174EA6;\n",
              "      --disabled-fill-color: #AAA;\n",
              "      --disabled-bg-color: #DDD;\n",
              "  }\n",
              "\n",
              "  [theme=dark] .colab-df-quickchart {\n",
              "      --bg-color: #3B4455;\n",
              "      --fill-color: #D2E3FC;\n",
              "      --hover-bg-color: #434B5C;\n",
              "      --hover-fill-color: #FFFFFF;\n",
              "      --disabled-bg-color: #3B4455;\n",
              "      --disabled-fill-color: #666;\n",
              "  }\n",
              "\n",
              "  .colab-df-quickchart {\n",
              "    background-color: var(--bg-color);\n",
              "    border: none;\n",
              "    border-radius: 50%;\n",
              "    cursor: pointer;\n",
              "    display: none;\n",
              "    fill: var(--fill-color);\n",
              "    height: 32px;\n",
              "    padding: 0;\n",
              "    width: 32px;\n",
              "  }\n",
              "\n",
              "  .colab-df-quickchart:hover {\n",
              "    background-color: var(--hover-bg-color);\n",
              "    box-shadow: 0 1px 2px rgba(60, 64, 67, 0.3), 0 1px 3px 1px rgba(60, 64, 67, 0.15);\n",
              "    fill: var(--button-hover-fill-color);\n",
              "  }\n",
              "\n",
              "  .colab-df-quickchart-complete:disabled,\n",
              "  .colab-df-quickchart-complete:disabled:hover {\n",
              "    background-color: var(--disabled-bg-color);\n",
              "    fill: var(--disabled-fill-color);\n",
              "    box-shadow: none;\n",
              "  }\n",
              "\n",
              "  .colab-df-spinner {\n",
              "    border: 2px solid var(--fill-color);\n",
              "    border-color: transparent;\n",
              "    border-bottom-color: var(--fill-color);\n",
              "    animation:\n",
              "      spin 1s steps(1) infinite;\n",
              "  }\n",
              "\n",
              "  @keyframes spin {\n",
              "    0% {\n",
              "      border-color: transparent;\n",
              "      border-bottom-color: var(--fill-color);\n",
              "      border-left-color: var(--fill-color);\n",
              "    }\n",
              "    20% {\n",
              "      border-color: transparent;\n",
              "      border-left-color: var(--fill-color);\n",
              "      border-top-color: var(--fill-color);\n",
              "    }\n",
              "    30% {\n",
              "      border-color: transparent;\n",
              "      border-left-color: var(--fill-color);\n",
              "      border-top-color: var(--fill-color);\n",
              "      border-right-color: var(--fill-color);\n",
              "    }\n",
              "    40% {\n",
              "      border-color: transparent;\n",
              "      border-right-color: var(--fill-color);\n",
              "      border-top-color: var(--fill-color);\n",
              "    }\n",
              "    60% {\n",
              "      border-color: transparent;\n",
              "      border-right-color: var(--fill-color);\n",
              "    }\n",
              "    80% {\n",
              "      border-color: transparent;\n",
              "      border-right-color: var(--fill-color);\n",
              "      border-bottom-color: var(--fill-color);\n",
              "    }\n",
              "    90% {\n",
              "      border-color: transparent;\n",
              "      border-bottom-color: var(--fill-color);\n",
              "    }\n",
              "  }\n",
              "</style>\n",
              "\n",
              "  <script>\n",
              "    async function quickchart(key) {\n",
              "      const quickchartButtonEl =\n",
              "        document.querySelector('#' + key + ' button');\n",
              "      quickchartButtonEl.disabled = true;  // To prevent multiple clicks.\n",
              "      quickchartButtonEl.classList.add('colab-df-spinner');\n",
              "      try {\n",
              "        const charts = await google.colab.kernel.invokeFunction(\n",
              "            'suggestCharts', [key], {});\n",
              "      } catch (error) {\n",
              "        console.error('Error during call to suggestCharts:', error);\n",
              "      }\n",
              "      quickchartButtonEl.classList.remove('colab-df-spinner');\n",
              "      quickchartButtonEl.classList.add('colab-df-quickchart-complete');\n",
              "    }\n",
              "    (() => {\n",
              "      let quickchartButtonEl =\n",
              "        document.querySelector('#df-0b5d7d9c-1171-4b89-8cb6-2e46c0c9c5a9 button');\n",
              "      quickchartButtonEl.style.display =\n",
              "        google.colab.kernel.accessAllowed ? 'block' : 'none';\n",
              "    })();\n",
              "  </script>\n",
              "</div>\n",
              "\n",
              "  <div id=\"id_28517b3c-2c24-4c39-a073-158fbaec7da8\">\n",
              "    <style>\n",
              "      .colab-df-generate {\n",
              "        background-color: #E8F0FE;\n",
              "        border: none;\n",
              "        border-radius: 50%;\n",
              "        cursor: pointer;\n",
              "        display: none;\n",
              "        fill: #1967D2;\n",
              "        height: 32px;\n",
              "        padding: 0 0 0 0;\n",
              "        width: 32px;\n",
              "      }\n",
              "\n",
              "      .colab-df-generate:hover {\n",
              "        background-color: #E2EBFA;\n",
              "        box-shadow: 0px 1px 2px rgba(60, 64, 67, 0.3), 0px 1px 3px 1px rgba(60, 64, 67, 0.15);\n",
              "        fill: #174EA6;\n",
              "      }\n",
              "\n",
              "      [theme=dark] .colab-df-generate {\n",
              "        background-color: #3B4455;\n",
              "        fill: #D2E3FC;\n",
              "      }\n",
              "\n",
              "      [theme=dark] .colab-df-generate:hover {\n",
              "        background-color: #434B5C;\n",
              "        box-shadow: 0px 1px 3px 1px rgba(0, 0, 0, 0.15);\n",
              "        filter: drop-shadow(0px 1px 2px rgba(0, 0, 0, 0.3));\n",
              "        fill: #FFFFFF;\n",
              "      }\n",
              "    </style>\n",
              "    <button class=\"colab-df-generate\" onclick=\"generateWithVariable('prof_df')\"\n",
              "            title=\"Generate code using this dataframe.\"\n",
              "            style=\"display:none;\">\n",
              "\n",
              "  <svg xmlns=\"http://www.w3.org/2000/svg\" height=\"24px\"viewBox=\"0 0 24 24\"\n",
              "       width=\"24px\">\n",
              "    <path d=\"M7,19H8.4L18.45,9,17,7.55,7,17.6ZM5,21V16.75L18.45,3.32a2,2,0,0,1,2.83,0l1.4,1.43a1.91,1.91,0,0,1,.58,1.4,1.91,1.91,0,0,1-.58,1.4L9.25,21ZM18.45,9,17,7.55Zm-12,3A5.31,5.31,0,0,0,4.9,8.1,5.31,5.31,0,0,0,1,6.5,5.31,5.31,0,0,0,4.9,4.9,5.31,5.31,0,0,0,6.5,1,5.31,5.31,0,0,0,8.1,4.9,5.31,5.31,0,0,0,12,6.5,5.46,5.46,0,0,0,6.5,12Z\"/>\n",
              "  </svg>\n",
              "    </button>\n",
              "    <script>\n",
              "      (() => {\n",
              "      const buttonEl =\n",
              "        document.querySelector('#id_28517b3c-2c24-4c39-a073-158fbaec7da8 button.colab-df-generate');\n",
              "      buttonEl.style.display =\n",
              "        google.colab.kernel.accessAllowed ? 'block' : 'none';\n",
              "\n",
              "      buttonEl.onclick = () => {\n",
              "        google.colab.notebook.generateWithVariable('prof_df');\n",
              "      }\n",
              "      })();\n",
              "    </script>\n",
              "  </div>\n",
              "\n",
              "    </div>\n",
              "  </div>\n"
            ],
            "application/vnd.google.colaboratory.intrinsic+json": {
              "type": "dataframe",
              "variable_name": "prof_df",
              "summary": "{\n  \"name\": \"prof_df\",\n  \"rows\": 10000,\n  \"fields\": [\n    {\n      \"column\": \"Unnamed: 0\",\n      \"properties\": {\n        \"dtype\": \"number\",\n        \"std\": 2886,\n        \"min\": 0,\n        \"max\": 9999,\n        \"num_unique_values\": 10000,\n        \"samples\": [\n          6252,\n          4684,\n          1731\n        ],\n        \"semantic_type\": \"\",\n        \"description\": \"\"\n      }\n    },\n    {\n      \"column\": \"uid\",\n      \"properties\": {\n        \"dtype\": \"number\",\n        \"std\": 19301619,\n        \"min\": 21536570,\n        \"max\": 95947839,\n        \"num_unique_values\": 10000,\n        \"samples\": [\n          29525321,\n          39797942,\n          37460813\n        ],\n        \"semantic_type\": \"\",\n        \"description\": \"\"\n      }\n    },\n    {\n      \"column\": \"name\",\n      \"properties\": {\n        \"dtype\": \"category\",\n        \"num_unique_values\": 4036,\n        \"samples\": [\n          \"\\u0431\\u0443\\u0445\\u0433\\u0430\\u043b\\u0442\\u0435\\u0440 \\u0443\\u0447\\u0435\\u0442\\u0443 \\u043e\\u0441\\u043d\\u043e\\u0432\\u043d\\u044b\\u0445 \\u0441\\u0440\\u0435\\u0434\\u0441\\u0442\\u0432 oi qaragai lesnaya skazka\",\n          \"\\u043e\\u043f\\u0435\\u0440\\u0430\\u0442\\u043e\\u0440 \\u0441\\u043a\\u043b\\u0430\\u0434\\u0430\",\n          \"\\u0441\\u043f\\u0435\\u0446\\u0438\\u0430\\u043b\\u0438\\u0441\\u0442 \\u0430\\u0443\\u0434\\u0438\\u0442\\u043e\\u0440\\u0441\\u043a\\u043e\\u0439 \\u0433\\u0440\\u0443\\u043f\\u043f\\u044b\"\n        ],\n        \"semantic_type\": \"\",\n        \"description\": \"\"\n      }\n    },\n    {\n      \"column\": \"description\",\n      \"properties\": {\n        \"dtype\": \"string\",\n        \"num_unique_values\": 9060,\n        \"samples\": [\n          \"&lt;strong&gt;\\u041e\\u0431\\u044f\\u0437\\u0430\\u043d\\u043d\\u043e\\u0441\\u0442\\u0438:&lt;/strong&gt; &lt;ul&gt; &lt;li&gt;\\u0420\\u0443\\u043a\\u043e\\u0432\\u043e\\u0434\\u0441\\u0442\\u0432\\u043e \\u043f\\u043e\\u0434\\u0440\\u0430\\u0437\\u0434\\u0435\\u043b\\u0435\\u043d\\u0438\\u0435\\u043c, \\u0444\\u043e\\u0440\\u043c\\u0438\\u0440\\u043e\\u0432\\u0430\\u043d\\u0438\\u0435 \\u043a\\u043e\\u043c\\u0430\\u043d\\u0434\\u044b, \\u043f\\u043e\\u0441\\u0442\\u0430\\u043d\\u043e\\u0432\\u043a\\u0430 \\u0437\\u0430\\u0434\\u0430\\u0447 \\u0441\\u043e\\u0442\\u0440\\u0443\\u0434\\u043d\\u0438\\u043a\\u0430\\u043c, \\u043a\\u043e\\u043d\\u0442\\u0440\\u043e\\u043b\\u044c \\u0438\\u0441\\u043f\\u043e\\u043b\\u043d\\u0435\\u043d\\u0438\\u044f;&lt;/li&gt; &lt;li&gt;\\u0421\\u043e\\u0437\\u0434\\u0430\\u043d\\u0438\\u0435 \\u0438 \\u043f\\u043e\\u0434\\u0434\\u0435\\u0440\\u0436\\u0430\\u043d\\u0438\\u0435 \\u0440\\u0430\\u0431\\u043e\\u0442\\u043e\\u0441\\u043f\\u043e\\u0441\\u043e\\u0431\\u043d\\u043e\\u0441\\u0442\\u0438 \\u0446\\u0435\\u043d\\u0442\\u0440\\u0430 \\u043f\\u0440\\u043e\\u0442\\u0438\\u0432\\u043e\\u0434\\u0435\\u0439\\u0441\\u0442\\u0432\\u0438\\u044f \\u043c\\u043e\\u0448\\u0435\\u043d\\u043d\\u0438\\u0447\\u0435\\u0441\\u0442\\u0432\\u0443 (fraud prevention) \\u0432 \\u0442\\u0440\\u0430\\u043d\\u0437\\u0430\\u043a\\u0446\\u0438\\u043e\\u043d\\u043d\\u044b\\u0445 \\u0438 \\u043a\\u0440\\u0435\\u0434\\u0438\\u0442\\u043d\\u044b\\u0445 \\u0441\\u0438\\u0441\\u0442\\u0435\\u043c\\u0430\\u0445;&lt;/li&gt; &lt;li&gt;\\u0420\\u0435\\u0430\\u043b\\u0438\\u0437\\u0430\\u0446\\u0438\\u044f \\u0442\\u0435\\u043a\\u0443\\u0449\\u0438\\u0445 \\u043f\\u0440\\u043e\\u0435\\u043a\\u0442\\u043e\\u0432 \\u043f\\u043e \\u043d\\u0430\\u043f\\u0440\\u0430\\u0432\\u043b\\u0435\\u043d\\u0438\\u044e;&lt;/li&gt; &lt;li&gt;\\u041e\\u0440\\u0433\\u0430\\u043d\\u0438\\u0437\\u0430\\u0446\\u0438\\u044f \\u0441\\u0438\\u0441\\u0442\\u0435\\u043c\\u044b \\u043c\\u043e\\u043d\\u0438\\u0442\\u043e\\u0440\\u0438\\u043d\\u0433\\u0430 \\u0441 \\u0446\\u0435\\u043b\\u044c\\u044e \\u0432\\u044b\\u044f\\u0432\\u043b\\u0435\\u043d\\u0438\\u044f \\u043c\\u043e\\u0448\\u0435\\u043d\\u043d\\u0438\\u0447\\u0435\\u0441\\u043a\\u0438\\u0445 \\u043a\\u0435\\u0439\\u0441\\u043e\\u0432, \\u0432 \\u0442\\u043e\\u043c \\u0447\\u0438\\u0441\\u043b\\u0435 \\u0440\\u0430\\u0437\\u0440\\u0430\\u0431\\u043e\\u0442\\u043a\\u0430 \\u043f\\u0440\\u0435\\u0434\\u0438\\u0442\\u043a\\u043e\\u0440\\u043e\\u0432 \\u043f\\u043e \\u0432\\u044b\\u044f\\u0432\\u043b\\u0435\\u043d\\u0438\\u044e \\u043c\\u043e\\u0448\\u0435\\u043d\\u043d\\u0438\\u0447\\u0435\\u0441\\u0442\\u0432\\u0430 \\u0434\\u043e \\u0444\\u043e\\u0440\\u043c\\u0438\\u0440\\u043e\\u0432\\u0430\\u043d\\u0438\\u044f \\u0444\\u0430\\u043a\\u0442\\u0438\\u0447\\u0435\\u0441\\u043a\\u0438\\u0445 \\u043f\\u043e\\u0442\\u0435\\u0440\\u044c \\u0438 \\u0440\\u0430\\u0437\\u0440\\u0430\\u0431\\u043e\\u0442\\u043a\\u0430 \\u043f\\u0440\\u043e\\u0446\\u0435\\u0434\\u0443\\u0440 \\u0440\\u0435\\u0430\\u0433\\u0438\\u0440\\u043e\\u0432\\u0430\\u043d\\u0438\\u044f \\u043d\\u0430 \\u0432\\u044b\\u044f\\u0432\\u043b\\u0435\\u043d\\u043d\\u043e\\u0435 \\u043c\\u043e\\u0448\\u0435\\u043d\\u043d\\u0438\\u0447\\u0435\\u0441\\u0442\\u0432\\u043e \\u0438 \\u043f\\u043e\\u0434\\u043e\\u0437\\u0440\\u0435\\u043d\\u0438\\u0439 \\u043d\\u0430 \\u043c\\u043e\\u0448\\u0435\\u043d\\u043d\\u0438\\u0447\\u0435\\u0441\\u0442\\u0432\\u043e;&lt;/li&gt; &lt;li&gt;\\u041f\\u0440\\u043e\\u0432\\u0435\\u0434\\u0435\\u043d\\u0438\\u0435 \\u0440\\u0430\\u0441\\u0441\\u043b\\u0435\\u0434\\u043e\\u0432\\u0430\\u043d\\u0438\\u0439, \\u0440\\u0430\\u0437\\u0440\\u0430\\u0431\\u043e\\u0442\\u043a\\u0430 \\u0438 \\u0432\\u043d\\u0435\\u0434\\u0440\\u0435\\u043d\\u0438\\u0435 \\u043f\\u0440\\u043e\\u0446\\u0435\\u0434\\u0443\\u0440 \\u043f\\u043e \\u043f\\u0440\\u043e\\u0442\\u0438\\u0432\\u043e\\u0434\\u0435\\u0439\\u0441\\u0442\\u0432\\u0438\\u044e \\u0432\\u044b\\u044f\\u0432\\u043b\\u0435\\u043d\\u043d\\u044b\\u043c \\u043a\\u0435\\u0439\\u0441\\u0430\\u043c \\u043c\\u043e\\u0448\\u0435\\u043d\\u043d\\u0438\\u0447\\u0435\\u0441\\u0442\\u0432\\u0430;&lt;/li&gt; &lt;li&gt;\\u0423\\u0447\\u0430\\u0441\\u0442\\u0438\\u0435 \\u0432 \\u043f\\u0440\\u043e\\u0433\\u043d\\u043e\\u0437\\u0438\\u0440\\u043e\\u0432\\u0430\\u043d\\u0438\\u0438 \\u043d\\u043e\\u0432\\u044b\\u0445 \\u0441\\u0445\\u0435\\u043c \\u043c\\u043e\\u0448\\u0435\\u043d\\u043d\\u0438\\u0447\\u0435\\u0441\\u0442\\u0432\\u0430 \\u0432 \\u0440\\u0430\\u0437\\u043b\\u0438\\u0447\\u043d\\u044b\\u0445 \\u043e\\u0442\\u0440\\u0430\\u0441\\u043b\\u044f\\u0445, \\u0430\\u043d\\u0430\\u043b\\u0438\\u0442\\u0438\\u043a\\u0430, \\u0440\\u0430\\u0437\\u0431\\u043e\\u0440 \\u0438\\u043d\\u0446\\u0438\\u0434\\u0435\\u043d\\u0442\\u043e\\u0432, \\u043f\\u0440\\u043e\\u0440\\u0430\\u0431\\u043e\\u0442\\u043a\\u0430 \\u0441\\u043e\\u043e\\u0442\\u0432\\u0435\\u0442\\u0441\\u0442\\u0432\\u0443\\u044e\\u0449\\u0438\\u0445 \\u0438\\u043d\\u0441\\u0442\\u0440\\u0443\\u043c\\u0435\\u043d\\u0442\\u043e\\u0432 \\u0434\\u043b\\u044f \\u043f\\u0440\\u0435\\u0434\\u043e\\u0442\\u0432\\u0440\\u0430\\u0449\\u0435\\u043d\\u0438\\u044f \\u043d\\u043e\\u0432\\u044b\\u0445 \\u043f\\u043e\\u0442\\u0435\\u043d\\u0446\\u0438\\u0430\\u043b\\u044c\\u043d\\u044b\\u0445 \\u0441\\u0445\\u0435\\u043c \\u043c\\u043e\\u0448\\u0435\\u043d\\u043d\\u0438\\u0447\\u0435\\u0441\\u0442\\u0432\\u0430;&lt;/li&gt; &lt;li&gt;\\u0412\\u0437\\u0430\\u0438\\u043c\\u043e\\u0434\\u0435\\u0439\\u0441\\u0442\\u0432\\u0438\\u0435 \\u0441 \\u043f\\u043e\\u0434\\u0440\\u0430\\u0437\\u0434\\u0435\\u043b\\u0435\\u043d\\u0438\\u044f\\u043c\\u0438 \\u0431\\u0430\\u043d\\u043a\\u0430, \\u0432 \\u0440\\u0430\\u043c\\u043a\\u0430\\u0445 \\u043a\\u043e\\u043c\\u043f\\u0435\\u0442\\u0435\\u043d\\u0446\\u0438\\u0438;&lt;/li&gt; &lt;li&gt;\\u041e\\u0431\\u0443\\u0447\\u0435\\u043d\\u0438\\u0435 \\u043f\\u0435\\u0440\\u0441\\u043e\\u043d\\u0430\\u043b\\u0430 \\u0431\\u0430\\u043d\\u043a\\u0430 \\u043f\\u043e \\u0432\\u043e\\u043f\\u0440\\u043e\\u0441\\u0430\\u043c \\u043f\\u0440\\u043e\\u0442\\u0438\\u0432\\u043e\\u0434\\u0435\\u0439\\u0441\\u0442\\u0432\\u0438\\u044f \\u043c\\u043e\\u0448\\u0435\\u043d\\u043d\\u0438\\u0447\\u0435\\u0441\\u0442\\u0432\\u0443;&lt;/li&gt; &lt;li&gt;\\u041f\\u043e\\u0434\\u0433\\u043e\\u0442\\u043e\\u0432\\u043a\\u0430 \\u0422\\u0417, \\u0422\\u0421, \\u043f\\u0440\\u0435\\u0437\\u0435\\u043d\\u0442\\u0430\\u0446\\u0438\\u0439, \\u0430\\u043d\\u0430\\u043b\\u0438\\u0442\\u0438\\u0447\\u0435\\u0441\\u043a\\u0438\\u0445 \\u043e\\u0442\\u0447\\u0435\\u0442\\u043e\\u0432, \\u0434\\u043e\\u043a\\u0443\\u043c\\u0435\\u043d\\u0442\\u0430\\u0446\\u0438\\u0438 \\u043f\\u043e \\u0432\\u0432\\u0435\\u0440\\u0435\\u043d\\u043d\\u043e\\u043c\\u0443 \\u043f\\u043e\\u0434\\u0440\\u0430\\u0437\\u0434\\u0435\\u043b\\u0435\\u043d\\u0438\\u044e;&lt;/li&gt; &lt;li&gt;\\u0420\\u0430\\u0437\\u0432\\u0438\\u0442\\u0438\\u0435 \\u0441\\u0443\\u0449\\u0435\\u0441\\u0442\\u0432\\u0443\\u044e\\u0449\\u0438\\u0445 \\u0432 \\u0426\\u0435\\u043d\\u0442\\u0440\\u0435 \\u043d\\u0430\\u043f\\u0440\\u0430\\u0432\\u043b\\u0435\\u043d\\u0438\\u0439 \\u0438 \\u0443\\u0441\\u043b\\u0443\\u0433;&lt;/li&gt; &lt;li&gt;\\u0420\\u0430\\u0437\\u0440\\u0430\\u0431\\u043e\\u0442\\u043a\\u0430 \\u043d\\u043e\\u0432\\u044b\\u0445 \\u0443\\u0441\\u043b\\u0443\\u0433 \\u0432 \\u043e\\u0431\\u043b\\u0430\\u0441\\u0442\\u0438 \\u0434\\u0435\\u044f\\u0442\\u0435\\u043b\\u044c\\u043d\\u043e\\u0441\\u0442\\u0438 \\u0426\\u0435\\u043d\\u0442\\u0440\\u0430.&lt;/li&gt; &lt;/ul&gt; &lt;strong&gt;\\u0422\\u0440\\u0435\\u0431\\u043e\\u0432\\u0430\\u043d\\u0438\\u044f:&lt;/strong&gt; &lt;ul&gt; &lt;li&gt;\\u0412\\u044b\\u0441\\u0448\\u0435\\u0435 \\u043e\\u0431\\u0440\\u0430\\u0437\\u043e\\u0432\\u0430\\u043d\\u0438\\u0435: \\u0442\\u0435\\u0445\\u043d\\u0438\\u0447\\u0435\\u0441\\u043a\\u043e\\u0435/\\u043c\\u0430\\u0442\\u0435\\u043c\\u0430\\u0442\\u0438\\u0447\\u0435\\u0441\\u043a\\u043e\\u0435/\\u0418\\u0422/\\u044d\\u043a\\u043e\\u043d\\u043e\\u043c\\u0438\\u0447\\u0435\\u0441\\u043a\\u043e\\u0435;&lt;/li&gt; &lt;li&gt;\\u0420\\u0443\\u043a\\u043e\\u0432\\u043e\\u0434\\u044f\\u0449\\u0438\\u0439 \\u043e\\u043f\\u044b\\u0442 + \\u043e\\u043f\\u044b\\u0442 \\u043d\\u0430 \\u0430\\u043d\\u0430\\u043b\\u043e\\u0433\\u0438\\u0447\\u043d\\u043e\\u0439 \\u043f\\u043e\\u0437\\u0438\\u0446\\u0438\\u0438/ \\u0432 \\u0441\\u043e\\u043f\\u0440\\u043e\\u0432\\u043e\\u0436\\u0434\\u0435\\u043d\\u0438\\u044f \\u0438\\u043b\\u0438 \\u0432\\u043d\\u0435\\u0434\\u0440\\u0435\\u043d\\u0438\\u0438 \\u0418\\u0422 \\u043f\\u0440\\u043e\\u0435\\u043a\\u0442\\u043e\\u0432;&lt;/li&gt; &lt;li&gt;\\u042d\\u043a\\u0441\\u043f\\u0435\\u0440\\u0442\\u043d\\u044b\\u0435 \\u0437\\u043d\\u0430\\u043d\\u0438\\u044f \\u0432 \\u043e\\u0431\\u043b\\u0430\\u0441\\u0442\\u0438 \\u0441\\u043e\\u0432\\u0440\\u0435\\u043c\\u0435\\u043d\\u043d\\u044b\\u0445 \\u0442\\u0435\\u0445\\u043d\\u043e\\u043b\\u043e\\u0433\\u0438\\u0439 \\u0438 \\u0440\\u0435\\u0448\\u0435\\u043d\\u0438\\u0439 \\u043f\\u043e \\u043d\\u0430\\u043f\\u0440\\u0430\\u0432\\u043b\\u0435\\u043d\\u0438\\u044f\\u043c:&lt;/li&gt; &lt;/ul&gt; &lt;ol&gt; &lt;li&gt;&lt;strong&gt;\\u041f\\u0440\\u043e\\u0442\\u0438\\u0432\\u043e\\u0434\\u0435\\u0439\\u0441\\u0442\\u0432\\u0438\\u0435 \\u043c\\u043e\\u0448\\u0435\\u043d\\u043d\\u0438\\u0447\\u0435\\u0441\\u0442\\u0432\\u0443;&lt;/strong&gt;&lt;/li&gt; &lt;li&gt;&lt;strong&gt;\\u0418\\u043d\\u0444\\u043e\\u0440\\u043c\\u0430\\u0446\\u0438\\u043e\\u043d\\u043d\\u0430\\u044f \\u0431\\u0435\\u0437\\u043e\\u043f\\u0430\\u0441\\u043d\\u043e\\u0441\\u0442\\u044c;&lt;/strong&gt;&lt;/li&gt; &lt;li&gt;&lt;strong&gt;\\u0418\\u043d\\u0444\\u043e\\u0440\\u043c\\u0430\\u0446\\u0438\\u043e\\u043d\\u043d\\u044b\\u0435 \\u0442\\u0435\\u0445\\u043d\\u043e\\u043b\\u043e\\u0433\\u0438\\u0438.&lt;/strong&gt;&lt;/li&gt; &lt;/ol&gt; &lt;ul&gt; &lt;li&gt;\\u041f\\u0440\\u0430\\u043a\\u0442\\u0438\\u0447\\u0435\\u0441\\u043a\\u0438\\u0439 \\u043e\\u043f\\u044b\\u0442 \\u0440\\u0430\\u0431\\u043e\\u0442\\u044b \\u0441 \\u0430\\u043d\\u0442\\u0438\\u0444\\u0440\\u043e\\u0434-\\u0441\\u0438\\u0441\\u0442\\u0435\\u043c\\u0430\\u043c\\u0438 (\\u043f\\u0440\\u043e\\u0435\\u043a\\u0442\\u0438\\u0440\\u043e\\u0432\\u0430\\u043d\\u0438\\u0435/\\u0440\\u0430\\u0437\\u0440\\u0430\\u0431\\u043e\\u0442\\u043a\\u0430/\\u0444\\u043e\\u0440\\u043c\\u0438\\u0440\\u043e\\u0432\\u0430\\u043d\\u0438\\u0435 \\u043f\\u0440\\u0430\\u0432\\u0438\\u043b/\\u0432\\u043d\\u0435\\u0434\\u0440\\u0435\\u043d\\u0438\\u0435/\\u044d\\u043a\\u0441\\u043f\\u043b\\u0443\\u0430\\u0442\\u0430\\u0446\\u0438\\u044f);&lt;/li&gt; &lt;li&gt;\\u0423\\u043c\\u0435\\u043d\\u0438\\u0435 \\u0432\\u044b\\u044f\\u0432\\u043b\\u044f\\u0442\\u044c \\u0432\\u0437\\u0430\\u0438\\u043c\\u043e\\u0441\\u0432\\u044f\\u0437\\u0438 \\u043f\\u0440\\u0438 \\u043e\\u0441\\u0443\\u0449\\u0435\\u0441\\u0442\\u0432\\u043b\\u0435\\u043d\\u0438\\u0438 \\u043f\\u0440\\u043e\\u0446\\u0435\\u0441\\u0441\\u0430 \\u0438 \\u043f\\u043e\\u0441\\u0442\\u0440\\u043e\\u0435\\u043d\\u0438\\u044f \\u0430\\u043d\\u0442\\u0438\\u0444\\u0440\\u043e\\u0434-\\u043f\\u0440\\u0430\\u0432\\u0438\\u043b;&lt;/li&gt; &lt;li&gt;\\u0417\\u043d\\u0430\\u043d\\u0438\\u0435 \\u043f\\u0440\\u0438\\u043d\\u0446\\u0438\\u043f\\u043e\\u0432 \\u0440\\u0430\\u0431\\u043e\\u0442\\u044b \\u043f\\u0440\\u0435\\u0434\\u043b\\u0430\\u0433\\u0430\\u0435\\u043c\\u044b\\u0445 \\u0440\\u044b\\u043d\\u043a\\u043e\\u043c \\u0430\\u043d\\u0442\\u0438\\u0444\\u0440\\u043e\\u0434 \\u0440\\u0435\\u0448\\u0435\\u043d\\u0438\\u0439;&lt;/li&gt; &lt;li&gt;\\u041e\\u043f\\u044b\\u0442 \\u0440\\u0430\\u0431\\u043e\\u0442\\u044b \\u0441 \\u0430\\u043d\\u0430\\u043b\\u0438\\u0442\\u0438\\u0447\\u0435\\u0441\\u043a\\u0438\\u043c\\u0438 \\u0438\\u043d\\u0441\\u0442\\u0440\\u0443\\u043c\\u0435\\u043d\\u0442\\u0430\\u043c\\u0438 \\u0438 \\u0431\\u043e\\u043b\\u044c\\u0448\\u0438\\u043c\\u0438 \\u0434\\u0430\\u043d\\u043d\\u044b\\u043c\\u0438 (big data);&lt;/li&gt; &lt;li&gt;\\u041f\\u043e\\u043d\\u0438\\u043c\\u0430\\u043d\\u0438\\u0435 \\u0440\\u0430\\u0431\\u043e\\u0442\\u044b \\u0441\\u0435\\u0442\\u0435\\u0432\\u044b\\u0445 \\u043f\\u0440\\u043e\\u0442\\u043e\\u043a\\u043e\\u043b\\u043e\\u0432/\\u0430\\u0440\\u0445\\u0438\\u0442\\u0435\\u043a\\u0442\\u0443\\u0440\\u044b \\u0432\\u0437\\u0430\\u0438\\u043c\\u043e\\u0434\\u0435\\u0439\\u0441\\u0442\\u0432\\u0438\\u044f \\u0418\\u0422 \\u0441\\u0438\\u0441\\u0442\\u0435\\u043c;&lt;/li&gt; &lt;li&gt;\\u041f\\u043e\\u043d\\u0438\\u043c\\u0430\\u043d\\u0438\\u0435 \\u043f\\u043e\\u0441\\u0442\\u0440\\u043e\\u0435\\u043d\\u0438\\u044f \\u0431\\u0430\\u043d\\u043a\\u043e\\u0432\\u0441\\u043a\\u0438\\u0445 \\u043f\\u0440\\u043e\\u0446\\u0435\\u0434\\u0443\\u0440;&lt;/li&gt; &lt;li&gt;\\u041e\\u043f\\u044b\\u0442 \\u0432 \\u043f\\u043e\\u0441\\u0442\\u0440\\u043e\\u0435\\u043d\\u0438\\u0438, \\u0430\\u043d\\u0430\\u043b\\u0438\\u0437\\u0435, \\u0440\\u0435\\u0438\\u043d\\u0436\\u0438\\u043d\\u0438\\u0440\\u0438\\u043d\\u0433\\u0435 \\u0431\\u0430\\u043d\\u043a\\u043e\\u0432\\u0441\\u043a\\u0438\\u0445 \\u0431\\u0438\\u0437\\u043d\\u0435\\u0441-\\u043f\\u0440\\u043e\\u0446\\u0435\\u0441\\u0441\\u043e\\u0432;&lt;/li&gt; &lt;li&gt;\\u041e\\u043f\\u044b\\u0442 \\u043f\\u043e\\u0441\\u0442\\u0440\\u043e\\u0435\\u043d\\u0438\\u044f \\u00ab\\u043f\\u043e\\u0440\\u0442\\u0440\\u0435\\u0442\\u0430 \\u043c\\u043e\\u0448\\u0435\\u043d\\u043d\\u0438\\u043a\\u0430\\u00bb \\u0432 \\u0421\\u0414\\u0411\\u041e, \\u0438 \\u0434\\u0440\\u0443\\u0433\\u0438\\u0445 \\u043a\\u0430\\u043d\\u0430\\u043b\\u0430\\u0445 \\u043e\\u0431\\u0441\\u043b\\u0443\\u0436\\u0438\\u0432\\u0430\\u043d\\u0438\\u044f \\u0411\\u0430\\u043d\\u043a\\u0430;&lt;/li&gt; &lt;li&gt;\\u0423\\u043c\\u0435\\u043d\\u0438\\u0435 \\u0432\\u0435\\u0441\\u0442\\u0438 \\u0440\\u0435\\u0437\\u0443\\u043b\\u044c\\u0442\\u0430\\u0442\\u0438\\u0432\\u043d\\u044b\\u0435 \\u043f\\u0435\\u0440\\u0435\\u0433\\u043e\\u0432\\u043e\\u0440\\u044b \\u043d\\u0430 \\u0443\\u0440\\u043e\\u0432\\u043d\\u0435 \\u0442\\u043e\\u043f-\\u043c\\u0435\\u043d\\u0435\\u0434\\u0436\\u043c\\u0435\\u043d\\u0442\\u0430 \\u0438 \\u0441\\u043e\\u0431\\u0441\\u0442\\u0432\\u0435\\u043d\\u043d\\u0438\\u043a\\u043e\\u0432 \\u0431\\u0438\\u0437\\u043d\\u0435\\u0441\\u0430;&lt;/li&gt; &lt;li&gt;\\u0421\\u043f\\u043e\\u0441\\u043e\\u0431\\u043d\\u043e\\u0441\\u0442\\u044c \\u0432\\u044b\\u0441\\u0442\\u0440\\u0430\\u0438\\u0432\\u0430\\u0442\\u044c \\u0438 \\u043f\\u043e\\u0434\\u0434\\u0435\\u0440\\u0436\\u0438\\u0432\\u0430\\u0442\\u044c \\u0434\\u0435\\u043b\\u043e\\u0432\\u044b\\u0435 \\u043e\\u0442\\u043d\\u043e\\u0448\\u0435\\u043d\\u0438\\u044f \\u0441 \\u043a\\u043b\\u0438\\u0435\\u043d\\u0442\\u0430\\u043c\\u0438 \\u0438 \\u043f\\u0430\\u0440\\u0442\\u043d\\u0435\\u0440\\u0430\\u043c\\u0438;&lt;/li&gt; &lt;li&gt;\\u0417\\u043d\\u0430\\u043d\\u0438\\u0435 \\u0438 \\u043e\\u043f\\u044b\\u0442 \\u043f\\u0440\\u0438\\u043c\\u0435\\u043d\\u0435\\u043d\\u0438\\u044f \\u0442\\u0435\\u0445\\u043d\\u043e\\u043b\\u043e\\u0433\\u0438\\u0439 \\u043c\\u0430\\u0448\\u0438\\u043d\\u043d\\u043e\\u0433\\u043e \\u043e\\u0431\\u0443\\u0447\\u0435\\u043d\\u0438\\u044f, SQL, \\u043f\\u0440\\u043e\\u0433\\u0440\\u0430\\u043c\\u043c\\u0438\\u0440\\u043e\\u0432\\u0430\\u043d\\u0438\\u044f \\u043f\\u0440\\u0438\\u0432\\u0435\\u0442\\u0441\\u0442\\u0432\\u0443\\u044e\\u0442\\u0441\\u044f;&lt;/li&gt; &lt;li&gt;\\u042d\\u043a\\u0441\\u043f\\u0435\\u0440\\u0442\\u0438\\u0437\\u0430 \\u043f\\u043e \\u0441\\u0438\\u0441\\u0442\\u0435\\u043c\\u0430\\u043c \\u0443\\u043f\\u0440\\u0430\\u0432\\u043b\\u0435\\u043d\\u0438\\u044f \\u0438\\u043d\\u0444\\u043e\\u0440\\u043c\\u0430\\u0446\\u0438\\u043e\\u043d\\u043d\\u043e\\u0439 \\u0431\\u0435\\u0437\\u043e\\u043f\\u0430\\u0441\\u043d\\u043e\\u0441\\u0442\\u044c\\u044e \\u0432 \\u0441\\u043e\\u043e\\u0442\\u0432\\u0435\\u0442\\u0441\\u0442\\u0432\\u0438\\u0438 \\u0441\\u043e \\u0441\\u0442\\u0430\\u043d\\u0434\\u0430\\u0440\\u0442\\u0430\\u043c\\u0438 ISO 27001, 27002 \\u0438 PCI \\u2013 DSS.&lt;/li&gt; &lt;/ul&gt; &lt;strong&gt;\\u0423\\u0441\\u043b\\u043e\\u0432\\u0438\\u044f:&lt;/strong&gt; &lt;ul&gt; &lt;li&gt;\\u043f\\u044f\\u0442\\u0438\\u0434\\u043d\\u0435\\u0432\\u043d\\u0443\\u044e \\u0440\\u0430\\u0431\\u043e\\u0447\\u0443\\u044e \\u043d\\u0435\\u0434\\u0435\\u043b\\u044e (\\u0441 09:00 \\u0434\\u043e 18:00);&lt;/li&gt; &lt;li&gt;\\u043a\\u043e\\u043c\\u0444\\u043e\\u0440\\u0442\\u043d\\u044b\\u0435 \\u0443\\u0441\\u043b\\u043e\\u0432\\u0438\\u044f \\u0442\\u0440\\u0443\\u0434\\u0430;&lt;/li&gt; &lt;li&gt;\\u043c\\u0435\\u0434\\u0438\\u0446\\u0438\\u043d\\u0441\\u043a\\u043e\\u0435 \\u0441\\u0442\\u0440\\u0430\\u0445\\u043e\\u0432\\u0430\\u043d\\u0438\\u0435;&lt;/li&gt; &lt;li&gt;\\u0441\\u043f\\u0435\\u0446\\u0438\\u0430\\u043b\\u044c\\u043d\\u044b\\u0435 \\u0443\\u0441\\u043b\\u043e\\u0432\\u0438\\u044f \\u0443 \\u043f\\u0430\\u0440\\u0442\\u043d\\u0435\\u0440\\u043e\\u0432 \\u0431\\u0430\\u043d\\u043a\\u0430;&lt;/li&gt; &lt;li&gt;\\u043e\\u0444\\u0438\\u0446\\u0438\\u0430\\u043b\\u044c\\u043d\\u043e\\u0435 \\u0442\\u0440\\u0443\\u0434\\u043e\\u0443\\u0441\\u0442\\u0440\\u043e\\u0439\\u0441\\u0442\\u0432\\u043e, \\u0441\\u043e\\u0433\\u043b\\u0430\\u0441\\u043d\\u043e \\u0422\\u041a \\u0420\\u041a;&lt;/li&gt; &lt;li&gt;\\u043b\\u043e\\u044f\\u043b\\u044c\\u043d\\u044b\\u0439 dress-code;&lt;/li&gt; &lt;li&gt;\\u0432\\u043e\\u0437\\u043c\\u043e\\u0436\\u043d\\u043e\\u0441\\u0442\\u044c \\u0443\\u0447\\u0430\\u0441\\u0442\\u0438\\u044f \\u0432 \\u0441\\u0430\\u043c\\u044b\\u0445 \\u0440\\u0430\\u0437\\u043d\\u044b\\u0445 \\u043f\\u0440\\u043e\\u0435\\u043a\\u0442\\u0430\\u0445, \\u0440\\u0430\\u0437\\u0432\\u0438\\u0442\\u0438\\u0435 \\u043a\\u0440\\u043e\\u0441\\u0441. \\u0444\\u0443\\u043d\\u043a\\u0446\\u0438\\u043e\\u043d\\u0430\\u043b\\u044c\\u043d\\u044b\\u0445 \\u043d\\u0430\\u0432\\u044b\\u043a\\u043e\\u0432.&lt;/li&gt; &lt;/ul&gt;\",\n          \"&lt;strong&gt;\\u041e\\u0431\\u044f\\u0437\\u0430\\u043d\\u043d\\u043e\\u0441\\u0442\\u0438:&lt;/strong&gt; &lt;ul&gt; &lt;li&gt; &lt;p&gt;\\u041e\\u0431\\u0435\\u0441\\u043f\\u0435\\u0447\\u0438\\u0432\\u0430\\u0435\\u0442 \\u043f\\u043e\\u0434\\u0434\\u0435\\u0440\\u0436\\u0430\\u043d\\u0438\\u0435 \\u0438\\u0441\\u043f\\u0440\\u0430\\u0432\\u043d\\u043e\\u0433\\u043e \\u0441\\u043e\\u0441\\u0442\\u043e\\u044f\\u043d\\u0438\\u044f, \\u0431\\u0435\\u0437\\u0430\\u0432\\u0430\\u0440\\u0438\\u0439\\u043d\\u0443\\u044e \\u0438 \\u043d\\u0430\\u0434\\u0435\\u0436\\u043d\\u0443\\u044e \\u0440\\u0430\\u0431\\u043e\\u0442\\u0443 \\u043e\\u0431\\u0441\\u043b\\u0443\\u0436\\u0438\\u0432\\u0430\\u0435\\u043c\\u044b\\u0445 \\u0443\\u0441\\u0442\\u0440\\u043e\\u0439\\u0441\\u0442\\u0432 \\u0438 \\u044d\\u043b\\u0435\\u043a\\u0442\\u0440\\u043e\\u043e\\u0431\\u043e\\u0440\\u0443\\u0434\\u043e\\u0432\\u0430\\u043d\\u0438\\u044f.&lt;/p&gt; &lt;/li&gt; &lt;li&gt; &lt;p&gt;\\u041f\\u0440\\u043e\\u0438\\u0437\\u0432\\u043e\\u0434\\u0438\\u0442 \\u043c\\u043e\\u043d\\u0442\\u0430\\u0436 \\u043d\\u043e\\u0432\\u044b\\u0445 \\u044d\\u043b\\u0435\\u043a\\u0442\\u0440\\u0438\\u0447\\u0435\\u0441\\u043a\\u0438\\u0445 \\u0441\\u0435\\u0442\\u0435\\u0439.&lt;/p&gt; &lt;/li&gt; &lt;li&gt; &lt;p&gt;\\u041f\\u0440\\u043e\\u0432\\u043e\\u0434\\u0438\\u0442 \\u043f\\u043b\\u0430\\u043d\\u043e\\u0432\\u043e-\\u043f\\u0440\\u0435\\u0434\\u0443\\u043f\\u0440\\u0435\\u0434\\u0438\\u0442\\u0435\\u043b\\u044c\\u043d\\u044b\\u0439 \\u0440\\u0435\\u043c\\u043e\\u043d\\u0442 (\\u041f\\u041f\\u0420) \\u044d\\u043b\\u0435\\u043a\\u0442\\u0440\\u0438\\u0447\\u0435\\u0441\\u043a\\u043e\\u0439 \\u0447\\u0430\\u0441\\u0442\\u0438 \\u043e\\u0431\\u043e\\u0440\\u0443\\u0434\\u043e\\u0432\\u0430\\u043d\\u0438\\u044f \\u0441\\u043e\\u0433\\u043b\\u0430\\u0441\\u043d\\u043e \\u0433\\u0440\\u0430\\u0444\\u0438\\u043a\\u0430 \\u041f\\u041f\\u0420.&lt;/p&gt; &lt;/li&gt; &lt;li&gt; &lt;p&gt;\\u0412\\u044b\\u044f\\u0432\\u043b\\u044f\\u0435\\u0442 \\u043f\\u0440\\u0438\\u0447\\u0438\\u043d\\u044b \\u0438\\u0437\\u043d\\u043e\\u0441\\u0430, \\u043f\\u0440\\u0438\\u043d\\u0438\\u043c\\u0430\\u0435\\u0442 \\u043c\\u0435\\u0440\\u044b \\u043f\\u043e \\u0438\\u0445 \\u043f\\u0440\\u0435\\u0434\\u0443\\u043f\\u0440\\u0435\\u0436\\u0434\\u0435\\u043d\\u0438\\u044e \\u0438 \\u0443\\u0441\\u0442\\u0440\\u0430\\u043d\\u0435\\u043d\\u0438\\u044e.&lt;/p&gt; &lt;/li&gt; &lt;li&gt; &lt;p&gt;\\u041e\\u0431\\u0435\\u0441\\u043f\\u0435\\u0447\\u0438\\u0432\\u0430\\u0435\\u0442 \\u043f\\u0440\\u0430\\u0432\\u0438\\u043b\\u044c\\u043d\\u0443\\u044e \\u044d\\u043a\\u0441\\u043f\\u043b\\u0443\\u0430\\u0442\\u0430\\u0446\\u0438\\u044e, \\u0441\\u0432\\u043e\\u0435\\u0432\\u0440\\u0435\\u043c\\u0435\\u043d\\u043d\\u044b\\u0439 \\u043a\\u0430\\u0447\\u0435\\u0441\\u0442\\u0432\\u0435\\u043d\\u043d\\u044b\\u0439 \\u0440\\u0435\\u043c\\u043e\\u043d\\u0442 \\u0432 \\u0441\\u043e\\u043e\\u0442\\u0432\\u0435\\u0442\\u0441\\u0442\\u0432\\u0438\\u0438 \\u0441 \\u0438\\u043d\\u0441\\u0442\\u0440\\u0443\\u043a\\u0446\\u0438\\u044f\\u043c\\u0438 \\u043f\\u043e \\u0442\\u0435\\u0445\\u043d\\u0438\\u0447\\u0435\\u0441\\u043a\\u043e\\u043c\\u0443 \\u043e\\u0431\\u0441\\u043b\\u0443\\u0436\\u0438\\u0432\\u0430\\u043d\\u0438\\u044e, \\u0434\\u0435\\u0439\\u0441\\u0442\\u0432\\u0443\\u044e\\u0449\\u0438\\u043c\\u0438 \\u0442\\u0435\\u0445\\u043d\\u0438\\u0447\\u0435\\u0441\\u043a\\u0438\\u043c\\u0438 \\u0443\\u0441\\u043b\\u043e\\u0432\\u0438\\u044f\\u043c\\u0438 \\u0438 \\u043d\\u043e\\u0440\\u043c\\u0430\\u043c\\u0438 \\u0438 \\u043e\\u0431\\u0441\\u043b\\u0443\\u0436\\u0438\\u0432\\u0430\\u043d\\u0438\\u0435 \\u0442\\u0440\\u0430\\u043d\\u0441\\u0444\\u043e\\u0440\\u043c\\u0430\\u0442\\u043e\\u0440\\u0430 \\u0422\\u041f \\u0438 \\u044d\\u043b\\u0435\\u043a\\u0442\\u0440\\u0438\\u0447\\u0435\\u0441\\u043a\\u0438\\u0445 \\u0441\\u0435\\u0442\\u0435\\u0439 \\u043f\\u0440\\u0435\\u0434\\u043f\\u0440\\u0438\\u044f\\u0442\\u0438\\u044f.&lt;/p&gt; &lt;/li&gt; &lt;li&gt; &lt;p&gt;\\u041b\\u0438\\u043a\\u0432\\u0438\\u0434\\u0438\\u0440\\u0443\\u0435\\u0442 \\u043d\\u0435\\u0438\\u0441\\u043f\\u0440\\u0430\\u0432\\u043d\\u043e\\u0441\\u0442\\u0438 \\u0432 \\u0440\\u0430\\u0431\\u043e\\u0442\\u0435 \\u0443\\u0441\\u0442\\u0440\\u043e\\u0439\\u0441\\u0442\\u0432, \\u0438\\u0445 \\u0440\\u0435\\u043c\\u043e\\u043d\\u0442, \\u043c\\u043e\\u043d\\u0442\\u0430\\u0436 \\u0438 \\u0440\\u0435\\u0433\\u0443\\u043b\\u0438\\u0440\\u043e\\u0432\\u043a\\u0443.&lt;/p&gt; &lt;/li&gt; &lt;li&gt; &lt;p&gt;\\u0438 \\u0434\\u0440\\u0443\\u0433\\u0438\\u0435 \\u043e\\u0431\\u044f\\u0437\\u0430\\u043d\\u043d\\u043e\\u0441\\u0442\\u0438.&lt;/p&gt; &lt;/li&gt; &lt;/ul&gt; &lt;strong&gt;\\u0422\\u0440\\u0435\\u0431\\u043e\\u0432\\u0430\\u043d\\u0438\\u044f:&lt;/strong&gt; &lt;ul&gt; &lt;li&gt;\\u041e\\u0431\\u0440\\u0430\\u0437\\u043e\\u0432\\u0430\\u043d\\u0438\\u0435 \\u2013 \\u0441\\u0440\\u0435\\u0434\\u043d\\u0435-\\u0442\\u0435\\u0445\\u043d\\u0438\\u0447\\u0435\\u0441\\u043a\\u043e\\u0435.&lt;/li&gt; &lt;li&gt;\\u043d\\u0435 \\u043d\\u0438\\u0436\\u0435 IV \\u0433\\u0440\\u0443\\u043f\\u043f\\u044b \\u043f\\u043e \\u044d\\u043b\\u0435\\u043a\\u0442\\u0440\\u043e\\u0431\\u0435\\u0437\\u043e\\u043f\\u0430\\u0441\\u043d\\u043e\\u0441\\u0442\\u0438.&lt;/li&gt; &lt;li&gt;\\u0437\\u043d\\u0430\\u043d\\u0438\\u0435 \\u043e\\u0441\\u043d\\u043e\\u0432 \\u044d\\u043b\\u0435\\u043a\\u0442\\u0440\\u043e\\u0441\\u043d\\u0430\\u0431\\u0436\\u0435\\u043d\\u0438\\u044f, \\u0443\\u0441\\u0442\\u0440\\u043e\\u0439\\u0441\\u0442\\u0432\\u0430 \\u0440\\u0430\\u0441\\u043f\\u0440\\u0435\\u0434\\u0435\\u043b\\u0438\\u0442\\u0435\\u043b\\u044c\\u043d\\u044b\\u0445 \\u044d\\u043b\\u0435\\u043a\\u0442\\u0440\\u0438\\u0447\\u0435\\u0441\\u043a\\u0438\\u0445 \\u0441\\u0435\\u0442\\u0435\\u0439 \\u0438 \\u044d\\u043b\\u0435\\u043a\\u0442\\u0440\\u043e\\u043f\\u0438\\u0442\\u0430\\u044e\\u0449\\u0438\\u0445 \\u0443\\u0441\\u0442\\u0430\\u043d\\u043e\\u0432\\u043e\\u043a.&lt;/li&gt; &lt;li&gt;\\u0417\\u043d\\u0430\\u043d\\u0438\\u0435 \\u0440\\u0443\\u043a\\u043e\\u0432\\u043e\\u0434\\u044f\\u0449\\u0438\\u0445 \\u0434\\u043e\\u043a\\u0443\\u043c\\u0435\\u043d\\u0442\\u043e\\u0432 \\u043f\\u043e \\u0443\\u0441\\u0442\\u0440\\u043e\\u0439\\u0441\\u0442\\u0432\\u0443 \\u0438 \\u044d\\u043a\\u0441\\u043f\\u043b\\u0443\\u0430\\u0442\\u0430\\u0446\\u0438\\u0438 \\u044d\\u043b\\u0435\\u043a\\u0442\\u0440\\u043e\\u0443\\u0441\\u0442\\u0430\\u043d\\u043e\\u0432\\u043e\\u043a, \\u0442\\u0435\\u0445\\u043d\\u0438\\u043a\\u0435 \\u0431\\u0435\\u0437\\u043e\\u043f\\u0430\\u0441\\u043d\\u043e\\u0441\\u0442\\u0438 \\u0438 \\u043e\\u0445\\u0440\\u0430\\u043d\\u0435 \\u0442\\u0440\\u0443\\u0434\\u0430.&lt;/li&gt; &lt;li&gt;\\u0421\\u0442\\u0430\\u0436 \\u0438 \\u043e\\u043f\\u044b\\u0442 \\u0440\\u0430\\u0431\\u043e\\u0442\\u044b \\u2013 \\u043d\\u0435 \\u043c\\u0435\\u043d\\u0435\\u0435 3 \\u043b\\u0435\\u0442 \\u043f\\u043e \\u0441\\u043f\\u0435\\u0446\\u0438\\u0430\\u043b\\u044c\\u043d\\u043e\\u0441\\u0442\\u0438.&lt;/li&gt; &lt;/ul&gt; &lt;strong&gt;\\u0423\\u0441\\u043b\\u043e\\u0432\\u0438\\u044f:&lt;/strong&gt; &lt;ul&gt; &lt;li&gt;\\u0448\\u0435\\u0441\\u0442\\u0438\\u0434\\u043d\\u0435\\u0432\\u043d\\u0430\\u044f \\u0440\\u0430\\u0431\\u043e\\u0447\\u0430\\u044f \\u043d\\u0435\\u0434\\u0435\\u043b\\u044f&lt;/li&gt; &lt;li&gt;\\u043e\\u043f\\u043b\\u0430\\u0447\\u0438\\u0432\\u0430\\u0435\\u043c\\u044b\\u0439 \\u0442\\u0440\\u0443\\u0434\\u043e\\u0432\\u043e\\u0439 \\u043e\\u0442\\u043f\\u0443\\u0441\\u043a \\u0432 \\u043a\\u043e\\u043b\\u0438\\u0447\\u0435\\u0441\\u0442\\u0432\\u0435 24 \\u043a\\u0430\\u043b\\u0435\\u043d\\u0434\\u0430\\u0440\\u043d\\u044b\\u0445 \\u0434\\u043d\\u0435\\u0439&lt;/li&gt; &lt;li&gt;\\u043e\\u043f\\u043b\\u0430\\u0442\\u0430 \\u043f\\u0440\\u0438 \\u0441\\u043e\\u0431\\u0435\\u0441\\u0435\\u0434\\u043e\\u0432\\u0430\\u043d\\u0438\\u0438&lt;/li&gt; &lt;/ul&gt;\",\n          \"&lt;strong&gt;\\u041e\\u0431\\u044f\\u0437\\u0430\\u043d\\u043d\\u043e\\u0441\\u0442\\u0438:&lt;/strong&gt; &lt;ul&gt; &lt;li&gt;\\u0441\\u0430\\u043c\\u043e\\u0441\\u0442\\u043e\\u044f\\u0442\\u0435\\u043b\\u044c\\u043d\\u043e\\u0435 \\u0432\\u0435\\u0434\\u0435\\u043d\\u0438\\u0435 \\u0431\\u0443\\u0445\\u0433\\u0430\\u043b\\u0442\\u0435\\u0440\\u0441\\u043a\\u043e\\u0433\\u043e \\u0438 \\u043d\\u0430\\u043b\\u043e\\u0433\\u043e\\u0432\\u043e\\u0433\\u043e \\u0443\\u0447\\u0435\\u0442\\u0430 \\u043f\\u0440\\u0435\\u0434\\u043f\\u0440\\u0438\\u044f\\u0442\\u0438\\u044f:&lt;/li&gt; &lt;li&gt;\\u0443\\u0447\\u0435\\u0442 \\u0440\\u0435\\u0430\\u043b\\u0438\\u0437\\u0430\\u0446\\u0438\\u0438, \\u0443\\u0447\\u0435\\u0442 \\u0422\\u041c\\u0417/\\u041e\\u0421/\\u043d\\u0435\\u0437\\u0430\\u0432\\u0435\\u0440\\u0448\\u0435\\u043d\\u043d\\u043e\\u0433\\u043e \\u0441\\u0442\\u0440\\u043e\\u0438\\u0442\\u0435\\u043b\\u044c\\u0441\\u0442\\u0432\\u0430,&lt;/li&gt; &lt;li&gt;\\u0443\\u0447\\u0435\\u0442 \\u0443\\u0441\\u043b\\u0443\\u0433 \\u043e\\u0442 \\u043f\\u043e\\u0441\\u0442\\u0430\\u0432\\u0449\\u0438\\u043a\\u043e\\u043c, \\u0440\\u0430\\u0441\\u0447\\u0435\\u0442\\u044b \\u0441 \\u0441\\u043e\\u0442\\u0440\\u0443\\u0434\\u043d\\u0438\\u043a\\u0430\\u043c\\u0438 (2 \\u0447\\u0435\\u043b),&lt;/li&gt; &lt;li&gt;\\u043f\\u0440\\u043e\\u0432\\u0435\\u0440\\u043a\\u0430 \\u043e\\u0441\\u043d\\u043e\\u0432\\u0430\\u043d\\u0438\\u044f \\u043f\\u0435\\u0440\\u0432\\u0438\\u0447\\u043d\\u044b\\u0445 \\u0434\\u043e\\u043a\\u0443\\u043c\\u0435\\u043d\\u0442\\u043e\\u0432 \\u0441 \\u0443\\u0441\\u043b\\u043e\\u0432\\u0438\\u044f\\u043c\\u0438 \\u0434\\u043e\\u0433\\u043e\\u0432\\u043e\\u0440\\u043d\\u044b\\u0445 \\u043e\\u0442\\u043d\\u043e\\u0448\\u0435\\u043d\\u0438\\u0439 \\u0438 \\u0444\\u0430\\u043a\\u0442\\u043e\\u043c \\u043e\\u043a\\u0430\\u0437\\u0430\\u043d\\u0438\\u044f \\u0443\\u0441\\u043b\\u0443\\u0433\\u0438,&lt;/li&gt; &lt;li&gt;\\u043f\\u0435\\u0440\\u0435\\u0432\\u044b\\u0441\\u0442\\u0430\\u0432\\u043b\\u0435\\u043d\\u0438\\u0435 \\u0440\\u0430\\u0441\\u0445\\u043e\\u0434\\u043e\\u0432, \\u043a\\u043e\\u043d\\u0442\\u0440\\u043e\\u043b\\u044c \\u043e\\u0442\\u0440\\u0430\\u0436\\u0435\\u043d\\u0438\\u044f \\u043e\\u043f\\u0435\\u0440\\u0430\\u0446\\u0438\\u0439 \\u043d\\u0430 \\u0441\\u0447\\u0435\\u0442\\u0430\\u0445 \\u0443\\u0447\\u0435\\u0442\\u0430,&lt;/li&gt; &lt;li&gt;\\u0435\\u0436\\u0435\\u043c\\u0435\\u0441\\u044f\\u0447\\u043d\\u0430\\u044f \\u0441\\u0432\\u0435\\u0440\\u043a\\u0430 \\u0441 \\u043f\\u043e\\u043a\\u0443\\u043f\\u0430\\u0442\\u0435\\u043b\\u044f\\u043c\\u0438 \\u0438 \\u043f\\u043e\\u0441\\u0442\\u0430\\u0432\\u0449\\u0438\\u043a\\u0430\\u043c\\u0438,&lt;/li&gt; &lt;li&gt;\\u043e\\u0444\\u043e\\u0440\\u043c\\u043b\\u0435\\u043d\\u0438\\u0435 \\u0440\\u0435\\u0435\\u0441\\u0442\\u0440\\u0430 \\u043f\\u043b\\u0430\\u0442\\u0435\\u0436\\u0435\\u0439 \\u0438 \\u0432\\u0432\\u043e\\u0434 \\u0437\\u0430\\u044f\\u0432\\u043e\\u043a \\u043d\\u0430 \\u043e\\u043f\\u043b\\u0430\\u0442\\u0443 \\u0432 1\\u0421,&lt;/li&gt; &lt;li&gt;\\u0444\\u043e\\u0440\\u043c\\u0438\\u0440\\u043e\\u0432\\u0430\\u043d\\u0438\\u0435 \\u043d\\u0430\\u043b\\u043e\\u0433\\u043e\\u0432\\u044b\\u0445 \\u0440\\u0435\\u0433\\u0438\\u0441\\u0442\\u0440\\u043e\\u0432,&lt;/li&gt; &lt;li&gt;\\u0443\\u0447\\u0435\\u0442 \\u0438 \\u0440\\u0430\\u0441\\u0447\\u0435\\u0442\\u044b \\u043f\\u043e \\u043d\\u0430\\u043b\\u043e\\u0433\\u043e\\u0432\\u044b\\u043c \\u043e\\u0431\\u044f\\u0437\\u0430\\u0442\\u0435\\u043b\\u044c\\u0441\\u0442\\u0432\\u0430\\u043c (\\u043a\\u043f\\u043d, \\u043d\\u0434\\u0441, \\u0438\\u043f\\u043d, \\u0441\\u043d, \\u043e\\u0441\\u043c\\u0441, \\u043d\\u0430\\u043b\\u043e\\u0433 \\u043d\\u0430 \\u0438\\u043c\\u0443\\u0449\\u0435\\u0441\\u0442\\u0432\\u043e, \\u043d\\u0430\\u043b\\u043e\\u0433 \\u043d\\u0430 \\u0437\\u0435\\u043c\\u043b\\u044e, \\u043d\\u0430\\u043b\\u043e\\u0433 \\u043d\\u0430 \\u0442\\u0440\\u0430\\u043d\\u0441\\u043f\\u043e\\u0440\\u0442, \\u044d\\u043c\\u0438\\u0441\\u0441\\u0438\\u044f \\u0432 \\u043e\\u043a\\u0440.\\u0441\\u0440\\u0435\\u0434\\u0443),&lt;/li&gt; &lt;li&gt;\\u043f\\u0440\\u043e\\u0432\\u0435\\u0434\\u0435\\u043d\\u0438\\u0435 \\u0438\\u043d\\u0432\\u0435\\u043d\\u0442\\u0430\\u0440\\u0438\\u0437\\u0430\\u0446\\u0438\\u0438, \\u043f\\u043e\\u0434\\u0433\\u043e\\u0442\\u043e\\u0432\\u043a\\u0430 \\u0443\\u043f\\u0440\\u0430\\u0432\\u043b\\u0435\\u043d\\u0447\\u0435\\u0441\\u043a\\u043e\\u0439 \\u043e\\u0442\\u0447\\u0435\\u0442\\u043d\\u043e\\u0441\\u0442\\u0438&lt;/li&gt; &lt;/ul&gt; &lt;strong&gt;\\u0422\\u0440\\u0435\\u0431\\u043e\\u0432\\u0430\\u043d\\u0438\\u044f:&lt;/strong&gt; &lt;ul&gt; &lt;li&gt;\\u0412\\u044b\\u0441\\u0448\\u0435\\u0435 \\u044d\\u043a\\u043e\\u043d\\u043e\\u043c\\u0438\\u0447\\u0435\\u0441\\u043a\\u043e\\u0435 \\u043e\\u0431\\u0440\\u0430\\u0437\\u043e\\u0432\\u0430\\u043d\\u0438\\u0435&lt;/li&gt; &lt;li&gt;\\u0417\\u043d\\u0430\\u043d\\u0438\\u0435 \\u041c\\u0421\\u0424\\u041e,&lt;/li&gt; &lt;li&gt;\\u0417\\u0430\\u043a\\u043e\\u043d\\u043e\\u0434\\u0430\\u0442\\u0435\\u043b\\u044c\\u0441\\u0442\\u0432\\u0430 \\u043e \\u0431\\u0443\\u0445\\u0443\\u0447\\u0435\\u0442\\u0435 \\u0438 \\u043d\\u0430\\u043b\\u043e\\u0433\\u043e\\u0432\\u043e\\u0433\\u043e \\u0437\\u0430\\u043a\\u043e\\u043d\\u043e\\u0434\\u0430\\u0442\\u0435\\u043b\\u044c\\u0441\\u0442\\u0432\\u0430 \\u0441 \\u043f\\u0440\\u0430\\u043a\\u0442\\u0438\\u0447\\u0435\\u0441\\u043a\\u0438\\u043c \\u043f\\u0440\\u0438\\u043c\\u0435\\u043d\\u0435\\u043d\\u0438\\u0435\\u043c (\\u0444.100.00, 300.00, 200.00, 870.00+\\u0440\\u0430\\u0441\\u0447\\u0435\\u0442\\u044b, 700.00+\\u0440\\u0430\\u0441\\u0447\\u0435\\u0442\\u044b)&lt;/li&gt; &lt;/ul&gt; &lt;strong&gt;\\u041f\\u0440\\u0435\\u0434\\u043f\\u043e\\u0447\\u0442\\u0435\\u043d\\u0438\\u0435 \\u043e\\u0442\\u0434\\u0430\\u0435\\u0442\\u0441\\u044f \\u043a\\u0430\\u043d\\u0434\\u0438\\u0434\\u0430\\u0442\\u0430\\u043c \\u0441 \\u043e\\u043f\\u044b\\u0442\\u043e\\u043c \\u0440\\u0430\\u0431\\u043e\\u0442\\u044b \\u043d\\u0430 \\u043f\\u0440\\u0435\\u0434\\u043f\\u0440\\u0438\\u044f\\u0442\\u0438\\u044f\\u0445 \\u0431\\u0443\\u0445\\u0433\\u0430\\u043b\\u0442\\u0435\\u0440\\u043e\\u043c \\u0432 \\u0435\\u0434\\u0438\\u043d\\u0441\\u0442\\u0432\\u0435\\u043d\\u043d\\u043e\\u043c \\u043b\\u0438\\u0446\\u0435&lt;/strong&gt; &lt;p&gt; &lt;/p&gt;\"\n        ],\n        \"semantic_type\": \"\",\n        \"description\": \"\"\n      }\n    },\n    {\n      \"column\": \"clean_description\",\n      \"properties\": {\n        \"dtype\": \"string\",\n        \"num_unique_values\": 8855,\n        \"samples\": [\n          \"\\u043e\\u0431\\u044f\\u0437\\u0430\\u043d\\u043d\\u043e\\u0441\\u0442\\u0438 \\u0443\\u0432\\u0435\\u043b\\u0438\\u0447\\u0438\\u0432\\u0430\\u0442\\u044c \\u0434\\u0438\\u0441\\u0442\\u0440\\u0438\\u0431\\u044c\\u044e\\u0446\\u0438\\u044e \\u043f\\u0440\\u043e\\u0434\\u0443\\u043a\\u0446\\u0438\\u0438 \\u0442\\u043e\\u0440\\u0433\\u043e\\u0432\\u044b\\u0445 \\u0442\\u043e\\u0447\\u043a\\u0430\\u0445 \\u0432\\u0432\\u0435\\u0440\\u0435\\u043d\\u043d\\u043e\\u0439 \\u0442\\u0435\\u0440\\u0440\\u0438\\u0442\\u043e\\u0440\\u0438\\u0438 \\u0432\\u044b\\u043f\\u043e\\u043b\\u043d\\u044f\\u0442\\u044c \\u0446\\u0435\\u043b\\u0438 \\u0432\\u0435\\u0441\\u0442\\u0438 \\u043f\\u043e\\u0441\\u0442\\u043e\\u044f\\u043d\\u043d\\u044b\\u0439 \\u043f\\u043e\\u0438\\u0441\\u043a \\u043d\\u043e\\u0432\\u044b\\u0445 \\u043a\\u043b\\u0438\\u0435\\u043d\\u0442\\u043e\\u0432 \\u0432\\u0440\\u0435\\u043c\\u044f \\u043a\\u0430\\u0436\\u0434\\u043e\\u0433\\u043e \\u043f\\u043e\\u0441\\u0435\\u0449\\u0435\\u043d\\u0438\\u044f \\u0440\\u0430\\u0441\\u0448\\u0438\\u0440\\u044f\\u0442\\u044c \\u0430\\u0441\\u0441\\u043e\\u0440\\u0442\\u0438\\u043c\\u0435\\u043d\\u0442 \\u043f\\u0440\\u0438\\u043d\\u0438\\u043c\\u0430\\u0442\\u044c \\u0437\\u0430\\u043a\\u0430\\u0437\\u044b \\u043e\\u0431\\u0435\\u0441\\u043f\\u0435\\u0447\\u0438\\u0442\\u044c \\u043d\\u0430\\u0438\\u0431\\u043e\\u043b\\u0435\\u0435 \\u0432\\u044b\\u0433\\u043e\\u0434\\u043d\\u043e\\u0435 \\u0440\\u0430\\u0437\\u043c\\u0435\\u0449\\u0435\\u043d\\u0438\\u0435 \\u043f\\u0440\\u043e\\u0434\\u0443\\u043a\\u0446\\u0438\\u0438 \\u0442\\u043e\\u0440\\u0433\\u043e\\u0432\\u043e\\u0439 \\u043f\\u043b\\u043e\\u0449\\u0430\\u0434\\u0438 \\u043a\\u043b\\u0438\\u0435\\u043d\\u0442\\u0430 \\u043e\\u0441\\u0443\\u0449\\u0435\\u0441\\u0442\\u0432\\u043b\\u044f\\u0442\\u044c \\u0432\\u044b\\u043f\\u043e\\u043b\\u043d\\u0435\\u043d\\u0438\\u0435 \\u0442\\u043e\\u0440\\u0433\\u043e\\u0432\\u043e\\u0439 \\u043a\\u0440\\u0435\\u0434\\u0438\\u0442\\u043d\\u043e\\u0439 \\u043f\\u043e\\u043b\\u0438\\u0442\\u0438\\u043a\\u0438 \\u0434\\u0438\\u0441\\u0442\\u0440\\u0438\\u0431\\u044c\\u044e\\u0442\\u043e\\u0440\\u0430 \\u0432\\u044b\\u044f\\u0432\\u043b\\u044f\\u0442\\u044c \\u043f\\u0440\\u0438\\u0447\\u0438\\u043d\\u044b \\u043d\\u0430\\u0440\\u0443\\u0448\\u0435\\u043d\\u0438\\u0439 \\u0443\\u0441\\u043b\\u043e\\u0432\\u0438\\u0439 \\u0434\\u043e\\u0433\\u043e\\u0432\\u043e\\u0440\\u043e\\u0432 \\u043f\\u0440\\u0438\\u043d\\u0438\\u043c\\u0430\\u0442\\u044c \\u043c\\u0435\\u0440\\u044b \\u0443\\u0441\\u0442\\u0440\\u0430\\u043d\\u0435\\u043d\\u0438\\u044e \\u043f\\u0440\\u0435\\u0434\\u0443\\u043f\\u0440\\u0435\\u0436\\u0434\\u0435\\u043d\\u0438\\u044e \\u044d\\u0442\\u0438\\u0445 \\u043f\\u0440\\u0438\\u0447\\u0438\\u043d \\u0441\\u0432\\u043e\\u0435\\u0432\\u0440\\u0435\\u043c\\u0435\\u043d\\u043d\\u043e \\u043f\\u0440\\u0435\\u0434\\u043e\\u0441\\u0442\\u0430\\u0432\\u043b\\u044f\\u0442\\u044c \\u0434\\u043e\\u0441\\u0442\\u043e\\u0432\\u0435\\u0440\\u043d\\u0443\\u044e \\u043e\\u0442\\u0447\\u0435\\u0442\\u043d\\u043e\\u0441\\u0442\\u044c \\u043a\\u0430\\u0436\\u0434\\u043e\\u043c\\u0443 \\u043a\\u043b\\u0438\\u0435\\u043d\\u0442\\u0443 \\u043f\\u0440\\u0438\\u043d\\u0438\\u043c\\u0430\\u0442\\u044c \\u0430\\u043a\\u0442\\u0438\\u0432\\u043d\\u043e\\u0435 \\u0443\\u0447\\u0430\\u0441\\u0442\\u0438\\u0435 \\u043e\\u0431\\u0443\\u0447\\u0430\\u044e\\u0449\\u0438\\u0445 \\u043f\\u0440\\u043e\\u0433\\u0440\\u0430\\u043c\\u043c\\u0430\\u0445 \\u0441\\u043e\\u0431\\u043b\\u044e\\u0434\\u0430\\u0442\\u044c \\u0433\\u0440\\u0430\\u0444\\u0438\\u043a \\u0440\\u0430\\u0431\\u043e\\u0442\\u044b \\u043e\\u0442\\u0447\\u0435\\u0442\\u043d\\u043e\\u0441\\u0442\\u0438 \\u043e\\u0442\\u0440\\u0430\\u0436\\u0430\\u0442\\u044c \\u0440\\u0435\\u0437\\u0443\\u043b\\u044c\\u0442\\u0430\\u0442\\u044b \\u043e\\u0442\\u0447\\u0435\\u0442\\u0435 \\u0442\\u0440\\u0435\\u0431\\u043e\\u0432\\u0430\\u043d\\u0438\\u044f \\u043e\\u0431\\u0440\\u0430\\u0437\\u043e\\u0432\\u0430\\u043d\\u0438\\u0435 \\u043d\\u0438\\u0436\\u0435 \\u0441\\u0440\\u0435\\u0434\\u043d\\u0435 \\u0441\\u043f\\u0435\\u0446\\u0438\\u0430\\u043b\\u044c\\u043d\\u043e\\u0433\\u043e \\u043e\\u043f\\u044b\\u0442 \\u0440\\u0430\\u0431\\u043e\\u0442\\u044b \\u043c\\u0435\\u043d\\u0435\\u0435 \\u0433\\u043e \\u0433\\u043e\\u0434\\u0430 \\u0441\\u0444\\u0435\\u0440\\u0435 \\u043f\\u0440\\u043e\\u0434\\u0430\\u0436 \\u0440\\u0430\\u0437\\u0432\\u0438\\u0442\\u044b\\u0435 \\u043a\\u043e\\u043c\\u043c\\u0443\\u043d\\u0438\\u043a\\u0430\\u0442\\u0438\\u0432\\u043d\\u044b\\u0435 \\u043d\\u0430\\u0432\\u044b\\u043a\\u0438 \\u043e\\u0442\\u043b\\u0438\\u0447\\u043d\\u044b\\u0435 \\u043d\\u0430\\u0432\\u044b\\u043a\\u0438 \\u0430\\u0434\\u043c\\u0438\\u043d\\u0438\\u0441\\u0442\\u0440\\u0438\\u0440\\u043e\\u0432\\u0430\\u043d\\u0438\\u044f \\u043f\\u043b\\u0430\\u043d\\u0438\\u0440\\u043e\\u0432\\u0430\\u043d\\u0438\\u044f \\u0432\\u044b\\u0441\\u043e\\u043a\\u0438\\u0439 \\u0443\\u0440\\u043e\\u0432\\u0435\\u043d\\u044c \\u0441\\u0430\\u043c\\u043e\\u043e\\u0440\\u0433\\u0430\\u043d\\u0438\\u0437\\u0430\\u0446\\u0438\\u0438 \\u0443\\u0441\\u043b\\u043e\\u0432\\u0438\\u044f \\u0440\\u0430\\u0431\\u043e\\u0442\\u0430 \\u0443\\u0441\\u043f\\u0435\\u0448\\u043d\\u043e\\u0439 \\u0441\\u0442\\u0430\\u0431\\u0438\\u043b\\u044c\\u043d\\u043e\\u0439 \\u043a\\u043e\\u043c\\u043f\\u0430\\u043d\\u0438\\u0438 \\u0441\\u0442\\u0430\\u0431\\u0438\\u043b\\u044c\\u043d\\u0430\\u044f \\u0437\\u0430\\u0440\\u0430\\u0431\\u043e\\u0442\\u043d\\u0430\\u044f \\u043f\\u043b\\u0430\\u0442\\u0430 \\u043e\\u0444\\u043e\\u0440\\u043c\\u043b\\u0435\\u043d\\u0438\\u0435 \\u0441\\u043e\\u043e\\u0442\\u0432\\u0435\\u0442\\u0441\\u0442\\u0432\\u0438\\u0438 \\u0437\\u0430\\u043a\\u043e\\u043d\\u043e\\u0434\\u0430\\u0442\\u0435\\u043b\\u044c\\u0441\\u0442\\u0432\\u043e\\u043c \\u0440\\u043a \\u0437\\u0430\\u0440\\u0430\\u0431\\u043e\\u0442\\u043d\\u0430\\u044f \\u043f\\u043b\\u0430\\u0442\\u0430 \\u043e\\u0433\\u043e\\u0432\\u0430\\u0440\\u0438\\u0432\\u0430\\u0435\\u0442\\u0441\\u044f \\u0441\\u043e\\u0431\\u0435\\u0441\\u0435\\u0434\\u043e\\u0432\\u0430\\u043d\\u0438\\u0438 \\u0441\\u043e\\u0446\\u0438\\u0430\\u043b\\u044c\\u043d\\u044b\\u0439 \\u043f\\u0430\\u043a\\u0435\\u0442 \\u043e\\u043f\\u043b\\u0430\\u0447\\u0438\\u0432\\u0430\\u0435\\u043c\\u044b\\u0435 \\u0431\\u043e\\u043b\\u044c\\u043d\\u0438\\u0447\\u043d\\u044b\\u0435 \\u0435\\u0436\\u0435\\u0433\\u043e\\u0434\\u043d\\u044b\\u0439 \\u043e\\u0442\\u043f\\u0443\\u0441\\u043a \\u043f\\u044f\\u0442\\u0438 \\u0434\\u043d\\u0435\\u0432\\u043d\\u0430\\u044f \\u0440\\u0430\\u0431\\u043e\\u0447\\u0430\\u044f \\u043d\\u0435\\u0434\\u0435\\u043b\\u044f\",\n          \"\\u043e\\u0431\\u044f\\u0437\\u0430\\u043d\\u043d\\u043e\\u0441\\u0442\\u0438 \\u0434\\u043e\\u0441\\u0442\\u0430\\u0432\\u043a\\u0430 \\u0445\\u043b\\u0435\\u0431\\u043e\\u0431\\u0443\\u043b\\u043e\\u0447\\u043d\\u043e\\u0439 \\u043f\\u0440\\u043e\\u0434\\u0443\\u043a\\u0446\\u0438\\u0438 \\u0433\\u043e\\u0440\\u043e\\u0434\\u0443 \\u0430\\u043b\\u043c\\u0430\\u0442\\u044b \\u0431\\u043b\\u0438\\u0436\\u0430\\u0439\\u0448\\u0438\\u0435 \\u0440\\u0430\\u0439\\u043e\\u043d\\u044b \\u0430\\u043b\\u043c\\u0430\\u0442\\u0438\\u043d\\u0441\\u043a\\u043e\\u0439 \\u043e\\u0431\\u043b\\u0430\\u0441\\u0442\\u0438 \\u0442\\u0440\\u0435\\u0431\\u043e\\u0432\\u0430\\u043d\\u0438\\u044f \\u0437\\u043d\\u0430\\u043d\\u0438\\u044f \\u0433\\u043e\\u0440\\u043e\\u0434\\u0430 \\u043e\\u0431\\u043b\\u0430\\u0441\\u0442\\u0438 \\u0432\\u043e\\u0436\\u0434\\u0435\\u043d\\u0438\\u0435 \\u0430\\u0432\\u0442\\u043e\\u043c\\u043e\\u0431\\u0438\\u043b\\u044f \\u043c\\u0435\\u043d\\u0435\\u0435 \\u043b\\u0435\\u0442 \\u043a\\u0430\\u0442\\u0435\\u0433\\u043e\\u0440\\u0438\\u0435\\u0439 bc \\u043f\\u043e\\u043b\\u043d\\u044b\\u0439 \\u0441\\u043e\\u0446\\u043f\\u0430\\u043a\\u0435\\u0442 \\u0443\\u0441\\u043b\\u043e\\u0432\\u0438\\u044f \\u0433\\u0440\\u0430\\u0444\\u0438\\u043a \\u0440\\u0430\\u0431\\u043e\\u0442\\u044b \\u0437\\u0430\\u0440\\u0430\\u0431\\u043e\\u0442\\u043d\\u0430\\u044f \\u043f\\u043b\\u0430\\u0442\\u0430 \\u043c\\u043e\\u0442\\u0438\\u0432\\u0430\\u0446\\u0438\\u043e\\u043d\\u043d\\u043e\\u0439 \\u043f\\u0440\\u043e\\u0433\\u0440\\u0430\\u043c\\u043c\\u0435 \\u0442\\u0440\\u0443\\u0434\\u043e\\u0443\\u0441\\u0442\\u0440\\u043e\\u0439\\u0441\\u0442\\u0432\\u043e \\u0442\\u043a \\u0440\\u043a\",\n          \"\\u0442\\u0440\\u0435\\u0431\\u043e\\u0432\\u0430\\u043d\\u0438\\u044f \\u0432\\u044b\\u0441\\u0448\\u0435\\u0435 \\u043c\\u0435\\u0434\\u0438\\u0446\\u0438\\u043d\\u0441\\u043a\\u043e\\u0435 \\u043e\\u0431\\u0440\\u0430\\u0437\\u043e\\u0432\\u0430\\u043d\\u0438\\u0435 \\u0434\\u0435\\u0439\\u0441\\u0442\\u0432\\u0443\\u044e\\u0449\\u0438\\u0439 \\u0441\\u0435\\u0440\\u0442\\u0438\\u0444\\u0438\\u043a\\u0430\\u0442 \\u0441\\u043f\\u0435\\u0446\\u0438\\u0430\\u043b\\u0438\\u0441\\u0442\\u0430 \\u043a\\u0434\\u043b \\u0436\\u0435\\u043b\\u0430\\u0442\\u0435\\u043b\\u044c\\u043d\\u043e \\u043f\\u0435\\u0440\\u0432\\u043e\\u0439 \\u0432\\u044b\\u0441\\u0448\\u0435\\u0439 \\u043a\\u0432\\u0430\\u043b\\u0438\\u0444\\u0438\\u0446\\u0438\\u0440\\u043e\\u0432\\u0430\\u043d\\u043d\\u043e\\u0439 \\u043a\\u0430\\u0442\\u0435\\u0433\\u043e\\u0440\\u0438\\u0435\\u0439 \\u043e\\u043f\\u044b\\u0442 \\u0440\\u0430\\u0431\\u043e\\u0442\\u044b \\u0442\\u0438 \\u043b\\u0435\\u0442 \\u043a\\u0434\\u043b \\u043e\\u0431\\u044f\\u0437\\u0430\\u043d\\u043d\\u043e\\u0441\\u0442\\u0438 \\u043f\\u0440\\u043e\\u0432\\u0435\\u0434\\u0435\\u043d\\u0438\\u0435 \\u043a\\u043b\\u0438\\u043d\\u0438\\u0447\\u0435\\u0441\\u043a\\u0438\\u0445 \\u043b\\u0430\\u0431\\u043e\\u0440\\u0430\\u0442\\u043e\\u0440\\u043d\\u044b\\u0445 \\u0438\\u0441\\u0441\\u043b\\u0435\\u0434\\u043e\\u0432\\u0430\\u043d\\u0438\\u0439 \\u043e\\u0446\\u0435\\u043d\\u043a\\u0430 \\u0438\\u043d\\u0442\\u0435\\u0440\\u043f\\u0440\\u0435\\u0442\\u0430\\u0446\\u0438\\u044f \\u043b\\u0430\\u0431\\u043e\\u0440\\u0430\\u0442\\u043e\\u0440\\u043d\\u044b\\u0445 \\u0438\\u0441\\u0441\\u043b\\u0435\\u0434\\u043e\\u0432\\u0430\\u043d\\u0438\\u0439 \\u0437\\u0430\\u043a\\u043b\\u044e\\u0447\\u0435\\u043d\\u0438\\u044f \\u0443\\u0447\\u0430\\u0441\\u0442\\u0438\\u0435 \\u043f\\u043b\\u0430\\u043d\\u0438\\u0440\\u043e\\u0432\\u0430\\u043d\\u0438\\u0438 \\u043f\\u043e\\u0442\\u0440\\u0435\\u0431\\u043d\\u043e\\u0441\\u0442\\u0435\\u0439 \\u043e\\u0442\\u0447\\u0435\\u0442\\u043d\\u043e\\u0441\\u0442\\u0438 \\u0432\\u044b\\u043f\\u043e\\u043b\\u043d\\u0435\\u043d\\u0438\\u0435 \\u0434\\u043e\\u043b\\u0436\\u043d\\u043e\\u0441\\u0442\\u043d\\u043e\\u0439 \\u0438\\u043d\\u0441\\u0442\\u0440\\u0443\\u043a\\u0446\\u0438\\u0438 \\u0443\\u0441\\u043b\\u043e\\u0432\\u0438\\u044f \\u0437\\u0430\\u0440\\u0430\\u0431\\u043e\\u0442\\u043d\\u0430\\u044f \\u043f\\u043b\\u0430\\u0442\\u0430 \\u0440\\u0435\\u0437\\u0443\\u043b\\u044c\\u0442\\u0430\\u0442\\u0430\\u043c \\u0441\\u043e\\u0431\\u0435\\u0441\\u0435\\u0434\\u043e\\u0432\\u0430\\u043d\\u0438\\u044f\"\n        ],\n        \"semantic_type\": \"\",\n        \"description\": \"\"\n      }\n    }\n  ]\n}"
            }
          },
          "metadata": {},
          "execution_count": 8
        }
      ]
    },
    {
      "cell_type": "code",
      "source": [
        "prof_df['clean_description'][68]"
      ],
      "metadata": {
        "colab": {
          "base_uri": "https://localhost:8080/",
          "height": 196
        },
        "id": "kra_PMehj8Hx",
        "outputId": "4e85e951-7acf-4160-d099-4b3d81ab2ef8"
      },
      "execution_count": 6,
      "outputs": [
        {
          "output_type": "execute_result",
          "data": {
            "text/plain": [
              "'обязанности проверяет соответствие объемов строительных работ также конструкций утвержденной проектно сметной документации рабочим чертежам строительным нормам правилам стандартам техническим условиям нормам охраны труда осуществляет проверку материальных отчётов выполненные работы осуществляет техническую приемку законченных строительных работ объектов оформляет необходимую техническую документацию участвует работе комиссий приемке строительных объектов сдаче эксплуатацию осуществлять проверку сметной документации строительство объектов расчет стоимости учет выполненных работ составляет сметную документацию дополнительные работы осуществляет проверку получаемой заказчика сметной документации подготовку заключений качестве согласовывает проектной организацией заказчиком сметы калькуляции стоимости материалов дополнительных затрат ведомости выполненных работ спецификации акты выполненных работ процентовки требования высшее образование условия график работы место работы м р тенгиз'"
            ],
            "application/vnd.google.colaboratory.intrinsic+json": {
              "type": "string"
            }
          },
          "metadata": {},
          "execution_count": 6
        }
      ]
    },
    {
      "cell_type": "code",
      "source": [
        "prof_df['clean_description'][97]"
      ],
      "metadata": {
        "colab": {
          "base_uri": "https://localhost:8080/",
          "height": 178
        },
        "id": "kCD0GkyqkECL",
        "outputId": "277cf8f7-08dd-45cd-8ae1-88d0d15458ca"
      },
      "execution_count": 7,
      "outputs": [
        {
          "output_type": "execute_result",
          "data": {
            "text/plain": [
              "'обязанности организация продаж bb услуг компании определенной территории работа поле продажи посещения потенциальных клиентов ведение коммерческих переговоров клиентами осуществление совместно клиентами шагов подключения bb услугам компании требования высокие коммуникативные навыки грамотная речь умение желание продавать опыт активных продажах сегменте bb мсб менее года навыки ведения переговоров холодными клиентами умение выходить лпр образование высшее продвинутый пользователь пк активная жизненная позиция нацеленность результат условия молодой сплоченный коллектив быстрая адаптация постоянное внутреннее внешнее обучение методикам продаж своевременная оплата труда бонусы выполнении плана график работы нормированный оформление тк рк отслеживание оплаты клиентов консультирование клиентов дополнительным услугам компании выполнение плана продаж ведение базы клиентов crm заполнение отчетов'"
            ],
            "application/vnd.google.colaboratory.intrinsic+json": {
              "type": "string"
            }
          },
          "metadata": {},
          "execution_count": 7
        }
      ]
    },
    {
      "cell_type": "code",
      "source": [
        "prof_df[['name', 'uid']][58]"
      ],
      "metadata": {
        "colab": {
          "base_uri": "https://localhost:8080/",
          "height": 490
        },
        "id": "pTVk5p6VhEXc",
        "outputId": "638324f7-400f-456d-aacd-8986b598d366"
      },
      "execution_count": 8,
      "outputs": [
        {
          "output_type": "error",
          "ename": "KeyError",
          "evalue": "58",
          "traceback": [
            "\u001b[0;31m---------------------------------------------------------------------------\u001b[0m",
            "\u001b[0;31mKeyError\u001b[0m                                  Traceback (most recent call last)",
            "\u001b[0;32m/usr/local/lib/python3.10/dist-packages/pandas/core/indexes/base.py\u001b[0m in \u001b[0;36mget_loc\u001b[0;34m(self, key)\u001b[0m\n\u001b[1;32m   3652\u001b[0m         \u001b[0;32mtry\u001b[0m\u001b[0;34m:\u001b[0m\u001b[0;34m\u001b[0m\u001b[0;34m\u001b[0m\u001b[0m\n\u001b[0;32m-> 3653\u001b[0;31m             \u001b[0;32mreturn\u001b[0m \u001b[0mself\u001b[0m\u001b[0;34m.\u001b[0m\u001b[0m_engine\u001b[0m\u001b[0;34m.\u001b[0m\u001b[0mget_loc\u001b[0m\u001b[0;34m(\u001b[0m\u001b[0mcasted_key\u001b[0m\u001b[0;34m)\u001b[0m\u001b[0;34m\u001b[0m\u001b[0;34m\u001b[0m\u001b[0m\n\u001b[0m\u001b[1;32m   3654\u001b[0m         \u001b[0;32mexcept\u001b[0m \u001b[0mKeyError\u001b[0m \u001b[0;32mas\u001b[0m \u001b[0merr\u001b[0m\u001b[0;34m:\u001b[0m\u001b[0;34m\u001b[0m\u001b[0;34m\u001b[0m\u001b[0m\n",
            "\u001b[0;32m/usr/local/lib/python3.10/dist-packages/pandas/_libs/index.pyx\u001b[0m in \u001b[0;36mpandas._libs.index.IndexEngine.get_loc\u001b[0;34m()\u001b[0m\n",
            "\u001b[0;32m/usr/local/lib/python3.10/dist-packages/pandas/_libs/index.pyx\u001b[0m in \u001b[0;36mpandas._libs.index.IndexEngine.get_loc\u001b[0;34m()\u001b[0m\n",
            "\u001b[0;32mpandas/_libs/hashtable_class_helper.pxi\u001b[0m in \u001b[0;36mpandas._libs.hashtable.PyObjectHashTable.get_item\u001b[0;34m()\u001b[0m\n",
            "\u001b[0;32mpandas/_libs/hashtable_class_helper.pxi\u001b[0m in \u001b[0;36mpandas._libs.hashtable.PyObjectHashTable.get_item\u001b[0;34m()\u001b[0m\n",
            "\u001b[0;31mKeyError\u001b[0m: 58",
            "\nThe above exception was the direct cause of the following exception:\n",
            "\u001b[0;31mKeyError\u001b[0m                                  Traceback (most recent call last)",
            "\u001b[0;32m<ipython-input-8-035608460e82>\u001b[0m in \u001b[0;36m<cell line: 1>\u001b[0;34m()\u001b[0m\n\u001b[0;32m----> 1\u001b[0;31m \u001b[0mprof_df\u001b[0m\u001b[0;34m[\u001b[0m\u001b[0;34m[\u001b[0m\u001b[0;34m'name'\u001b[0m\u001b[0;34m,\u001b[0m \u001b[0;34m'uid'\u001b[0m\u001b[0;34m]\u001b[0m\u001b[0;34m]\u001b[0m\u001b[0;34m[\u001b[0m\u001b[0;36m58\u001b[0m\u001b[0;34m]\u001b[0m\u001b[0;34m\u001b[0m\u001b[0;34m\u001b[0m\u001b[0m\n\u001b[0m",
            "\u001b[0;32m/usr/local/lib/python3.10/dist-packages/pandas/core/frame.py\u001b[0m in \u001b[0;36m__getitem__\u001b[0;34m(self, key)\u001b[0m\n\u001b[1;32m   3759\u001b[0m             \u001b[0;32mif\u001b[0m \u001b[0mself\u001b[0m\u001b[0;34m.\u001b[0m\u001b[0mcolumns\u001b[0m\u001b[0;34m.\u001b[0m\u001b[0mnlevels\u001b[0m \u001b[0;34m>\u001b[0m \u001b[0;36m1\u001b[0m\u001b[0;34m:\u001b[0m\u001b[0;34m\u001b[0m\u001b[0;34m\u001b[0m\u001b[0m\n\u001b[1;32m   3760\u001b[0m                 \u001b[0;32mreturn\u001b[0m \u001b[0mself\u001b[0m\u001b[0;34m.\u001b[0m\u001b[0m_getitem_multilevel\u001b[0m\u001b[0;34m(\u001b[0m\u001b[0mkey\u001b[0m\u001b[0;34m)\u001b[0m\u001b[0;34m\u001b[0m\u001b[0;34m\u001b[0m\u001b[0m\n\u001b[0;32m-> 3761\u001b[0;31m             \u001b[0mindexer\u001b[0m \u001b[0;34m=\u001b[0m \u001b[0mself\u001b[0m\u001b[0;34m.\u001b[0m\u001b[0mcolumns\u001b[0m\u001b[0;34m.\u001b[0m\u001b[0mget_loc\u001b[0m\u001b[0;34m(\u001b[0m\u001b[0mkey\u001b[0m\u001b[0;34m)\u001b[0m\u001b[0;34m\u001b[0m\u001b[0;34m\u001b[0m\u001b[0m\n\u001b[0m\u001b[1;32m   3762\u001b[0m             \u001b[0;32mif\u001b[0m \u001b[0mis_integer\u001b[0m\u001b[0;34m(\u001b[0m\u001b[0mindexer\u001b[0m\u001b[0;34m)\u001b[0m\u001b[0;34m:\u001b[0m\u001b[0;34m\u001b[0m\u001b[0;34m\u001b[0m\u001b[0m\n\u001b[1;32m   3763\u001b[0m                 \u001b[0mindexer\u001b[0m \u001b[0;34m=\u001b[0m \u001b[0;34m[\u001b[0m\u001b[0mindexer\u001b[0m\u001b[0;34m]\u001b[0m\u001b[0;34m\u001b[0m\u001b[0;34m\u001b[0m\u001b[0m\n",
            "\u001b[0;32m/usr/local/lib/python3.10/dist-packages/pandas/core/indexes/base.py\u001b[0m in \u001b[0;36mget_loc\u001b[0;34m(self, key)\u001b[0m\n\u001b[1;32m   3653\u001b[0m             \u001b[0;32mreturn\u001b[0m \u001b[0mself\u001b[0m\u001b[0;34m.\u001b[0m\u001b[0m_engine\u001b[0m\u001b[0;34m.\u001b[0m\u001b[0mget_loc\u001b[0m\u001b[0;34m(\u001b[0m\u001b[0mcasted_key\u001b[0m\u001b[0;34m)\u001b[0m\u001b[0;34m\u001b[0m\u001b[0;34m\u001b[0m\u001b[0m\n\u001b[1;32m   3654\u001b[0m         \u001b[0;32mexcept\u001b[0m \u001b[0mKeyError\u001b[0m \u001b[0;32mas\u001b[0m \u001b[0merr\u001b[0m\u001b[0;34m:\u001b[0m\u001b[0;34m\u001b[0m\u001b[0;34m\u001b[0m\u001b[0m\n\u001b[0;32m-> 3655\u001b[0;31m             \u001b[0;32mraise\u001b[0m \u001b[0mKeyError\u001b[0m\u001b[0;34m(\u001b[0m\u001b[0mkey\u001b[0m\u001b[0;34m)\u001b[0m \u001b[0;32mfrom\u001b[0m \u001b[0merr\u001b[0m\u001b[0;34m\u001b[0m\u001b[0;34m\u001b[0m\u001b[0m\n\u001b[0m\u001b[1;32m   3656\u001b[0m         \u001b[0;32mexcept\u001b[0m \u001b[0mTypeError\u001b[0m\u001b[0;34m:\u001b[0m\u001b[0;34m\u001b[0m\u001b[0;34m\u001b[0m\u001b[0m\n\u001b[1;32m   3657\u001b[0m             \u001b[0;31m# If we have a listlike key, _check_indexing_error will raise\u001b[0m\u001b[0;34m\u001b[0m\u001b[0;34m\u001b[0m\u001b[0m\n",
            "\u001b[0;31mKeyError\u001b[0m: 58"
          ]
        }
      ]
    },
    {
      "cell_type": "code",
      "source": [
        "prof_df['name'][:100]"
      ],
      "metadata": {
        "id": "4TOyE06qsRPA",
        "colab": {
          "base_uri": "https://localhost:8080/"
        },
        "outputId": "f1afcce6-467c-4dd0-cb84-9d8fd12b00be"
      },
      "execution_count": 9,
      "outputs": [
        {
          "output_type": "execute_result",
          "data": {
            "text/plain": [
              "0                           senior application support\n",
              "1                                      lead translator\n",
              "2                         техничка уборщик детский сад\n",
              "3     грузчик упаковщик рабочий производственного цеха\n",
              "4             управляющий кофейней starbucks г шымкент\n",
              "                            ...                       \n",
              "95                                   менеджер закупкам\n",
              "96                                      торговый агент\n",
              "97                                      торговый агент\n",
              "98                              администратор столовой\n",
              "99                                       специалист it\n",
              "Name: name, Length: 100, dtype: object"
            ]
          },
          "metadata": {},
          "execution_count": 9
        }
      ]
    },
    {
      "cell_type": "markdown",
      "source": [
        "эксперимент"
      ],
      "metadata": {
        "id": "9vTaFBeEmhKH"
      }
    },
    {
      "cell_type": "code",
      "source": [
        "pip install pymorphy3"
      ],
      "metadata": {
        "colab": {
          "base_uri": "https://localhost:8080/"
        },
        "id": "_di6sV1YIqNL",
        "outputId": "13cfb3d5-c3a8-496c-c4ce-484a0c30e864"
      },
      "execution_count": 9,
      "outputs": [
        {
          "output_type": "stream",
          "name": "stdout",
          "text": [
            "Requirement already satisfied: pymorphy3 in /usr/local/lib/python3.10/dist-packages (2.0.2)\n",
            "Requirement already satisfied: dawg-python>=0.7.1 in /usr/local/lib/python3.10/dist-packages (from pymorphy3) (0.7.2)\n",
            "Requirement already satisfied: pymorphy3-dicts-ru in /usr/local/lib/python3.10/dist-packages (from pymorphy3) (2.4.417150.4580142)\n"
          ]
        }
      ]
    },
    {
      "cell_type": "code",
      "source": [
        "import pandas as pd\n",
        "import pymorphy3\n",
        "import nltk\n",
        "from nltk.tokenize import word_tokenize\n",
        "\n",
        "nltk.download('punkt')\n",
        "\n",
        "morph = pymorphy3.MorphAnalyzer()\n",
        "\n",
        "def tokenize_and_lemmatize(text):\n",
        "    tokens = word_tokenize(text.lower())\n",
        "    lemmas = [morph.parse(token)[0].normal_form for token in tokens]\n",
        "    return lemmas\n",
        "\n",
        "it_keywords = [\n",
        "    'программирование', 'разработка', 'база данных', 'sql',\n",
        "    'java', 'python', 'devops','разработчик', 'аналитик', 'тестирование',\n",
        "    'системный', 'сетевой', 'информационные технологии',\n",
        "    'кодирование', 'алгоритм', 'сетевой', 'архитектура', 'скрипт', 'it'\n",
        "]\n",
        "\n",
        "lemmatized_it_keywords = [tokenize_and_lemmatize(word) for word in it_keywords]\n",
        "lemmatized_it_keywords = [item for sublist in lemmatized_it_keywords for item in sublist]\n",
        "\n",
        "\n",
        "def is_it_job(title):\n",
        "    lemmas = tokenize_and_lemmatize(title)\n",
        "    for lemma in lemmas:\n",
        "        if lemma in lemmatized_it_keywords:\n",
        "            return 1\n",
        "    return 0\n",
        "\n",
        "prof_df['is_IT'] = prof_df['name'].apply(is_it_job)\n",
        "\n",
        "prof_df.head()\n",
        "\n",
        "it_job_count = prof_df['is_IT'].sum()\n",
        "it_job_count\n"
      ],
      "metadata": {
        "colab": {
          "base_uri": "https://localhost:8080/"
        },
        "id": "XY-u9yCMresI",
        "outputId": "94ea7a04-6c35-4576-a4e3-d43db4e737b1"
      },
      "execution_count": 10,
      "outputs": [
        {
          "output_type": "stream",
          "name": "stderr",
          "text": [
            "[nltk_data] Downloading package punkt to /root/nltk_data...\n",
            "[nltk_data]   Package punkt is already up-to-date!\n"
          ]
        },
        {
          "output_type": "execute_result",
          "data": {
            "text/plain": [
              "318"
            ]
          },
          "metadata": {},
          "execution_count": 10
        }
      ]
    },
    {
      "cell_type": "code",
      "source": [
        "prof_df.to_csv('vb.csv', index=False)"
      ],
      "metadata": {
        "id": "xQKshHrk0Rfd"
      },
      "execution_count": 13,
      "outputs": []
    },
    {
      "cell_type": "code",
      "source": [
        "prof_df[prof_df['is_IT'] == True]"
      ],
      "metadata": {
        "colab": {
          "base_uri": "https://localhost:8080/",
          "height": 893
        },
        "id": "DH5wa2imtcli",
        "outputId": "f1dffc45-2cd3-472e-9694-a6658a5c9daa"
      },
      "execution_count": 11,
      "outputs": [
        {
          "output_type": "execute_result",
          "data": {
            "text/plain": [
              "      Unnamed: 0       uid                                               name  \\\n",
              "14            14  35994101                                      специалист it   \n",
              "31            31  36011718  специалист отдела тестирования testing specialist   \n",
              "61            61  36149883                                      специалист it   \n",
              "82            82  36171064                     ведущий full stack разработчик   \n",
              "85            85  36171619                                      специалист it   \n",
              "...          ...       ...                                                ...   \n",
              "9881        9881  92454424                                   разработчик jira   \n",
              "9905        9905  92562011  специалист отдела технической информационной п...   \n",
              "9936        9936  92571498                         senior android разработчик   \n",
              "9941        9941  92672535  специалист цифровизации внедрения информационн...   \n",
              "9991        9991  92761784                              разработчик fullstack   \n",
              "\n",
              "                                            description  \\\n",
              "14    &lt;p&gt;&lt;strong&gt;Обязанности:&lt;/strong...   \n",
              "31    &lt;p&gt;&lt;strong&gt;PayBox.money &lt;/stron...   \n",
              "61    &lt;p&gt;Мы ищем людей, профессионалов своего ...   \n",
              "82    &lt;strong&gt;Обязанности:&lt;/strong&gt; &lt;...   \n",
              "85    &lt;p&gt;&lt;strong&gt;Обязанности:&lt;/strong...   \n",
              "...                                                 ...   \n",
              "9881  <p>Обязанности:<br />• Конфигурирование, админ...   \n",
              "9905  <strong>Обязанности:</strong> <ul> <li>Обеспеч...   \n",
              "9936  <strong>Обязанности:</strong> <ul> <li>Разрабо...   \n",
              "9941  <strong>Обязанности:</strong> <ul> <li>разраба...   \n",
              "9991  <p>Мы ищем опытного <strong>программиста Front...   \n",
              "\n",
              "                                      clean_description  is_IT  \n",
              "14    обязанности установка прокладка локальных сете...      1  \n",
              "31    paybox money амбициозный fintech проект нами п...      1  \n",
              "61    ищем людей профессионалов своего дела тех хоче...      1  \n",
              "82    обязанности разрабатывать оптимизировать веб п...      1  \n",
              "85    обязанности проведение системно технического о...      1  \n",
              "...                                                 ...    ...  \n",
              "9881  обязанности конфигурирование администрирование...      1  \n",
              "9905  обязанности обеспечение бесперебойной работы к...      1  \n",
              "9936  обязанности разработка поддержка собственного ...      1  \n",
              "9941  обязанности разрабатывает проекты развития инф...      1  \n",
              "9991  ищем опытного программиста frontend backend зн...      1  \n",
              "\n",
              "[318 rows x 6 columns]"
            ],
            "text/html": [
              "\n",
              "  <div id=\"df-9ae9a7ed-7daf-467c-9e52-e2df7cc5cc47\" class=\"colab-df-container\">\n",
              "    <div>\n",
              "<style scoped>\n",
              "    .dataframe tbody tr th:only-of-type {\n",
              "        vertical-align: middle;\n",
              "    }\n",
              "\n",
              "    .dataframe tbody tr th {\n",
              "        vertical-align: top;\n",
              "    }\n",
              "\n",
              "    .dataframe thead th {\n",
              "        text-align: right;\n",
              "    }\n",
              "</style>\n",
              "<table border=\"1\" class=\"dataframe\">\n",
              "  <thead>\n",
              "    <tr style=\"text-align: right;\">\n",
              "      <th></th>\n",
              "      <th>Unnamed: 0</th>\n",
              "      <th>uid</th>\n",
              "      <th>name</th>\n",
              "      <th>description</th>\n",
              "      <th>clean_description</th>\n",
              "      <th>is_IT</th>\n",
              "    </tr>\n",
              "  </thead>\n",
              "  <tbody>\n",
              "    <tr>\n",
              "      <th>14</th>\n",
              "      <td>14</td>\n",
              "      <td>35994101</td>\n",
              "      <td>специалист it</td>\n",
              "      <td>&amp;lt;p&amp;gt;&amp;lt;strong&amp;gt;Обязанности:&amp;lt;/strong...</td>\n",
              "      <td>обязанности установка прокладка локальных сете...</td>\n",
              "      <td>1</td>\n",
              "    </tr>\n",
              "    <tr>\n",
              "      <th>31</th>\n",
              "      <td>31</td>\n",
              "      <td>36011718</td>\n",
              "      <td>специалист отдела тестирования testing specialist</td>\n",
              "      <td>&amp;lt;p&amp;gt;&amp;lt;strong&amp;gt;PayBox.money &amp;lt;/stron...</td>\n",
              "      <td>paybox money амбициозный fintech проект нами п...</td>\n",
              "      <td>1</td>\n",
              "    </tr>\n",
              "    <tr>\n",
              "      <th>61</th>\n",
              "      <td>61</td>\n",
              "      <td>36149883</td>\n",
              "      <td>специалист it</td>\n",
              "      <td>&amp;lt;p&amp;gt;Мы ищем людей, профессионалов своего ...</td>\n",
              "      <td>ищем людей профессионалов своего дела тех хоче...</td>\n",
              "      <td>1</td>\n",
              "    </tr>\n",
              "    <tr>\n",
              "      <th>82</th>\n",
              "      <td>82</td>\n",
              "      <td>36171064</td>\n",
              "      <td>ведущий full stack разработчик</td>\n",
              "      <td>&amp;lt;strong&amp;gt;Обязанности:&amp;lt;/strong&amp;gt; &amp;lt;...</td>\n",
              "      <td>обязанности разрабатывать оптимизировать веб п...</td>\n",
              "      <td>1</td>\n",
              "    </tr>\n",
              "    <tr>\n",
              "      <th>85</th>\n",
              "      <td>85</td>\n",
              "      <td>36171619</td>\n",
              "      <td>специалист it</td>\n",
              "      <td>&amp;lt;p&amp;gt;&amp;lt;strong&amp;gt;Обязанности:&amp;lt;/strong...</td>\n",
              "      <td>обязанности проведение системно технического о...</td>\n",
              "      <td>1</td>\n",
              "    </tr>\n",
              "    <tr>\n",
              "      <th>...</th>\n",
              "      <td>...</td>\n",
              "      <td>...</td>\n",
              "      <td>...</td>\n",
              "      <td>...</td>\n",
              "      <td>...</td>\n",
              "      <td>...</td>\n",
              "    </tr>\n",
              "    <tr>\n",
              "      <th>9881</th>\n",
              "      <td>9881</td>\n",
              "      <td>92454424</td>\n",
              "      <td>разработчик jira</td>\n",
              "      <td>&lt;p&gt;Обязанности:&lt;br /&gt;• Конфигурирование, админ...</td>\n",
              "      <td>обязанности конфигурирование администрирование...</td>\n",
              "      <td>1</td>\n",
              "    </tr>\n",
              "    <tr>\n",
              "      <th>9905</th>\n",
              "      <td>9905</td>\n",
              "      <td>92562011</td>\n",
              "      <td>специалист отдела технической информационной п...</td>\n",
              "      <td>&lt;strong&gt;Обязанности:&lt;/strong&gt; &lt;ul&gt; &lt;li&gt;Обеспеч...</td>\n",
              "      <td>обязанности обеспечение бесперебойной работы к...</td>\n",
              "      <td>1</td>\n",
              "    </tr>\n",
              "    <tr>\n",
              "      <th>9936</th>\n",
              "      <td>9936</td>\n",
              "      <td>92571498</td>\n",
              "      <td>senior android разработчик</td>\n",
              "      <td>&lt;strong&gt;Обязанности:&lt;/strong&gt; &lt;ul&gt; &lt;li&gt;Разрабо...</td>\n",
              "      <td>обязанности разработка поддержка собственного ...</td>\n",
              "      <td>1</td>\n",
              "    </tr>\n",
              "    <tr>\n",
              "      <th>9941</th>\n",
              "      <td>9941</td>\n",
              "      <td>92672535</td>\n",
              "      <td>специалист цифровизации внедрения информационн...</td>\n",
              "      <td>&lt;strong&gt;Обязанности:&lt;/strong&gt; &lt;ul&gt; &lt;li&gt;разраба...</td>\n",
              "      <td>обязанности разрабатывает проекты развития инф...</td>\n",
              "      <td>1</td>\n",
              "    </tr>\n",
              "    <tr>\n",
              "      <th>9991</th>\n",
              "      <td>9991</td>\n",
              "      <td>92761784</td>\n",
              "      <td>разработчик fullstack</td>\n",
              "      <td>&lt;p&gt;Мы ищем опытного &lt;strong&gt;программиста Front...</td>\n",
              "      <td>ищем опытного программиста frontend backend зн...</td>\n",
              "      <td>1</td>\n",
              "    </tr>\n",
              "  </tbody>\n",
              "</table>\n",
              "<p>318 rows × 6 columns</p>\n",
              "</div>\n",
              "    <div class=\"colab-df-buttons\">\n",
              "\n",
              "  <div class=\"colab-df-container\">\n",
              "    <button class=\"colab-df-convert\" onclick=\"convertToInteractive('df-9ae9a7ed-7daf-467c-9e52-e2df7cc5cc47')\"\n",
              "            title=\"Convert this dataframe to an interactive table.\"\n",
              "            style=\"display:none;\">\n",
              "\n",
              "  <svg xmlns=\"http://www.w3.org/2000/svg\" height=\"24px\" viewBox=\"0 -960 960 960\">\n",
              "    <path d=\"M120-120v-720h720v720H120Zm60-500h600v-160H180v160Zm220 220h160v-160H400v160Zm0 220h160v-160H400v160ZM180-400h160v-160H180v160Zm440 0h160v-160H620v160ZM180-180h160v-160H180v160Zm440 0h160v-160H620v160Z\"/>\n",
              "  </svg>\n",
              "    </button>\n",
              "\n",
              "  <style>\n",
              "    .colab-df-container {\n",
              "      display:flex;\n",
              "      gap: 12px;\n",
              "    }\n",
              "\n",
              "    .colab-df-convert {\n",
              "      background-color: #E8F0FE;\n",
              "      border: none;\n",
              "      border-radius: 50%;\n",
              "      cursor: pointer;\n",
              "      display: none;\n",
              "      fill: #1967D2;\n",
              "      height: 32px;\n",
              "      padding: 0 0 0 0;\n",
              "      width: 32px;\n",
              "    }\n",
              "\n",
              "    .colab-df-convert:hover {\n",
              "      background-color: #E2EBFA;\n",
              "      box-shadow: 0px 1px 2px rgba(60, 64, 67, 0.3), 0px 1px 3px 1px rgba(60, 64, 67, 0.15);\n",
              "      fill: #174EA6;\n",
              "    }\n",
              "\n",
              "    .colab-df-buttons div {\n",
              "      margin-bottom: 4px;\n",
              "    }\n",
              "\n",
              "    [theme=dark] .colab-df-convert {\n",
              "      background-color: #3B4455;\n",
              "      fill: #D2E3FC;\n",
              "    }\n",
              "\n",
              "    [theme=dark] .colab-df-convert:hover {\n",
              "      background-color: #434B5C;\n",
              "      box-shadow: 0px 1px 3px 1px rgba(0, 0, 0, 0.15);\n",
              "      filter: drop-shadow(0px 1px 2px rgba(0, 0, 0, 0.3));\n",
              "      fill: #FFFFFF;\n",
              "    }\n",
              "  </style>\n",
              "\n",
              "    <script>\n",
              "      const buttonEl =\n",
              "        document.querySelector('#df-9ae9a7ed-7daf-467c-9e52-e2df7cc5cc47 button.colab-df-convert');\n",
              "      buttonEl.style.display =\n",
              "        google.colab.kernel.accessAllowed ? 'block' : 'none';\n",
              "\n",
              "      async function convertToInteractive(key) {\n",
              "        const element = document.querySelector('#df-9ae9a7ed-7daf-467c-9e52-e2df7cc5cc47');\n",
              "        const dataTable =\n",
              "          await google.colab.kernel.invokeFunction('convertToInteractive',\n",
              "                                                    [key], {});\n",
              "        if (!dataTable) return;\n",
              "\n",
              "        const docLinkHtml = 'Like what you see? Visit the ' +\n",
              "          '<a target=\"_blank\" href=https://colab.research.google.com/notebooks/data_table.ipynb>data table notebook</a>'\n",
              "          + ' to learn more about interactive tables.';\n",
              "        element.innerHTML = '';\n",
              "        dataTable['output_type'] = 'display_data';\n",
              "        await google.colab.output.renderOutput(dataTable, element);\n",
              "        const docLink = document.createElement('div');\n",
              "        docLink.innerHTML = docLinkHtml;\n",
              "        element.appendChild(docLink);\n",
              "      }\n",
              "    </script>\n",
              "  </div>\n",
              "\n",
              "\n",
              "<div id=\"df-b5068b2b-b665-4f58-a955-97fecb32c710\">\n",
              "  <button class=\"colab-df-quickchart\" onclick=\"quickchart('df-b5068b2b-b665-4f58-a955-97fecb32c710')\"\n",
              "            title=\"Suggest charts\"\n",
              "            style=\"display:none;\">\n",
              "\n",
              "<svg xmlns=\"http://www.w3.org/2000/svg\" height=\"24px\"viewBox=\"0 0 24 24\"\n",
              "     width=\"24px\">\n",
              "    <g>\n",
              "        <path d=\"M19 3H5c-1.1 0-2 .9-2 2v14c0 1.1.9 2 2 2h14c1.1 0 2-.9 2-2V5c0-1.1-.9-2-2-2zM9 17H7v-7h2v7zm4 0h-2V7h2v10zm4 0h-2v-4h2v4z\"/>\n",
              "    </g>\n",
              "</svg>\n",
              "  </button>\n",
              "\n",
              "<style>\n",
              "  .colab-df-quickchart {\n",
              "      --bg-color: #E8F0FE;\n",
              "      --fill-color: #1967D2;\n",
              "      --hover-bg-color: #E2EBFA;\n",
              "      --hover-fill-color: #174EA6;\n",
              "      --disabled-fill-color: #AAA;\n",
              "      --disabled-bg-color: #DDD;\n",
              "  }\n",
              "\n",
              "  [theme=dark] .colab-df-quickchart {\n",
              "      --bg-color: #3B4455;\n",
              "      --fill-color: #D2E3FC;\n",
              "      --hover-bg-color: #434B5C;\n",
              "      --hover-fill-color: #FFFFFF;\n",
              "      --disabled-bg-color: #3B4455;\n",
              "      --disabled-fill-color: #666;\n",
              "  }\n",
              "\n",
              "  .colab-df-quickchart {\n",
              "    background-color: var(--bg-color);\n",
              "    border: none;\n",
              "    border-radius: 50%;\n",
              "    cursor: pointer;\n",
              "    display: none;\n",
              "    fill: var(--fill-color);\n",
              "    height: 32px;\n",
              "    padding: 0;\n",
              "    width: 32px;\n",
              "  }\n",
              "\n",
              "  .colab-df-quickchart:hover {\n",
              "    background-color: var(--hover-bg-color);\n",
              "    box-shadow: 0 1px 2px rgba(60, 64, 67, 0.3), 0 1px 3px 1px rgba(60, 64, 67, 0.15);\n",
              "    fill: var(--button-hover-fill-color);\n",
              "  }\n",
              "\n",
              "  .colab-df-quickchart-complete:disabled,\n",
              "  .colab-df-quickchart-complete:disabled:hover {\n",
              "    background-color: var(--disabled-bg-color);\n",
              "    fill: var(--disabled-fill-color);\n",
              "    box-shadow: none;\n",
              "  }\n",
              "\n",
              "  .colab-df-spinner {\n",
              "    border: 2px solid var(--fill-color);\n",
              "    border-color: transparent;\n",
              "    border-bottom-color: var(--fill-color);\n",
              "    animation:\n",
              "      spin 1s steps(1) infinite;\n",
              "  }\n",
              "\n",
              "  @keyframes spin {\n",
              "    0% {\n",
              "      border-color: transparent;\n",
              "      border-bottom-color: var(--fill-color);\n",
              "      border-left-color: var(--fill-color);\n",
              "    }\n",
              "    20% {\n",
              "      border-color: transparent;\n",
              "      border-left-color: var(--fill-color);\n",
              "      border-top-color: var(--fill-color);\n",
              "    }\n",
              "    30% {\n",
              "      border-color: transparent;\n",
              "      border-left-color: var(--fill-color);\n",
              "      border-top-color: var(--fill-color);\n",
              "      border-right-color: var(--fill-color);\n",
              "    }\n",
              "    40% {\n",
              "      border-color: transparent;\n",
              "      border-right-color: var(--fill-color);\n",
              "      border-top-color: var(--fill-color);\n",
              "    }\n",
              "    60% {\n",
              "      border-color: transparent;\n",
              "      border-right-color: var(--fill-color);\n",
              "    }\n",
              "    80% {\n",
              "      border-color: transparent;\n",
              "      border-right-color: var(--fill-color);\n",
              "      border-bottom-color: var(--fill-color);\n",
              "    }\n",
              "    90% {\n",
              "      border-color: transparent;\n",
              "      border-bottom-color: var(--fill-color);\n",
              "    }\n",
              "  }\n",
              "</style>\n",
              "\n",
              "  <script>\n",
              "    async function quickchart(key) {\n",
              "      const quickchartButtonEl =\n",
              "        document.querySelector('#' + key + ' button');\n",
              "      quickchartButtonEl.disabled = true;  // To prevent multiple clicks.\n",
              "      quickchartButtonEl.classList.add('colab-df-spinner');\n",
              "      try {\n",
              "        const charts = await google.colab.kernel.invokeFunction(\n",
              "            'suggestCharts', [key], {});\n",
              "      } catch (error) {\n",
              "        console.error('Error during call to suggestCharts:', error);\n",
              "      }\n",
              "      quickchartButtonEl.classList.remove('colab-df-spinner');\n",
              "      quickchartButtonEl.classList.add('colab-df-quickchart-complete');\n",
              "    }\n",
              "    (() => {\n",
              "      let quickchartButtonEl =\n",
              "        document.querySelector('#df-b5068b2b-b665-4f58-a955-97fecb32c710 button');\n",
              "      quickchartButtonEl.style.display =\n",
              "        google.colab.kernel.accessAllowed ? 'block' : 'none';\n",
              "    })();\n",
              "  </script>\n",
              "</div>\n",
              "\n",
              "    </div>\n",
              "  </div>\n"
            ],
            "application/vnd.google.colaboratory.intrinsic+json": {
              "type": "dataframe",
              "summary": "{\n  \"name\": \"prof_df[prof_df['is_IT'] == True]\",\n  \"rows\": 318,\n  \"fields\": [\n    {\n      \"column\": \"Unnamed: 0\",\n      \"properties\": {\n        \"dtype\": \"number\",\n        \"std\": 2978,\n        \"min\": 14,\n        \"max\": 9991,\n        \"num_unique_values\": 318,\n        \"samples\": [\n          2000,\n          8291,\n          485\n        ],\n        \"semantic_type\": \"\",\n        \"description\": \"\"\n      }\n    },\n    {\n      \"column\": \"uid\",\n      \"properties\": {\n        \"dtype\": \"number\",\n        \"std\": 18013847,\n        \"min\": 28514366,\n        \"max\": 93702456,\n        \"num_unique_values\": 318,\n        \"samples\": [\n          38534567,\n          78633330,\n          37475424\n        ],\n        \"semantic_type\": \"\",\n        \"description\": \"\"\n      }\n    },\n    {\n      \"column\": \"name\",\n      \"properties\": {\n        \"dtype\": \"string\",\n        \"num_unique_values\": 192,\n        \"samples\": [\n          \"\\u043f\\u0440\\u043e\\u0433\\u0440\\u0430\\u043c\\u043c\\u0438\\u0441\\u0442 python\",\n          \"\\u0441\\u043f\\u0435\\u0446\\u0438\\u0430\\u043b\\u0438\\u0441\\u0442 \\u0438\\u043d\\u0444\\u043e\\u0440\\u043c\\u0430\\u0446\\u0438\\u043e\\u043d\\u043d\\u044b\\u0445 \\u0442\\u0435\\u0445\\u043d\\u043e\\u043b\\u043e\\u0433\\u0438\\u0439 \\u0433 \\u044d\\u043a\\u0438\\u0431\\u0430\\u0441\\u0442\\u0443\\u0437\",\n          \"\\u0437\\u0430\\u043c\\u0435\\u0441\\u0442\\u0438\\u0442\\u0435\\u043b\\u044c \\u0434\\u0438\\u0440\\u0435\\u043a\\u0442\\u043e\\u0440\\u0430 \\u0440\\u0430\\u0437\\u0440\\u0430\\u0431\\u043e\\u0442\\u043a\\u0430\\u043c\"\n        ],\n        \"semantic_type\": \"\",\n        \"description\": \"\"\n      }\n    },\n    {\n      \"column\": \"description\",\n      \"properties\": {\n        \"dtype\": \"string\",\n        \"num_unique_values\": 300,\n        \"samples\": [\n          \"&lt;strong&gt;\\u041e\\u0431\\u044f\\u0437\\u0430\\u043d\\u043d\\u043e\\u0441\\u0442\\u0438:&lt;/strong&gt; &lt;ul&gt; &lt;li&gt;\\u041f\\u0440\\u043e\\u0432\\u043e\\u0434\\u0438\\u0442 \\u0440\\u0435\\u0433\\u043b\\u0430\\u043c\\u0435\\u043d\\u0442\\u043d\\u044b\\u0435 \\u0440\\u0430\\u0431\\u043e\\u0442\\u044b \\u043f\\u043e \\u0443\\u0445\\u043e\\u0434\\u0443 \\u0437\\u0430 \\u043e\\u0431\\u043e\\u0440\\u0443\\u0434\\u043e\\u0432\\u0430\\u043d\\u0438\\u0435\\u043c. \\u041f\\u0440\\u043e\\u0432\\u043e\\u0434\\u0438\\u0442 \\u043c\\u043e\\u043d\\u0438\\u0442\\u043e\\u0440\\u0438\\u043d\\u0433 \\u0440\\u0430\\u0431\\u043e\\u0442\\u043e\\u0441\\u043f\\u043e\\u0441\\u043e\\u0431\\u043d\\u043e\\u0441\\u0442\\u0438 \\u043f\\u0440\\u043e\\u0433\\u0440\\u0430\\u043c\\u043c\\u043d\\u043e\\u0433\\u043e \\u043e\\u0431\\u0435\\u0441\\u043f\\u0435\\u0447\\u0435\\u043d\\u0438\\u044f \\u0440\\u0430\\u0431\\u043e\\u0447\\u0438\\u0445 \\u0441\\u0442\\u0430\\u043d\\u0446\\u0438\\u0439 \\u043f\\u043e\\u043b\\u044c\\u0437\\u043e\\u0432\\u0430\\u0442\\u0435\\u043b\\u044f.&lt;/li&gt; &lt;li&gt;\\u041e\\u0440\\u0433\\u0430\\u043d\\u0438\\u0437\\u043e\\u0432\\u044b\\u0432\\u0430\\u0435\\u0442 \\u0437\\u0430\\u043a\\u0443\\u043f\\u043a\\u0443 \\u0438 \\u043f\\u043e\\u043b\\u0443\\u0447\\u0435\\u043d\\u0438\\u0435 \\u043e\\u0431\\u043e\\u0440\\u0443\\u0434\\u043e\\u0432\\u0430\\u043d\\u0438\\u044f \\u0441 \\u043e\\u0444\\u043e\\u0440\\u043c\\u043b\\u0435\\u043d\\u0438\\u0435\\u043c \\u043d\\u0435\\u043e\\u0431\\u0445\\u043e\\u0434\\u0438\\u043c\\u044b\\u0445 \\u0434\\u043e\\u043a\\u0443\\u043c\\u0435\\u043d\\u0442\\u043e\\u0432.&lt;/li&gt; &lt;li&gt;\\u0421\\u043b\\u0435\\u0434\\u0438\\u0442 \\u0437\\u0430 \\u043d\\u0430\\u043b\\u0438\\u0447\\u0438\\u0435\\u043c \\u0438 \\u0440\\u0430\\u0431\\u043e\\u0442\\u043e\\u0441\\u043f\\u043e\\u0441\\u043e\\u0431\\u043d\\u044b\\u043c \\u0441\\u043e\\u0441\\u0442\\u043e\\u044f\\u043d\\u0438\\u0435\\u043c \\u0430\\u043d\\u0442\\u0438\\u0432\\u0438\\u0440\\u0443\\u0441\\u043d\\u044b\\u0445 \\u0441\\u0438\\u0441\\u0442\\u0435\\u043c.&lt;/li&gt; &lt;li&gt;\\u041f\\u043b\\u0430\\u043d\\u0438\\u0440\\u0443\\u0435\\u0442 \\u0438 \\u0440\\u0435\\u0430\\u043b\\u0438\\u0437\\u043e\\u0432\\u044b\\u0432\\u0430\\u0435\\u0442 \\u0441\\u0442\\u0440\\u0430\\u0442\\u0435\\u0433\\u0438\\u044e \\u0431\\u0435\\u0437\\u043e\\u043f\\u0430\\u0441\\u043d\\u043e\\u0441\\u0442\\u0438 \\u0434\\u043b\\u044f \\u0437\\u0430\\u0449\\u0438\\u0442\\u044b \\u0434\\u0430\\u043d\\u043d\\u044b\\u0445 \\u0438 \\u043e\\u0431\\u0449\\u0438\\u0445 \\u0441\\u0435\\u0442\\u0435\\u0432\\u044b\\u0445 \\u0440\\u0435\\u0441\\u0443\\u0440\\u0441\\u043e\\u0432, \\u0432 \\u0442\\u043e\\u043c \\u0447\\u0438\\u0441\\u043b\\u0435 \\u043f\\u0430\\u043f\\u043e\\u043a, \\u0444\\u0430\\u0439\\u043b\\u043e\\u0432 \\u0438 \\u043f\\u0440\\u0438\\u043d\\u0442\\u0435\\u0440\\u043e\\u0432.&lt;/li&gt; &lt;li&gt;\\u041f\\u043b\\u0430\\u043d\\u0438\\u0440\\u0443\\u0435\\u0442 \\u0438 \\u0440\\u0435\\u0430\\u043b\\u0438\\u0437\\u043e\\u0432\\u044b\\u0432\\u0430\\u0435\\u0442 \\u0441\\u0442\\u0440\\u0430\\u0442\\u0435\\u0433\\u0438\\u044e \\u0430\\u0443\\u0434\\u0438\\u0442\\u0430 \\u0441\\u043e\\u0431\\u044b\\u0442\\u0438\\u0439 \\u0432 \\u0441\\u0435\\u0442\\u0438 \\u0441 \\u0446\\u0435\\u043b\\u044c\\u044e \\u043e\\u0431\\u043d\\u0430\\u0440\\u0443\\u0436\\u0435\\u043d\\u0438\\u044f \\u0438 \\u0443\\u0441\\u0442\\u0440\\u0430\\u043d\\u0435\\u043d\\u0438\\u044f \\u043d\\u0430\\u0440\\u0443\\u0448\\u0435\\u043d\\u0438\\u0439 \\u0437\\u0430\\u0449\\u0438\\u0442\\u044b. \\u0423\\u043f\\u0440\\u0430\\u0432\\u043b\\u044f\\u0435\\u0442 \\u0440\\u0435\\u0441\\u0443\\u0440\\u0441\\u0430\\u043c\\u0438 \\u0438 \\u043a\\u043e\\u043d\\u0442\\u0440\\u043e\\u043b\\u0438\\u0440\\u0443\\u0435\\u0442 \\u0438\\u0445 \\u0438\\u0441\\u043f\\u043e\\u043b\\u044c\\u0437\\u043e\\u0432\\u0430\\u043d\\u0438\\u0435.&lt;/li&gt; &lt;/ul&gt; &lt;strong&gt;\\u0422\\u0440\\u0435\\u0431\\u043e\\u0432\\u0430\\u043d\\u0438\\u044f:&lt;/strong&gt; &lt;ul&gt; &lt;li&gt;\\u0412\\u044b\\u0441\\u0448\\u0435\\u0435 \\u0438\\u043b\\u0438 \\u043d\\u0435\\u043e\\u043a\\u043e\\u043d\\u0447\\u0435\\u043d\\u043d\\u043e\\u0435 \\u0432\\u044b\\u0441\\u0448\\u0435\\u0435 \\u043e\\u0431\\u0440\\u0430\\u0437\\u043e\\u0432\\u0430\\u043d\\u0438\\u0435; \\u043f\\u0440\\u0430\\u043a\\u0442\\u0438\\u0447\\u0435\\u0441\\u043a\\u0438\\u0439 \\u043e\\u043f\\u044b\\u0442 \\u0440\\u0430\\u0431\\u043e\\u0442\\u044b \\u043d\\u0435 \\u043c\\u0435\\u043d\\u0435\\u0435 2 \\u043b\\u0435\\u0442 \\u0432 \\u043e\\u0434\\u043d\\u043e\\u0439 \\u0438\\u0437 \\u0441\\u043b\\u0435\\u0434\\u0443\\u044e\\u0449\\u0438\\u0445 \\u043e\\u0431\\u043b\\u0430\\u0441\\u0442\\u0435\\u0439: \\u0430\\u0432\\u0442\\u043e\\u043c\\u0430\\u0442\\u0438\\u0437\\u0430\\u0446\\u0438\\u044f \\u043f\\u0440\\u043e\\u0446\\u0435\\u0441\\u0441\\u043e\\u0432 \\u0434\\u0435\\u044f\\u0442\\u0435\\u043b\\u044c\\u043d\\u043e\\u0441\\u0442\\u0438, \\u0432\\u043d\\u0435\\u0434\\u0440\\u0435\\u043d\\u0438\\u0435 \\u0441\\u0438\\u0441\\u0442\\u0435\\u043c \\u0430\\u0432\\u0442\\u043e\\u043c\\u0430\\u0442\\u0438\\u0437\\u0430\\u0446\\u0438\\u0438; \\u0440\\u0430\\u0437\\u0440\\u0430\\u0431\\u043e\\u0442\\u043a\\u0430, \\u0432\\u043d\\u0435\\u0434\\u0440\\u0435\\u043d\\u0438\\u0435 \\u0438 \\u0441\\u043e\\u043f\\u0440\\u043e\\u0432\\u043e\\u0436\\u0434\\u0435\\u043d\\u0438\\u0435 \\u0438\\u043d\\u0444\\u043e\\u0440\\u043c\\u0430\\u0446\\u0438\\u043e\\u043d\\u043d\\u044b\\u0445 \\u0441\\u0438\\u0441\\u0442\\u0435\\u043c; \\u0430\\u0434\\u043c\\u0438\\u043d\\u0438\\u0441\\u0442\\u0440\\u0438\\u0440\\u043e\\u0432\\u0430\\u043d\\u0438\\u0435 \\u0438\\u043d\\u0444\\u043e\\u0440\\u043c\\u0430\\u0446\\u0438\\u043e\\u043d\\u043d\\u044b\\u0445 \\u0441\\u0438\\u0441\\u0442\\u0435\\u043c; \\u043d\\u0430\\u0432\\u044b\\u043a\\u0438 \\u043f\\u0440\\u043e\\u0433\\u0440\\u0430\\u043c\\u043c\\u0438\\u0440\\u043e\\u0432\\u0430\\u043d\\u0438\\u044f \\u043d\\u0430 \\u043e\\u0434\\u043d\\u043e\\u043c \\u0438\\u043b\\u0438 \\u043d\\u0435\\u0441\\u043a\\u043e\\u043b\\u044c\\u043a\\u0438\\u0445 \\u0438\\u0437 \\u044f\\u0437\\u044b\\u043a\\u043e\\u0432: \\u0441\\u0435\\u043c\\u0435\\u0439\\u0441\\u0442\\u0432\\u043e C, PHP, Python, Perl, ASP, JSP, ColdFusion, SQL, PL/SQL, Java, JavaScript.&lt;/li&gt; &lt;/ul&gt; \\u0423\\u0441\\u043b\\u043e\\u0432\\u0438\\u044f: &lt;ul&gt; &lt;li&gt;\\u0421\\u043e\\u0446.\\u043f\\u0430\\u043a\\u0435\\u0442&lt;/li&gt; &lt;li&gt;6/1&lt;/li&gt; &lt;/ul&gt;\",\n          \"&lt;strong&gt;\\u041e\\u0431\\u044f\\u0437\\u0430\\u043d\\u043d\\u043e\\u0441\\u0442\\u0438:&lt;/strong&gt; &lt;ul&gt; &lt;li&gt;\\u0421\\u043e\\u0437\\u0434\\u0430\\u043d\\u0438\\u0435 \\u0441\\u0430\\u0439\\u0442\\u043e\\u0432.&lt;/li&gt; &lt;li&gt;\\u0423\\u0441\\u0442\\u0430\\u043d\\u043e\\u0432\\u043a\\u0430 \\u0438 \\u043f\\u043e\\u0434\\u0434\\u0435\\u0440\\u0436\\u043a\\u0430 1\\u0421 \\u0438 \\u0434\\u0440\\u0443\\u0433\\u0438\\u0445 \\u043f\\u0440\\u043e\\u0433\\u0440\\u0430\\u043c\\u043c.&lt;/li&gt; &lt;li&gt;\\u041f\\u0440\\u043e\\u043a\\u043b\\u0430\\u0434\\u043a\\u0430, \\u0430\\u0434\\u043c\\u0438\\u043d\\u0438\\u0441\\u0442\\u0440\\u0438\\u0440\\u043e\\u0432\\u0430\\u043d\\u0438\\u0435 \\u043a\\u043e\\u043c\\u043f\\u044c\\u044e\\u0442\\u0435\\u0440\\u043d\\u044b\\u0445 \\u0441\\u0435\\u0442\\u0435\\u0439.&lt;/li&gt; &lt;/ul&gt; &lt;strong&gt;\\u0422\\u0440\\u0435\\u0431\\u043e\\u0432\\u0430\\u043d\\u0438\\u044f:&lt;/strong&gt; &lt;ul&gt; &lt;li&gt;\\u041a\\u043e\\u043c\\u043c\\u0443\\u043d\\u0438\\u043a\\u0430\\u0431\\u0435\\u043b\\u044c\\u043d\\u043e\\u0441\\u0442\\u044c.&lt;/li&gt; &lt;li&gt;\\u0423\\u043c\\u0435\\u043d\\u0438\\u0435 \\u0440\\u0430\\u0431\\u043e\\u0442\\u0430\\u0442\\u044c \\u0432 \\u043a\\u043e\\u043c\\u0430\\u043d\\u0434\\u0435.&lt;/li&gt; &lt;/ul&gt; &lt;strong&gt;\\u0423\\u0441\\u043b\\u043e\\u0432\\u0438\\u044f:&lt;/strong&gt; &lt;ul&gt; &lt;li&gt;\\u0420\\u0430\\u0431\\u043e\\u0442\\u0430 \\u0432 \\u043e\\u0444\\u0438\\u0441\\u0435.&lt;/li&gt; &lt;/ul&gt;\",\n          \"&lt;p&gt;\\u041c\\u0435\\u043d\\u0435\\u0434\\u0436\\u0435\\u0440 \\u043d\\u0430 \\u0434\\u0430\\u043d\\u043d\\u043e\\u0439 \\u043f\\u043e\\u0437\\u0438\\u0446\\u0438\\u0438 \\u0440\\u0430\\u0431\\u043e\\u0442\\u0430\\u0435\\u0442 \\u0441 \\u043a\\u043b\\u0438\\u0435\\u043d\\u0442\\u0430\\u043c\\u0438 \\u0438\\u0437 \\u041c\\u0421\\u0411, \\u043a\\u043e\\u0440\\u043f\\u043e\\u0440\\u0430\\u0442\\u0438\\u0432\\u043d\\u043e\\u0433\\u043e \\u0441\\u0435\\u0433\\u043c\\u0435\\u043d\\u0442\\u0430 \\u0431\\u0438\\u0437\\u043d\\u0435\\u0441\\u0430, \\u0430 \\u0442\\u0430\\u043a\\u0436\\u0435 \\u0441 \\u0433\\u043e\\u0441. \\u0438 \\u043a\\u0432\\u0430\\u0437\\u0438-\\u0433\\u043e\\u0441\\u0443\\u0434\\u0430\\u0440\\u0441\\u0442\\u0432\\u0435\\u043d\\u043d\\u044b\\u043c\\u0438 \\u0443\\u0447\\u0440\\u0435\\u0436\\u0434\\u0435\\u043d\\u0438\\u044f\\u043c\\u0438.&lt;/p&gt; &lt;p&gt;\\u041f\\u043e\\u0434\\u0447\\u0438\\u043d\\u044f\\u0435\\u0442\\u0441\\u044f \\u0440\\u0443\\u043a\\u043e\\u0432\\u043e\\u0434\\u0438\\u0442\\u0435\\u043b\\u044e \\u043e\\u0442\\u0434\\u0435\\u043b\\u0430 \\u043f\\u0440\\u043e\\u0434\\u0430\\u0436.&lt;/p&gt; &lt;p&gt;&lt;strong&gt;\\u041e\\u0431\\u044f\\u0437\\u0430\\u043d\\u043d\\u043e\\u0441\\u0442\\u0438:&lt;/strong&gt;&lt;/p&gt; &lt;ol&gt; &lt;li&gt;\\u041e\\u043f\\u0435\\u0440\\u0430\\u0442\\u0438\\u0432\\u043d\\u0430\\u044f \\u043e\\u0431\\u0440\\u0430\\u0431\\u043e\\u0442\\u043a\\u0430 \\u043e\\u0431\\u0440\\u0430\\u0449\\u0435\\u043d\\u0438\\u0439 \\u043a\\u043b\\u0438\\u0435\\u043d\\u0442\\u043e\\u0432 - \\u043f\\u043e\\u0433\\u0440\\u0443\\u0436\\u0435\\u043d\\u0438\\u0435 \\u0432 \\u043f\\u043e\\u0442\\u0440\\u0435\\u0431\\u043d\\u043e\\u0441\\u0442\\u0438 \\u043a\\u043b\\u0438\\u0435\\u043d\\u0442\\u0430 \\u0432 \\u043e\\u0431\\u043e\\u0440\\u0443\\u0434\\u043e\\u0432\\u0430\\u043d\\u0438\\u0438 \\u0438 \\u041f\\u041e, \\u0431\\u044e\\u0434\\u0436\\u0435\\u0442\\u0430 \\u043a\\u043b\\u0438\\u0435\\u043d\\u0442\\u0430, \\u0441\\u0440\\u043e\\u043a\\u0430 \\u0438 \\u0443\\u0441\\u043b\\u043e\\u0432\\u0438\\u0439 \\u043f\\u043e\\u0441\\u0442\\u0430\\u0432\\u043a\\u0438, \\u0432\\u043e\\u0437\\u043c\\u043e\\u0436\\u043d\\u043e\\u0441\\u0442\\u044c \\u043f\\u0440\\u0435\\u0434\\u043b\\u043e\\u0436\\u0435\\u043d\\u0438\\u044f \\u0430\\u043d\\u0430\\u043b\\u043e\\u0433\\u043e\\u0432, \\u0432\\u044b\\u044f\\u0432\\u043b\\u0435\\u043d\\u0438\\u044f \\u0434\\u043e\\u043f\\u043e\\u043b\\u043d\\u0438\\u0442\\u0435\\u043b\\u044c\\u043d\\u044b\\u0445 \\u043f\\u043e\\u0442\\u0440\\u0435\\u0431\\u043d\\u043e\\u0441\\u0442\\u0435\\u0439:&lt;/li&gt; &lt;li&gt;\\u041e\\u0431\\u0440\\u0430\\u0431\\u043e\\u0442\\u043a\\u0430 \\u0442\\u0435\\u0445\\u043d\\u0438\\u0447\\u0435\\u0441\\u043a\\u0438\\u0445 \\u0441\\u043f\\u0435\\u0446\\u0438\\u0444\\u0438\\u043a\\u0430\\u0446\\u0438\\u0439 - \\u043f\\u043e\\u0434\\u0431\\u043e\\u0440 \\u043e\\u0431\\u043e\\u0440\\u0443\\u0434\\u043e\\u0432\\u0430\\u043d\\u0438\\u044f \\u0441\\u043e \\u0441\\u0442\\u043e\\u043a\\u0430, \\u0442\\u0440\\u0430\\u043d\\u0437\\u0438\\u0442\\u0430 \\u0438 \\u043f\\u043e\\u0434 \\u0437\\u0430\\u043a\\u0430\\u0437, \\u0440\\u0430\\u0431\\u043e\\u0442\\u0430 \\u0441 \\u043f\\u0443\\u043b\\u043e\\u043c \\u043f\\u043e\\u0441\\u0442\\u0430\\u0432\\u0449\\u0438\\u043a\\u043e\\u0432;&lt;/li&gt; &lt;li&gt;\\u0421\\u043e\\u043f\\u0440\\u043e\\u0432\\u043e\\u0436\\u0434\\u0435\\u043d\\u0438\\u0435 \\u0441\\u0434\\u0435\\u043b\\u043a\\u0438 \\u043d\\u0430 \\u0432\\u0441\\u0435\\u043c \\u0436\\u0438\\u0437\\u043d\\u0435\\u043d\\u043d\\u043e\\u043c \\u0446\\u0438\\u043a\\u043b\\u0435, \\u0432\\u043a\\u043b\\u044e\\u0447\\u0430\\u044f \\u043e\\u0444\\u043e\\u0440\\u043c\\u043b\\u0435\\u043d\\u0438\\u0435 \\u0434\\u043e\\u0433\\u043e\\u0432\\u043e\\u0440\\u043e\\u0432, \\u0440\\u0430\\u0437\\u043c\\u0435\\u0449\\u0435\\u043d\\u0438\\u0435 \\u043d\\u0430 \\u0442\\u0435\\u043d\\u0434\\u0435\\u0440\\u043d\\u044b\\u0445 \\u043f\\u043b\\u043e\\u0449\\u0430\\u0434\\u043a\\u0430\\u0445, \\u0437\\u0430\\u043a\\u0440\\u044b\\u0442\\u0438\\u0435 \\u0431\\u0443\\u0445\\u0433\\u0430\\u043b\\u0442\\u0435\\u0440\\u0441\\u043a\\u0438\\u0445 \\u0434\\u043e\\u043a\\u0443\\u043c\\u0435\\u043d\\u0442\\u043e\\u0432, \\u043b\\u043e\\u0433\\u0438\\u0441\\u0442\\u0438\\u043a\\u0430, \\u043e\\u043f\\u043b\\u0430\\u0442\\u0430 \\u0438 \\u0442\\u0430\\u043a \\u0434\\u0430\\u043b\\u0435\\u0435.&lt;/li&gt; &lt;li&gt;\\u0412\\u0435\\u0434\\u0435\\u043d\\u0438\\u0435 \\u0441\\u0434\\u0435\\u043b\\u043e\\u043a \\u0432 CRM-\\u0441\\u0438\\u0441\\u0442\\u0435\\u043c\\u0435, \\u043f\\u043b\\u0430\\u043d\\u0438\\u0440\\u043e\\u0432\\u0430\\u043d\\u0438\\u0435, \\u0437\\u0430\\u0434\\u0430\\u0447\\u0438;&lt;/li&gt; &lt;li&gt;\\u0412\\u044b\\u043f\\u043e\\u043b\\u043d\\u0435\\u043d\\u0438\\u0435 \\u043f\\u043b\\u0430\\u043d\\u043e\\u0432 \\u043f\\u043e \\u043f\\u0440\\u043e\\u0434\\u0430\\u0436\\u0430\\u043c.&lt;/li&gt; &lt;/ol&gt; &lt;p&gt;&lt;strong&gt;\\u0422\\u0440\\u0435\\u0431\\u043e\\u0432\\u0430\\u043d\\u0438\\u044f:&lt;/strong&gt;&lt;/p&gt; &lt;ol&gt; &lt;li&gt;\\u041e\\u043f\\u044b\\u0442 \\u0440\\u0430\\u0431\\u043e\\u0442\\u044b \\u0432 \\u043f\\u0440\\u043e\\u0434\\u0430\\u0436\\u0430\\u0445 \\u0436\\u0435\\u043b\\u0430\\u0442\\u0435\\u043b\\u0435\\u043d;&lt;/li&gt; &lt;li&gt;&lt;strong&gt;\\u0417\\u043d\\u0430\\u043d\\u0438\\u0435 \\u043a\\u043e\\u043c\\u043f\\u044c\\u044e\\u0442\\u0435\\u0440\\u043d\\u043e\\u0433\\u043e \\u0438 \\u0441\\u0435\\u0440\\u0432\\u0435\\u0440\\u043d\\u043e\\u0433\\u043e \\u043e\\u0431\\u043e\\u0440\\u0443\\u0434\\u043e\\u0432\\u0430\\u043d\\u0438\\u044f \\u043d\\u0430 \\u0443\\u0440\\u043e\\u0432\\u043d\\u0435 presales manager - \\u043e\\u0431\\u044f\\u0437\\u0430\\u0442\\u0435\\u043b\\u044c\\u043d\\u043e\\u0435 \\u0443\\u0441\\u043b\\u043e\\u0432\\u0438\\u0435.&lt;/strong&gt;&lt;/li&gt; &lt;li&gt;\\u041e\\u0442\\u043b\\u0438\\u0447\\u043d\\u044b\\u0435 \\u043a\\u043e\\u043c\\u043c\\u0443\\u043d\\u0438\\u043a\\u0430\\u0442\\u0438\\u0432\\u043d\\u044b\\u0435 \\u043d\\u0430\\u0432\\u044b\\u043a\\u0438 \\u2013 \\u0443\\u043c\\u0435\\u043d\\u0438\\u0435 \\u0441\\u043b\\u044b\\u0448\\u0430\\u0442\\u044c \\u0438 \\u0441\\u043b\\u0443\\u0448\\u0430\\u0442\\u044c \\u043a\\u043b\\u0438\\u0435\\u043d\\u0442\\u0430, \\u0443\\u043c\\u0435\\u043d\\u0438\\u0435 \\u0434\\u043e\\u0433\\u043e\\u0432\\u0430\\u0440\\u0438\\u0432\\u0430\\u0442\\u044c\\u0441\\u044f, \\u0443\\u043c\\u0435\\u043d\\u0438\\u0435 \\u0440\\u0435\\u0448\\u0430\\u0442\\u044c \\u043a\\u043e\\u043d\\u0444\\u043b\\u0438\\u043a\\u0442\\u043d\\u044b\\u0435 \\u0441\\u0438\\u0442\\u0443\\u0430\\u0446\\u0438\\u0438 - \\u0433\\u0440\\u0430\\u043c\\u043e\\u0442\\u043d\\u0430\\u044f \\u0443\\u0441\\u0442\\u043d\\u0430\\u044f \\u0438 \\u043f\\u0438\\u0441\\u044c\\u043c\\u0435\\u043d\\u043d\\u0430\\u044f \\u0440\\u0435\\u0447\\u044c;&lt;/li&gt; &lt;li&gt;\\u0421\\u0430\\u043c\\u043e\\u0434\\u0438\\u0441\\u0446\\u0438\\u043f\\u043b\\u0438\\u043d\\u0430 \\u0432\\u044b\\u0441\\u043e\\u043a\\u043e\\u0433\\u043e \\u0443\\u0440\\u043e\\u0432\\u043d\\u044f, \\u0443\\u0441\\u0438\\u0434\\u0447\\u0438\\u0432\\u043e\\u0441\\u0442\\u044c, \\u043f\\u043e\\u0433\\u0440\\u0443\\u0436\\u0435\\u043d\\u0438\\u0435 \\u0432 \\u0437\\u0430\\u0434\\u0430\\u0447\\u0443, \\u0443\\u043c\\u0435\\u043d\\u0438\\u0435 \\u043f\\u043b\\u0430\\u043d\\u0438\\u0440\\u043e\\u0432\\u0430\\u0442\\u044c \\u0440\\u0430\\u0431\\u043e\\u0447\\u0435\\u0435 \\u0432\\u0440\\u0435\\u043c\\u044f, \\u0434\\u043e\\u0441\\u0442\\u0438\\u0433\\u0430\\u0442\\u044c \\u0440\\u0435\\u0437\\u0443\\u043b\\u044c\\u0442\\u0430\\u0442\\u043e\\u0432, \\u0438 \\u0432\\u044b\\u043f\\u043e\\u043b\\u043d\\u044f\\u0442\\u044c \\u0437\\u0430\\u0434\\u0430\\u0447\\u0438 \\u043a \\u0443\\u0441\\u0442\\u0430\\u043d\\u043e\\u0432\\u043b\\u0435\\u043d\\u043d\\u043e\\u043c\\u0443 \\u0441\\u0440\\u043e\\u043a\\u0443.&lt;/li&gt; &lt;li&gt;\\u0417\\u043d\\u0430\\u043d\\u0438\\u0435 \\u0434\\u0435\\u043b\\u043e\\u0432\\u043e\\u0439 \\u043f\\u0435\\u0440\\u0435\\u043f\\u0438\\u0441\\u043a\\u0438;&lt;/li&gt; &lt;/ol&gt; &lt;p&gt;&lt;strong&gt;\\u041f\\u0440\\u0435\\u0438\\u043c\\u0443\\u0449\\u0435\\u0441\\u0442\\u0432\\u0430 \\u0438 \\u0432\\u043e\\u0437\\u043c\\u043e\\u0436\\u043d\\u043e\\u0441\\u0442\\u0438:&lt;/strong&gt;&lt;/p&gt; &lt;ol&gt; &lt;li&gt;\\u0412\\u043e\\u0437\\u043c\\u043e\\u0436\\u043d\\u043e\\u0441\\u0442\\u044c \\u0440\\u0435\\u0430\\u043b\\u044c\\u043d\\u043e\\u0433\\u043e \\u043a\\u0430\\u0440\\u044c\\u0435\\u0440\\u043d\\u043e\\u0433\\u043e \\u0440\\u043e\\u0441\\u0442 \\u0438 \\u043f\\u043e\\u043b\\u0443\\u0447\\u0435\\u043d\\u0438\\u044f \\u0432\\u044b\\u0441\\u043e\\u043a\\u043e\\u0439 \\u0437\\u0430\\u0440\\u0430\\u0431\\u043e\\u0442\\u043d\\u043e\\u0439 \\u043f\\u043b\\u0430\\u0442\\u044b \\u0432 \\u0431\\u044b\\u0441\\u0442\\u0440\\u043e\\u0440\\u0430\\u0441\\u0442\\u0443\\u0449\\u0435\\u0439 \\u0441\\u043e\\u0432\\u0440\\u0435\\u043c\\u0435\\u043d\\u043d\\u043e\\u0439 \\u0441\\u0442\\u0440\\u0443\\u043a\\u0442\\u0443\\u0440\\u0438\\u0440\\u043e\\u0432\\u0430\\u043d\\u043d\\u043e\\u0439 IT \\u041a\\u043e\\u043c\\u043f\\u0430\\u043d\\u0438\\u0438 \\u043f\\u0440\\u0438 \\u0443\\u0441\\u043b\\u043e\\u0432\\u0438\\u0438 \\u043f\\u043e\\u043b\\u043d\\u043e\\u0439 \\u0441\\u0430\\u043c\\u043e\\u043e\\u0442\\u0434\\u0430\\u0447\\u0438 \\u0438 \\u043d\\u0430\\u0446\\u0435\\u043b\\u0435\\u043d\\u043d\\u043e\\u0441\\u0442\\u0438 \\u043d\\u0430 \\u0440\\u0435\\u0437\\u0443\\u043b\\u044c\\u0442\\u0430\\u0442;&lt;/li&gt; &lt;li&gt;\\u0420\\u0430\\u0437\\u043d\\u043e\\u043e\\u0431\\u0440\\u0430\\u0437\\u0438\\u0435 \\u0438 \\u0440\\u0430\\u0432\\u0435\\u043d\\u0441\\u0442\\u0432\\u043e \\u0432\\u043e\\u0437\\u043c\\u043e\\u0436\\u043d\\u043e\\u0441\\u0442\\u0435\\u0439;&lt;/li&gt; &lt;li&gt;\\u0421\\u043e\\u0432\\u0440\\u0435\\u043c\\u0435\\u043d\\u043d\\u044b\\u0439 \\u0443\\u0434\\u043e\\u0431\\u043d\\u044b\\u0439 \\u043e\\u0444\\u0438\\u0441 \\u0432 \\u0432\\u0435\\u0440\\u0445\\u043d\\u0435\\u0439 \\u0447\\u0430\\u0441\\u0442\\u0438 \\u0433\\u043e\\u0440\\u043e\\u0434\\u0430;&lt;/li&gt; &lt;li&gt;\\u041f\\u043e\\u0441\\u0442\\u043e\\u044f\\u043d\\u043d\\u043e\\u0435 \\u043e\\u0431\\u0443\\u0447\\u0435\\u043d\\u0438\\u0435 \\u0438 \\u0440\\u0430\\u0437\\u0432\\u0438\\u0442\\u0438\\u0435 - \\u043f\\u0440\\u043e\\u0434\\u0430\\u0436\\u0438, \\u043f\\u0435\\u0440\\u0435\\u0433\\u043e\\u0432\\u043e\\u0440\\u044b, IT \\u0442\\u0435\\u0445\\u043d\\u043e\\u043b\\u043e\\u0433\\u0438\\u0438;&lt;/li&gt; &lt;li&gt;\\u0413\\u0440\\u0430\\u0444\\u0438\\u043a \\u0440\\u0430\\u0431\\u043e\\u0442\\u044b 5/2, \\u0441 9-00 \\u0434\\u043e 18-00.&lt;/li&gt; &lt;li&gt;\\u0424\\u0438\\u043a\\u0441\\u0438\\u0440\\u043e\\u0432\\u0430\\u043d\\u043d\\u044b\\u0439 \\u043e\\u043a\\u043b\\u0430\\u0434 + % \\u043e\\u0442 \\u043f\\u0440\\u043e\\u0434\\u0430\\u0436.&lt;/li&gt; &lt;li&gt;\\u041c\\u043e\\u043b\\u043e\\u0434\\u043e\\u0439 \\u0438 \\u0434\\u0440\\u0443\\u0436\\u043d\\u044b\\u0439 \\u043a\\u043e\\u043b\\u043b\\u0435\\u043a\\u0442\\u0438\\u0432.&lt;/li&gt; &lt;/ol&gt; &lt;p&gt; &lt;/p&gt;\"\n        ],\n        \"semantic_type\": \"\",\n        \"description\": \"\"\n      }\n    },\n    {\n      \"column\": \"clean_description\",\n      \"properties\": {\n        \"dtype\": \"string\",\n        \"num_unique_values\": 294,\n        \"samples\": [\n          \"\\u043e\\u0431\\u044f\\u0437\\u0430\\u043d\\u043d\\u043e\\u0441\\u0442\\u0438 \\u043e\\u043f\\u0438\\u0441\\u0430\\u043d\\u0438\\u0435 \\u0431\\u0438\\u0437\\u043d\\u0435\\u0441 \\u043f\\u0440\\u043e\\u0446\\u0435\\u0441\\u0441\\u043e\\u0432 \\u043f\\u043e\\u0441\\u0442\\u0440\\u043e\\u0435\\u043d\\u0438\\u0435 \\u0442\\u0435\\u0445\\u043d\\u0438\\u0447\\u0435\\u0441\\u043a\\u0438\\u0445 \\u043a\\u0430\\u0440\\u0442 \\u0431\\u043b\\u043e\\u043a \\u0441\\u0445\\u0435\\u043c \\u0431\\u0438\\u0437\\u043d\\u0435\\u0441 \\u043f\\u0440\\u043e\\u0446\\u0435\\u0441\\u0441\\u0430\\u043c \\u043e\\u043f\\u0438\\u0441\\u0430\\u043d\\u0438\\u0435 \\u0432\\u043d\\u0443\\u0442\\u0440\\u0435\\u043d\\u043d\\u0435\\u0439 \\u043d\\u043e\\u0440\\u043c\\u0430\\u0442\\u0438\\u0432\\u043d\\u043e\\u0439 \\u0434\\u043e\\u043a\\u0443\\u043c\\u0435\\u043d\\u0442\\u0430\\u0446\\u0438\\u0438 \\u0440\\u0435\\u0433\\u043b\\u0430\\u043c\\u0435\\u043d\\u0442\\u0438\\u0440\\u0443\\u044e\\u0449\\u0435\\u0439 \\u0434\\u0435\\u044f\\u0442\\u0435\\u043b\\u044c\\u043d\\u043e\\u0441\\u0442\\u044c \\u0441\\u0442\\u0440\\u0443\\u043a\\u0442\\u0443\\u0440\\u043d\\u044b\\u0445 \\u043f\\u043e\\u0434\\u0440\\u0430\\u0437\\u0434\\u0435\\u043b\\u0435\\u043d\\u0438\\u0439 \\u0430\\u0432\\u0442\\u043e\\u043c\\u0430\\u0442\\u0438\\u0437\\u0430\\u0446\\u0438\\u044f \\u0431\\u0438\\u0437\\u043d\\u0435\\u0441 \\u043f\\u0440\\u043e\\u0446\\u0435\\u0441\\u0441\\u043e\\u0432 \\u043e\\u043f\\u0442\\u0438\\u043c\\u0438\\u0437\\u0430\\u0446\\u0438\\u044f \\u0440\\u0435\\u0438\\u043d\\u0436\\u0438\\u043d\\u0438\\u0440\\u0438\\u043d\\u0433 \\u0431\\u0438\\u0437\\u043d\\u0435\\u0441 \\u043f\\u0440\\u043e\\u0446\\u0435\\u0441\\u0441\\u043e\\u0432 \\u043c\\u043e\\u0434\\u0435\\u043b\\u0438\\u0440\\u043e\\u0432\\u0430\\u043d\\u0438\\u0435 \\u0442\\u0435\\u043a\\u0443\\u0449\\u0438\\u0445 \\u043e\\u0441\\u043d\\u043e\\u0432\\u043d\\u044b\\u0445 \\u043f\\u0440\\u043e\\u0446\\u0435\\u0441\\u0441\\u043e\\u0432 \\u043a\\u043e\\u043c\\u043f\\u0430\\u043d\\u0438\\u0438 \\u043e\\u043f\\u0438\\u0441\\u0430\\u043d\\u0438\\u0435 \\u0441\\u043e\\u0433\\u043b\\u0430\\u0441\\u043e\\u0432\\u0430\\u043d\\u0438\\u0435 \\u0432\\u043d\\u0435\\u0434\\u0440\\u0435\\u043d\\u0438\\u0435 \\u0442\\u0435\\u0445\\u043d\\u0438\\u0447\\u0435\\u0441\\u043a\\u0438\\u0445 \\u0437\\u0430\\u0434\\u0430\\u043d\\u0438\\u0439 \\u0442\\u0440\\u0435\\u0431\\u043e\\u0432\\u0430\\u043d\\u0438\\u044f \\u043e\\u0431\\u0440\\u0430\\u0437\\u043e\\u0432\\u0430\\u043d\\u0438\\u0435 \\u0432\\u044b\\u0441\\u0448\\u0435\\u0435 \\u0436\\u0435\\u043b\\u0430\\u0442\\u0435\\u043b\\u044c\\u043d\\u043e \\u0442\\u0435\\u0445\\u043d\\u0438\\u0447\\u0435\\u0441\\u043a\\u043e\\u0435 \\u043e\\u043f\\u044b\\u0442 \\u0440\\u0430\\u0431\\u043e\\u0442\\u044b \\u043f\\u0440\\u043e\\u0435\\u043a\\u0442\\u043d\\u044b\\u0445 \\u0433\\u0440\\u0443\\u043f\\u043f\\u0430\\u0445 \\u0440\\u0435\\u0430\\u043b\\u0438\\u0437\\u0430\\u0446\\u0438\\u0438 \\u0430\\u0432\\u0442\\u043e\\u043c\\u0430\\u0442\\u0438\\u0437\\u0438\\u0440\\u043e\\u0432\\u0430\\u043d\\u043d\\u044b\\u0445 \\u0441\\u0438\\u0441\\u0442\\u0435\\u043c \\u043e\\u043f\\u044b\\u0442 \\u0432\\u043d\\u0435\\u0434\\u0440\\u0435\\u043d\\u0438\\u044f \\u0430\\u0432\\u0442\\u043e\\u043c\\u0430\\u0442\\u0438\\u0437\\u0438\\u0440\\u043e\\u0432\\u0430\\u043d\\u043d\\u044b\\u0445 \\u0438\\u043d\\u0444\\u043e\\u0440\\u043c\\u0430\\u0446\\u0438\\u043e\\u043d\\u043d\\u044b\\u0445 \\u0441\\u0438\\u0441\\u0442\\u0435\\u043c \\u043d\\u0430\\u0432\\u044b\\u043a\\u0438 \\u0440\\u0430\\u0431\\u043e\\u0442\\u044b \\u0441\\u0438\\u0441\\u0442\\u0435\\u043c\\u0435 \\u043c\\u0435\\u043d\\u0435\\u0434\\u0436\\u043c\\u0435\\u043d\\u0442\\u0430 \\u043a\\u0430\\u0447\\u0435\\u0441\\u0442\\u0432\\u0430\",\n          \"\\u0443\\u0432\\u0430\\u0436\\u0430\\u0435\\u043c\\u044b\\u0439 \\u043a\\u0430\\u043d\\u0434\\u0438\\u0434\\u0430\\u0442 \\u043f\\u0440\\u0438\\u0433\\u043b\\u0430\\u0448\\u0430\\u0435\\u043c \\u043d\\u0430\\u0448\\u0443 \\u043a\\u043e\\u043c\\u0430\\u043d\\u0434\\u0443 good result \\u043e\\u0431\\u044f\\u0437\\u0430\\u043d\\u043d\\u043e\\u0441\\u0442\\u0438 \\u0441\\u043e\\u0437\\u0434\\u0430\\u043d\\u0438\\u0435 \\u0431\\u043e\\u0442o\\u0432 whatsapp \\u0442\\u0435\\u043b\\u0435\\u0433\\u0440\\u0430\\u043c \\u0438\\u0441\\u043f\\u043e\\u043b\\u044c\\u0437\\u043e\\u0432\\u0430\\u043d\\u0438\\u0435\\u043c python php etc \\u043f\\u043e\\u043c\\u043e\\u0449\\u044c\\u044e \\u0441\\u0435\\u0440\\u0432\\u0438\\u0441\\u0430 \\u0441\\u043e\\u0437\\u0434\\u0430\\u043d\\u0438\\u0435 \\u0441\\u0430\\u0439\\u0442\\u043e\\u0432 wordpress html css javascript \\u0437\\u043d\\u0430\\u043d\\u0438\\u0435 vue js angular react js \\u0434\\u0440\\u0443\\u0433\\u0438\\u0445 \\u0444\\u0440\\u0435\\u0439\\u043c\\u0432\\u043e\\u0440\\u043a\\u043e\\u0432 \\u0444\\u0440\\u043e\\u043d\\u0442\\u0435\\u043d\\u0434\\u0430 \\u0443\\u0441\\u0442\\u0430\\u043d\\u043e\\u0432\\u043a\\u0430 windows linux ubuntu mint \\u043f\\u0440\\u043e\\u0447\\u0438\\u0445 \\u0434\\u0438\\u0441\\u0442\\u0440\\u0438\\u0431\\u0443\\u0442\\u0438\\u0432\\u043e\\u0432 \\u0440\\u0430\\u0437\\u043b\\u0438\\u0447\\u043d\\u044b\\u0435 \\u0430\\u043d\\u0442\\u0438\\u0432\\u0438\\u0440\\u0443\\u0441\\u044b ms office \\u0442\\u0440\\u0435\\u0431\\u043e\\u0432\\u0430\\u043d\\u0438\\u044f \\u0437\\u043d\\u0430\\u043d\\u0438\\u0435 \\u043e\\u0441\\u043d\\u043e\\u0432\\u043d\\u044b\\u0445 \\u043f\\u0440\\u0438\\u043d\\u0446\\u0438\\u043f\\u043e\\u0432 \\u0431\\u0430\\u0437\\u044b \\u0434\\u0430\\u043d\\u043d\\u044b\\u0445 mysql node js mongodb \\u0443\\u043c\\u0435\\u043d\\u0438\\u0435 \\u0440\\u0430\\u0431\\u043e\\u0442\\u0430\\u0442\\u044c coreldraw adobe ps \\u0440\\u0430\\u0437\\u043b\\u0438\\u0447\\u043d\\u044b\\u0435 \\u0432\\u0438\\u0434\\u0435\\u043e\\u0440\\u0435\\u0434\\u0430\\u043a\\u0442\\u043e\\u0440\\u044b \\u0437\\u043d\\u0430\\u043d\\u0438\\u0435 \\u0432\\u0435\\u0431 \\u0434\\u0438\\u0437\\u0430\\u0439\\u043d\\u0430 \\u0443\\u0441\\u043b\\u043e\\u0432\\u0438\\u044f \\u0433\\u0440\\u0430\\u0444\\u0438\\u043a \\u043e\\u0444\\u043e\\u0440\\u043c\\u043b\\u0435\\u043d\\u0438\\u0435 \\u0441\\u043e\\u0433\\u043b\\u0430\\u0441\\u043d\\u043e \\u0442\\u043a \\u0440\\u043a \\u0434\\u0440\\u0443\\u0436\\u0435\\u043b\\u044e\\u0431\\u043d\\u044b\\u0439 \\u043a\\u043e\\u043b\\u043b\\u0435\\u043a\\u0442\\u0438\\u0432 \\u0443\\u0434\\u043e\\u0431\\u043d\\u043e\\u0435 \\u0440\\u0430\\u0441\\u043f\\u043e\\u043b\\u043e\\u0436\\u0435\\u043d\\u0438\\u0435 \\u043e\\u0444\\u0438\\u0441\\u0430 \\u0441\\u0442\\u0430\\u043d\\u0446\\u0438\\u044f \\u043c\\u0435\\u0442\\u0440\\u043e \\u0430\\u043b\\u0430\\u0442\\u0430\\u0443\",\n          \"\\u043f\\u0440\\u0435\\u0434\\u043b\\u0430\\u0433\\u0430\\u0435\\u043c \\u043f\\u0435\\u0440\\u0432\\u043e\\u043d\\u0430\\u0447\\u0430\\u043b\\u044c\\u043d\\u044b\\u0439 \\u043e\\u043a\\u043b\\u0430\\u0434 \\u0442\\u0433 \\u0442\\u0433 \\u0438\\u0441\\u0445\\u043e\\u0434\\u044f \\u0432\\u0430\\u0448\\u0438\\u0445 \\u043d\\u0430\\u0432\\u044b\\u043a\\u043e\\u0432 \\u0440\\u043e\\u0441\\u0442\\u043e\\u043c \\u043d\\u0430\\u0432\\u044b\\u043a\\u043e\\u0432 \\u0431\\u0443\\u0434\\u0435\\u043c \\u0434\\u0430\\u043b\\u044c\\u0448\\u0435 \\u043f\\u043e\\u0432\\u044b\\u0448\\u0430\\u0442\\u044c \\u043e\\u043a\\u043b\\u0430\\u0434 \\u0433\\u0440\\u0430\\u0444\\u0438\\u043a \\u0440\\u0430\\u0431\\u043e\\u0442\\u044b \\u043c\\u043e\\u0436\\u0435\\u0442\\u0435 \\u0440\\u0430\\u0431\\u043e\\u0442\\u0430\\u0442\\u044c \\u043a\\u0430\\u043a\\u043e\\u043c \\u0434\\u0440\\u0443\\u0433\\u043e\\u043c \\u0433\\u0440\\u0430\\u0444\\u0438\\u043a\\u0435 \\u043e\\u0442\\u043a\\u0440\\u044b\\u0442\\u044b \\u0434\\u0438\\u0430\\u043b\\u043e\\u0433\\u0443 \\u0440\\u0430\\u0431\\u043e\\u0442\\u0430 \\u043b\\u0438\\u0431\\u043e \\u0443\\u0434\\u0430\\u043b\\u0451\\u043d\\u043a\\u0435 \\u043f\\u0440\\u043e\\u0436\\u0438\\u0432\\u0430\\u0435\\u0442\\u0435 \\u043a\\u0430\\u0440\\u0430\\u0433\\u0430\\u043d\\u0434\\u0435 \\u0430\\u043b\\u043c\\u0430\\u0442\\u0435 \\u043e\\u0444\\u0438\\u0441\\u0435 \\u0443\\u0434\\u0430\\u043b\\u0451\\u043d\\u043a\\u0435 \\u043f\\u043e\\u0434\\u0434\\u0435\\u0440\\u0436\\u0438\\u0432\\u0430\\u0435\\u043c \\u0441\\u043e\\u0442\\u0440\\u0443\\u0434\\u043d\\u0438\\u043a \\u0445\\u043e\\u0447\\u0435\\u0442 \\u043f\\u0440\\u0438\\u0432\\u043d\\u0435\\u0441\\u0442\\u0438 \\u0441\\u0432\\u043e\\u0451 \\u043f\\u0440\\u043e\\u0435\\u043a\\u0442 \\u0433\\u043b\\u0430\\u0432\\u043d\\u043e\\u0435 \\u044d\\u0442\\u043e \\u0434\\u0435\\u0439\\u0441\\u0442\\u0432\\u0438\\u0442\\u0435\\u043b\\u044c\\u043d\\u043e \\u043f\\u043e\\u0439\\u0434\\u0451\\u0442 \\u043f\\u043e\\u043b\\u044c\\u0437\\u0443 \\u043f\\u0440\\u043e\\u0435\\u043a\\u0442\\u0443 \\u0432\\u0445\\u043e\\u0434\\u0438\\u0442 \\u0435\\u0436\\u0435\\u0434\\u043d\\u0435\\u0432\\u043d\\u0443\\u044e \\u0440\\u0430\\u0431\\u043e\\u0442\\u0443 \\u0430\\u0440\\u0433\\u0443\\u043c\\u0435\\u043d\\u0442\\u0438\\u0440\\u043e\\u0432\\u0430\\u043d\\u043d\\u043e \\u0441\\u0442\\u0430\\u0432\\u0438\\u0442\\u044c \\u0441\\u0440\\u043e\\u043a\\u0438 \\u0432\\u044b\\u043f\\u043e\\u043b\\u043d\\u0435\\u043d\\u0438\\u044f \\u0437\\u0430\\u0434\\u0430\\u0447 \\u0440\\u0430\\u0437\\u0440\\u0430\\u0431\\u043e\\u0442\\u043a\\u0430 \\u043f\\u0440\\u043e\\u0433\\u0440\\u0430\\u043c\\u043c\\u043d\\u043e\\u0439 \\u043b\\u043e\\u0433\\u0438\\u043a\\u0438 \\u043d\\u0430\\u043f\\u0438\\u0441\\u0430\\u043d\\u0438\\u0435 \\u043d\\u043e\\u0432\\u043e\\u0433\\u043e \\u043f\\u0440\\u043e\\u0433\\u0440\\u0430\\u043c\\u043c\\u043d\\u043e\\u0433\\u043e \\u043a\\u043e\\u0434\\u0430 \\u043f\\u0440\\u0435\\u0434\\u044a\\u044f\\u0432\\u043b\\u0435\\u043d\\u043d\\u044b\\u043c \\u0442\\u0440\\u0435\\u0431\\u043e\\u0432\\u0430\\u043d\\u0438\\u044f\\u043c \\u043f\\u043e\\u0434\\u0434\\u0435\\u0440\\u0436\\u043a\\u0430 \\u0442\\u0435\\u043a\\u0443\\u0449\\u0438\\u0445 \\u043f\\u0440\\u043e\\u0435\\u043a\\u0442\\u043e\\u0432 \\u043a\\u043e\\u043c\\u043f\\u0430\\u043d\\u0438\\u0438 \\u0443\\u0447\\u0430\\u0441\\u0442\\u0438\\u0435 \\u043f\\u0440\\u043e\\u0435\\u043a\\u0442\\u0438\\u0440\\u043e\\u0432\\u0430\\u043d\\u0438\\u0438 \\u0430\\u0440\\u0445\\u0438\\u0442\\u0435\\u043a\\u0442\\u0443\\u0440\\u044b \\u0441\\u043e\\u0431\\u043b\\u044e\\u0434\\u0435\\u043d\\u0438\\u0435 \\u0441\\u0442\\u0430\\u043d\\u0434\\u0430\\u0440\\u0442\\u0430 \\u043d\\u0430\\u043f\\u0438\\u0441\\u0430\\u043d\\u0438\\u044f \\u0441\\u043e\\u043f\\u0440\\u043e\\u0432\\u043e\\u0436\\u0434\\u0435\\u043d\\u0438\\u044f \\u043a\\u043e\\u0434\\u0430 \\u0442\\u0435\\u0441\\u0442\\u0438\\u0440\\u043e\\u0432\\u0430\\u043d\\u0438\\u0435 \\u043a\\u043e\\u0434\\u0430 \\u043a\\u0430\\u043a\\u0438\\u0435 \\u0442\\u0435\\u0445\\u043d\\u043e\\u043b\\u043e\\u0433\\u0438\\u0438 \\u0432\\u0430\\u0436\\u043d\\u044b \\u0434\\u0430\\u043d\\u043d\\u043e\\u043c \\u043f\\u0440\\u043e\\u0435\\u043a\\u0442\\u0435 spring boot data jpa data redis websocket security swagger maven postgresql lombok mockito junit elasticsearch jenkins java java\"\n        ],\n        \"semantic_type\": \"\",\n        \"description\": \"\"\n      }\n    },\n    {\n      \"column\": \"is_IT\",\n      \"properties\": {\n        \"dtype\": \"number\",\n        \"std\": 0,\n        \"min\": 1,\n        \"max\": 1,\n        \"num_unique_values\": 1,\n        \"samples\": [\n          1\n        ],\n        \"semantic_type\": \"\",\n        \"description\": \"\"\n      }\n    }\n  ]\n}"
            }
          },
          "metadata": {},
          "execution_count": 11
        }
      ]
    },
    {
      "cell_type": "code",
      "source": [
        "uids_to_update = [\n",
        "    36638640, 36643211, 36281618, 36939543, 36967191, 37194823, 37473429,\n",
        "    37503161, 37633384, 38233309, 38393536, 39056619, 35616484, 35621167,\n",
        "    36110756, 36102702, 36110756, 35764723, 36695143, 36695150, 36695149,\n",
        "    36695012, 36695147, 36695155, 37301141, 37458334, 37773588, 38641558, 35913555\n",
        "]"
      ],
      "metadata": {
        "id": "2teFA9--86Xa"
      },
      "execution_count": 12,
      "outputs": []
    },
    {
      "cell_type": "code",
      "source": [
        "prof_df.loc[prof_df['uid'].isin(uids_to_update), 'is_IT'] = 1"
      ],
      "metadata": {
        "id": "LUYS0wdzJCyf"
      },
      "execution_count": 13,
      "outputs": []
    },
    {
      "cell_type": "code",
      "source": [
        "import pandas as pd\n",
        "import torch\n",
        "from transformers import BertTokenizer, BertForSequenceClassification, AdamW\n",
        "from torch.utils.data import DataLoader, TensorDataset, random_split"
      ],
      "metadata": {
        "id": "w9X-uOyd-V5v"
      },
      "execution_count": 14,
      "outputs": []
    },
    {
      "cell_type": "code",
      "source": [
        "tokenizer = BertTokenizer.from_pretrained('DeepPavlov/rubert-base-cased')"
      ],
      "metadata": {
        "colab": {
          "base_uri": "https://localhost:8080/"
        },
        "id": "HKW5qaXm-ayM",
        "outputId": "fb386909-bccb-46da-b94a-806abac46115"
      },
      "execution_count": 15,
      "outputs": [
        {
          "output_type": "stream",
          "name": "stderr",
          "text": [
            "/usr/local/lib/python3.10/dist-packages/huggingface_hub/utils/_token.py:89: UserWarning: \n",
            "The secret `HF_TOKEN` does not exist in your Colab secrets.\n",
            "To authenticate with the Hugging Face Hub, create a token in your settings tab (https://huggingface.co/settings/tokens), set it as secret in your Google Colab and restart your session.\n",
            "You will be able to reuse this secret in all of your notebooks.\n",
            "Please note that authentication is recommended but still optional to access public models or datasets.\n",
            "  warnings.warn(\n"
          ]
        }
      ]
    },
    {
      "cell_type": "code",
      "source": [
        "encodings = tokenizer(prof_df['clean_description'].tolist(), padding=True, truncation=True, max_length=512, return_tensors='pt')\n",
        "labels = torch.tensor(prof_df['is_IT'].values)"
      ],
      "metadata": {
        "id": "JmaMrRsk_-NS"
      },
      "execution_count": 16,
      "outputs": []
    },
    {
      "cell_type": "code",
      "source": [
        "dataset = TensorDataset(encodings['input_ids'], encodings['attention_mask'], labels)"
      ],
      "metadata": {
        "id": "FdU0Ht8PAEHh"
      },
      "execution_count": 17,
      "outputs": []
    },
    {
      "cell_type": "code",
      "source": [
        "train_size = int(0.8 * len(dataset))\n",
        "val_size = len(dataset) - train_size\n",
        "train_dataset, val_dataset = random_split(dataset, [train_size, val_size])\n",
        "\n",
        "train_dataloader = DataLoader(train_dataset, batch_size=16, shuffle=True)\n",
        "val_dataloader = DataLoader(val_dataset, batch_size=16, shuffle=False)\n"
      ],
      "metadata": {
        "id": "qmZLyz5lAGVp"
      },
      "execution_count": 18,
      "outputs": []
    },
    {
      "cell_type": "code",
      "source": [
        "model = BertForSequenceClassification.from_pretrained('DeepPavlov/rubert-base-cased', num_labels=2)\n",
        "\n",
        "optimizer = AdamW(model.parameters(), lr=1e-5)\n",
        "\n",
        "device = torch.device('cuda' if torch.cuda.is_available() else 'cpu')\n",
        "model.to(device)\n",
        "\n",
        "model.train()\n",
        "for epoch in range(3):\n",
        "    for batch in train_dataloader:\n",
        "        optimizer.zero_grad()\n",
        "        input_ids, attention_mask, labels = [b.to(device) for b in batch]\n",
        "        outputs = model(input_ids, attention_mask=attention_mask, labels=labels)\n",
        "        loss = outputs.loss\n",
        "        loss.backward()\n",
        "        optimizer.step()\n",
        "    print(f'Epoch {epoch+1} completed')"
      ],
      "metadata": {
        "colab": {
          "base_uri": "https://localhost:8080/"
        },
        "id": "KSLJv-OaAdeK",
        "outputId": "1c55203f-9cb5-44d8-b22f-19c55e57f744"
      },
      "execution_count": 20,
      "outputs": [
        {
          "output_type": "stream",
          "name": "stderr",
          "text": [
            "Some weights of BertForSequenceClassification were not initialized from the model checkpoint at DeepPavlov/rubert-base-cased and are newly initialized: ['classifier.bias', 'classifier.weight']\n",
            "You should probably TRAIN this model on a down-stream task to be able to use it for predictions and inference.\n"
          ]
        },
        {
          "output_type": "stream",
          "name": "stdout",
          "text": [
            "Epoch 1 completed\n",
            "Epoch 2 completed\n",
            "Epoch 3 completed\n"
          ]
        }
      ]
    },
    {
      "cell_type": "code",
      "source": [
        "from sklearn.metrics import accuracy_score, classification_report\n",
        "\n",
        "model.eval()\n",
        "predictions = []\n",
        "true_labels = []\n",
        "with torch.no_grad():\n",
        "    for batch in val_dataloader:\n",
        "        input_ids, attention_mask, labels = [b.to(device) for b in batch]\n",
        "        outputs = model(input_ids, attention_mask=attention_mask)\n",
        "        logits = outputs.logits\n",
        "        preds = torch.argmax(logits, dim=1).tolist()\n",
        "        predictions.extend(preds)\n",
        "        true_labels.extend(labels.tolist())\n",
        "\n",
        "accuracy = accuracy_score(true_labels, predictions)\n",
        "report = classification_report(true_labels, predictions, target_names=['Not IT', 'IT'])\n",
        "print(f'Accuracy: {accuracy}')\n",
        "print(report)"
      ],
      "metadata": {
        "id": "gUAnK75JAexE",
        "colab": {
          "base_uri": "https://localhost:8080/"
        },
        "outputId": "d0094533-13b5-4b58-de5e-1939a74be707"
      },
      "execution_count": 22,
      "outputs": [
        {
          "output_type": "stream",
          "name": "stdout",
          "text": [
            "Accuracy: 0.976\n",
            "              precision    recall  f1-score   support\n",
            "\n",
            "      Not IT       0.98      0.99      0.99      1928\n",
            "          IT       0.74      0.51      0.61        72\n",
            "\n",
            "    accuracy                           0.98      2000\n",
            "   macro avg       0.86      0.75      0.80      2000\n",
            "weighted avg       0.97      0.98      0.97      2000\n",
            "\n"
          ]
        }
      ]
    }
  ]
}
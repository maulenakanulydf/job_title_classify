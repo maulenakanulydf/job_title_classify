{
 "cells": [
  {
   "cell_type": "code",
   "execution_count": 1,
   "metadata": {
    "id": "kyh3v_a4WK_E"
   },
   "outputs": [],
   "source": [
    "import pandas as pd\n",
    "import numpy as np\n"
   ]
  },
  {
   "cell_type": "code",
   "execution_count": 7,
   "metadata": {
    "id": "AR2ZRipyWRkQ"
   },
   "outputs": [],
   "source": [
    "proff_df = pd.read_excel('400-professions.xlsx')\n",
    "vacancy_df = pd.read_csv('v.csv')"
   ]
  },
  {
   "cell_type": "code",
   "execution_count": 8,
   "metadata": {
    "colab": {
     "base_uri": "https://localhost:8080/"
    },
    "id": "TNci4EjIWcto",
    "outputId": "fe45c79f-1d9e-462f-89ee-06cd75f66234"
   },
   "outputs": [
    {
     "name": "stderr",
     "output_type": "stream",
     "text": [
      "[nltk_data] Downloading package stopwords to\n",
      "[nltk_data]     C:\\Users\\Mauka\\AppData\\Roaming\\nltk_data...\n",
      "[nltk_data]   Package stopwords is already up-to-date!\n"
     ]
    }
   ],
   "source": [
    "import re\n",
    "from bs4 import BeautifulSoup as bs\n",
    "from nltk.tokenize import RegexpTokenizer\n",
    "from nltk.corpus import stopwords\n",
    "import nltk\n",
    "\n",
    "nltk.download('stopwords')\n",
    "\n",
    "def preprocess(sentence):\n",
    "    soup = bs(sentence, features=\"html.parser\")\n",
    "    sentence = soup.get_text()\n",
    "    soup = bs(sentence, features=\"html.parser\")\n",
    "    sentence = soup.get_text()\n",
    "\n",
    "    sentence = str(sentence)\n",
    "    sentence = sentence.lower()\n",
    "    sentence = sentence.replace('{html}',\"\")\n",
    "    cleanr = re.compile('<.*?>')\n",
    "    cleantext = re.sub(cleanr, '', sentence)\n",
    "    rem_url = re.sub(r'http\\S+', '',cleantext)\n",
    "    rem_num = re.sub('[0-9]+', '', rem_url)\n",
    "    tokenizer = RegexpTokenizer(r'\\w+')\n",
    "    tokens = tokenizer.tokenize(rem_num)\n",
    "    filtered_words = [w for w in tokens if not w in stopwords.words('russian')]\n",
    "\n",
    "    return \" \".join(filtered_words)"
   ]
  },
  {
   "cell_type": "code",
   "execution_count": 16,
   "metadata": {
    "id": "NzMH3WqwmJJ7"
   },
   "outputs": [],
   "source": [
    "import pandas as pd\n",
    "import spacy\n",
    "from sklearn.feature_extraction.text import TfidfVectorizer\n",
    "from sklearn.metrics.pairwise import cosine_similarity"
   ]
  },
  {
   "cell_type": "code",
   "execution_count": 19,
   "metadata": {
    "id": "MNom6g8aoCKF"
   },
   "outputs": [],
   "source": [
    "# !python -m spacy download ru_core_news_sm"
   ]
  },
  {
   "cell_type": "code",
   "execution_count": 20,
   "metadata": {
    "id": "mJX9HI1kmM_h"
   },
   "outputs": [],
   "source": [
    "nlp = spacy.load('ru_core_news_sm')"
   ]
  },
  {
   "cell_type": "code",
   "execution_count": 21,
   "metadata": {
    "id": "_QFcWoUKobpr"
   },
   "outputs": [
    {
     "name": "stderr",
     "output_type": "stream",
     "text": [
      "C:\\Users\\Mauka\\AppData\\Local\\Temp\\ipykernel_18140\\2697063262.py:10: MarkupResemblesLocatorWarning: The input looks more like a filename than markup. You may want to open this file and pass the filehandle into Beautiful Soup.\n",
      "  soup = bs(sentence, features=\"html.parser\")\n",
      "C:\\Users\\Mauka\\AppData\\Local\\Temp\\ipykernel_18140\\2697063262.py:12: MarkupResemblesLocatorWarning: The input looks more like a filename than markup. You may want to open this file and pass the filehandle into Beautiful Soup.\n",
      "  soup = bs(sentence, features=\"html.parser\")\n"
     ]
    }
   ],
   "source": [
    "vacancy_df['cleaned_vacancy_description'] = vacancy_df['clean_description'].apply(preprocess)\n",
    "proff_df['Наименование КК_clean']= proff_df['Наименование КК'].apply(preprocess)"
   ]
  },
  {
   "cell_type": "code",
   "execution_count": 22,
   "metadata": {
    "id": "0-sZHAepsgvg"
   },
   "outputs": [],
   "source": [
    "cleaned_professions = proff_df['Наименование КК_clean'].tolist()\n",
    "cleaned_vacancy_descriptions = vacancy_df['cleaned_vacancy_description'].tolist()"
   ]
  },
  {
   "cell_type": "code",
   "execution_count": 23,
   "metadata": {
    "id": "qCmqjwzXszYx"
   },
   "outputs": [],
   "source": [
    "texts = cleaned_professions + cleaned_vacancy_descriptions"
   ]
  },
  {
   "cell_type": "code",
   "execution_count": 24,
   "metadata": {
    "id": "EW2sErFvs3Ey"
   },
   "outputs": [],
   "source": [
    "vectorizer = TfidfVectorizer()\n",
    "tfidf_matrix = vectorizer.fit_transform(texts)"
   ]
  },
  {
   "cell_type": "code",
   "execution_count": 25,
   "metadata": {
    "colab": {
     "base_uri": "https://localhost:8080/"
    },
    "id": "9pVEQwbOs_lr",
    "outputId": "356915fa-c405-47de-bcdb-7cd7ba8e77de"
   },
   "outputs": [],
   "source": [
    "similarity_matrix = cosine_similarity(tfidf_matrix)\n",
    "professions_similarity = similarity_matrix[:len(cleaned_professions), len(cleaned_professions):]\n",
    "most_similar_professions_indices = professions_similarity.argmax(axis=0)\n",
    "most_similar_professions = [cleaned_professions[idx] for idx in most_similar_professions_indices]\n",
    "vacancy_df['most_similar_profession'] = most_similar_professions"
   ]
  },
  {
   "cell_type": "code",
   "execution_count": 26,
   "metadata": {
    "colab": {
     "base_uri": "https://localhost:8080/",
     "height": 1000
    },
    "id": "1ufV8vkDxob7",
    "outputId": "82ff4aa9-5217-49a5-86ba-d7d3e8a19fd3"
   },
   "outputs": [
    {
     "data": {
      "text/html": [
       "<div>\n",
       "<style scoped>\n",
       "    .dataframe tbody tr th:only-of-type {\n",
       "        vertical-align: middle;\n",
       "    }\n",
       "\n",
       "    .dataframe tbody tr th {\n",
       "        vertical-align: top;\n",
       "    }\n",
       "\n",
       "    .dataframe thead th {\n",
       "        text-align: right;\n",
       "    }\n",
       "</style>\n",
       "<table border=\"1\" class=\"dataframe\">\n",
       "  <thead>\n",
       "    <tr style=\"text-align: right;\">\n",
       "      <th></th>\n",
       "      <th>name</th>\n",
       "      <th>most_similar_profession</th>\n",
       "    </tr>\n",
       "  </thead>\n",
       "  <tbody>\n",
       "    <tr>\n",
       "      <th>350</th>\n",
       "      <td>Торговый представитель по аптекам и магазинам</td>\n",
       "      <td>менеджер продажам</td>\n",
       "    </tr>\n",
       "    <tr>\n",
       "      <th>351</th>\n",
       "      <td>Android Разработчик (Удаленно)</td>\n",
       "      <td>разработчик мобильных приложений</td>\n",
       "    </tr>\n",
       "    <tr>\n",
       "      <th>352</th>\n",
       "      <td>Уборщик</td>\n",
       "      <td>ветеринарный врач</td>\n",
       "    </tr>\n",
       "    <tr>\n",
       "      <th>353</th>\n",
       "      <td>Контролер ОТК</td>\n",
       "      <td>менеджер системе менеджмента качества</td>\n",
       "    </tr>\n",
       "    <tr>\n",
       "      <th>354</th>\n",
       "      <td>Контролер службы внутренней безопасности</td>\n",
       "      <td>ветеринарный врач</td>\n",
       "    </tr>\n",
       "    <tr>\n",
       "      <th>355</th>\n",
       "      <td>Оператор вахтер</td>\n",
       "      <td>ветеринарный врач</td>\n",
       "    </tr>\n",
       "    <tr>\n",
       "      <th>356</th>\n",
       "      <td>Junior Category Manager</td>\n",
       "      <td>ветеринарный врач</td>\n",
       "    </tr>\n",
       "    <tr>\n",
       "      <th>357</th>\n",
       "      <td>Помощник бухгалтера по расчету заработной платы</td>\n",
       "      <td>бухгалтер налогам</td>\n",
       "    </tr>\n",
       "    <tr>\n",
       "      <th>358</th>\n",
       "      <td>Начальник дорожно-строительного участка</td>\n",
       "      <td>техник дорожного строительства</td>\n",
       "    </tr>\n",
       "    <tr>\n",
       "      <th>359</th>\n",
       "      <td>Специалист по снабжению (Снабженец)</td>\n",
       "      <td>техник аэродромной службы</td>\n",
       "    </tr>\n",
       "    <tr>\n",
       "      <th>360</th>\n",
       "      <td>Бухгалтер (банк - касса)</td>\n",
       "      <td>бухгалтер</td>\n",
       "    </tr>\n",
       "    <tr>\n",
       "      <th>361</th>\n",
       "      <td>Инженер ПТО</td>\n",
       "      <td>менеджер проектов икт</td>\n",
       "    </tr>\n",
       "    <tr>\n",
       "      <th>362</th>\n",
       "      <td>Старшая медицинская сестра</td>\n",
       "      <td>врач общественного здравоохранения</td>\n",
       "    </tr>\n",
       "    <tr>\n",
       "      <th>363</th>\n",
       "      <td>Инженер ПТО</td>\n",
       "      <td>инженер эксплуатации производственных объектов</td>\n",
       "    </tr>\n",
       "    <tr>\n",
       "      <th>364</th>\n",
       "      <td>Грузчик-комплектовщик</td>\n",
       "      <td>ветеринарный врач</td>\n",
       "    </tr>\n",
       "    <tr>\n",
       "      <th>365</th>\n",
       "      <td>Парикмахер-стилист</td>\n",
       "      <td>ветеринарный врач</td>\n",
       "    </tr>\n",
       "    <tr>\n",
       "      <th>366</th>\n",
       "      <td>Инженер ПТО (строительство дорог)</td>\n",
       "      <td>техник дорожного строительства</td>\n",
       "    </tr>\n",
       "    <tr>\n",
       "      <th>367</th>\n",
       "      <td>Переводчик с английского на казахский язык</td>\n",
       "      <td>переводчики</td>\n",
       "    </tr>\n",
       "    <tr>\n",
       "      <th>368</th>\n",
       "      <td>Менеджер по продаже автозапчастей</td>\n",
       "      <td>менеджер работе клиентами</td>\n",
       "    </tr>\n",
       "    <tr>\n",
       "      <th>369</th>\n",
       "      <td>Салон Aisha</td>\n",
       "      <td>ветеринарный врач</td>\n",
       "    </tr>\n",
       "    <tr>\n",
       "      <th>370</th>\n",
       "      <td>Преподаватель по специальности \"Организация об...</td>\n",
       "      <td>инструктор производственного обучения</td>\n",
       "    </tr>\n",
       "    <tr>\n",
       "      <th>371</th>\n",
       "      <td>Начальник службы безопасности</td>\n",
       "      <td>инженер эксплуатации производственных объектов</td>\n",
       "    </tr>\n",
       "    <tr>\n",
       "      <th>372</th>\n",
       "      <td>Руководитель отдела продаж / Директор по разви...</td>\n",
       "      <td>менеджер работе клиентами</td>\n",
       "    </tr>\n",
       "    <tr>\n",
       "      <th>373</th>\n",
       "      <td>Менеджер по продажам трубопроводной арматуры</td>\n",
       "      <td>менеджер продукции</td>\n",
       "    </tr>\n",
       "    <tr>\n",
       "      <th>374</th>\n",
       "      <td>Карщик</td>\n",
       "      <td>ветеринарный врач</td>\n",
       "    </tr>\n",
       "    <tr>\n",
       "      <th>375</th>\n",
       "      <td>Разработчик bpm-решений</td>\n",
       "      <td>web разработчик</td>\n",
       "    </tr>\n",
       "    <tr>\n",
       "      <th>376</th>\n",
       "      <td>Менеджер по закупкам</td>\n",
       "      <td>инспектор техническому обслуживанию зданий</td>\n",
       "    </tr>\n",
       "    <tr>\n",
       "      <th>377</th>\n",
       "      <td>Грузчик-комплектовщик</td>\n",
       "      <td>ветеринарный врач</td>\n",
       "    </tr>\n",
       "    <tr>\n",
       "      <th>378</th>\n",
       "      <td>Инженер-проектировщик ГП</td>\n",
       "      <td>лаборант рад защита</td>\n",
       "    </tr>\n",
       "    <tr>\n",
       "      <th>379</th>\n",
       "      <td>Медицинская сестра/фельдшер</td>\n",
       "      <td>инспектора сфере образования</td>\n",
       "    </tr>\n",
       "    <tr>\n",
       "      <th>380</th>\n",
       "      <td>Руководитель отдела строительства</td>\n",
       "      <td>техник дорожного строительства</td>\n",
       "    </tr>\n",
       "    <tr>\n",
       "      <th>381</th>\n",
       "      <td>Менеджер по системе менеджмента качества (Qual...</td>\n",
       "      <td>менеджер системе менеджмента качества</td>\n",
       "    </tr>\n",
       "    <tr>\n",
       "      <th>382</th>\n",
       "      <td>Торговый агент</td>\n",
       "      <td>агент недвижимости</td>\n",
       "    </tr>\n",
       "    <tr>\n",
       "      <th>383</th>\n",
       "      <td>Middle QA Engineer (Manual)</td>\n",
       "      <td>тестировщик приложений</td>\n",
       "    </tr>\n",
       "    <tr>\n",
       "      <th>384</th>\n",
       "      <td>Врач рентгенолог</td>\n",
       "      <td>прочие персонал сфере культуры</td>\n",
       "    </tr>\n",
       "    <tr>\n",
       "      <th>385</th>\n",
       "      <td>Инженер систем энергетики</td>\n",
       "      <td>инженеры строительству систем водоснабжения ка...</td>\n",
       "    </tr>\n",
       "    <tr>\n",
       "      <th>386</th>\n",
       "      <td>Слесарь по такелажным работам</td>\n",
       "      <td>менеджер работе клиентами</td>\n",
       "    </tr>\n",
       "    <tr>\n",
       "      <th>387</th>\n",
       "      <td>Оператор контакт-центра</td>\n",
       "      <td>менеджер работе клиентами</td>\n",
       "    </tr>\n",
       "    <tr>\n",
       "      <th>388</th>\n",
       "      <td>Маркетолог SMM в хоккейную команду</td>\n",
       "      <td>маркетолог</td>\n",
       "    </tr>\n",
       "    <tr>\n",
       "      <th>389</th>\n",
       "      <td>Менеджер по продажам запасных частей КАМАЗ</td>\n",
       "      <td>ветеринарный врач</td>\n",
       "    </tr>\n",
       "    <tr>\n",
       "      <th>390</th>\n",
       "      <td>Менеджер по управлению проектами</td>\n",
       "      <td>менеджер проектов икт</td>\n",
       "    </tr>\n",
       "    <tr>\n",
       "      <th>391</th>\n",
       "      <td>Инженер ПТО</td>\n",
       "      <td>инженер организации производства</td>\n",
       "    </tr>\n",
       "    <tr>\n",
       "      <th>392</th>\n",
       "      <td>Бухгалтер по расчетам</td>\n",
       "      <td>инспектор связи</td>\n",
       "    </tr>\n",
       "    <tr>\n",
       "      <th>393</th>\n",
       "      <td>Технолог карамельного цеха</td>\n",
       "      <td>инженер организации производства</td>\n",
       "    </tr>\n",
       "    <tr>\n",
       "      <th>394</th>\n",
       "      <td>Территориальный менеджер</td>\n",
       "      <td>бизнес консультант</td>\n",
       "    </tr>\n",
       "    <tr>\n",
       "      <th>395</th>\n",
       "      <td>Электромонтер</td>\n",
       "      <td>инженер конструктор электрических машин аппаратов</td>\n",
       "    </tr>\n",
       "    <tr>\n",
       "      <th>396</th>\n",
       "      <td>Врач-рентгенолог</td>\n",
       "      <td>прочие персонал сфере культуры</td>\n",
       "    </tr>\n",
       "    <tr>\n",
       "      <th>397</th>\n",
       "      <td>Мастер-установщик фильтров очистки воды</td>\n",
       "      <td>менеджер работе клиентами</td>\n",
       "    </tr>\n",
       "    <tr>\n",
       "      <th>398</th>\n",
       "      <td>Начальник службы безопасности</td>\n",
       "      <td>преподаватель вуза военное дело безопасность</td>\n",
       "    </tr>\n",
       "    <tr>\n",
       "      <th>399</th>\n",
       "      <td>Требуются рабочие строительных специальностей</td>\n",
       "      <td>ветеринарный врач</td>\n",
       "    </tr>\n",
       "  </tbody>\n",
       "</table>\n",
       "</div>"
      ],
      "text/plain": [
       "                                                  name  \\\n",
       "350      Торговый представитель по аптекам и магазинам   \n",
       "351                     Android Разработчик (Удаленно)   \n",
       "352                                            Уборщик   \n",
       "353                                      Контролер ОТК   \n",
       "354           Контролер службы внутренней безопасности   \n",
       "355                                    Оператор вахтер   \n",
       "356                            Junior Category Manager   \n",
       "357    Помощник бухгалтера по расчету заработной платы   \n",
       "358            Начальник дорожно-строительного участка   \n",
       "359                Специалист по снабжению (Снабженец)   \n",
       "360                           Бухгалтер (банк - касса)   \n",
       "361                                        Инженер ПТО   \n",
       "362                         Старшая медицинская сестра   \n",
       "363                                        Инженер ПТО   \n",
       "364                              Грузчик-комплектовщик   \n",
       "365                                 Парикмахер-стилист   \n",
       "366                  Инженер ПТО (строительство дорог)   \n",
       "367         Переводчик с английского на казахский язык   \n",
       "368                  Менеджер по продаже автозапчастей   \n",
       "369                                        Салон Aisha   \n",
       "370  Преподаватель по специальности \"Организация об...   \n",
       "371                      Начальник службы безопасности   \n",
       "372  Руководитель отдела продаж / Директор по разви...   \n",
       "373       Менеджер по продажам трубопроводной арматуры   \n",
       "374                                             Карщик   \n",
       "375                            Разработчик bpm-решений   \n",
       "376                               Менеджер по закупкам   \n",
       "377                              Грузчик-комплектовщик   \n",
       "378                           Инженер-проектировщик ГП   \n",
       "379                        Медицинская сестра/фельдшер   \n",
       "380                  Руководитель отдела строительства   \n",
       "381  Менеджер по системе менеджмента качества (Qual...   \n",
       "382                                     Торговый агент   \n",
       "383                        Middle QA Engineer (Manual)   \n",
       "384                                   Врач рентгенолог   \n",
       "385                          Инженер систем энергетики   \n",
       "386                      Слесарь по такелажным работам   \n",
       "387                            Оператор контакт-центра   \n",
       "388                 Маркетолог SMM в хоккейную команду   \n",
       "389         Менеджер по продажам запасных частей КАМАЗ   \n",
       "390                   Менеджер по управлению проектами   \n",
       "391                                        Инженер ПТО   \n",
       "392                              Бухгалтер по расчетам   \n",
       "393                         Технолог карамельного цеха   \n",
       "394                           Территориальный менеджер   \n",
       "395                                      Электромонтер   \n",
       "396                                   Врач-рентгенолог   \n",
       "397            Мастер-установщик фильтров очистки воды   \n",
       "398                      Начальник службы безопасности   \n",
       "399      Требуются рабочие строительных специальностей   \n",
       "\n",
       "                               most_similar_profession  \n",
       "350                                  менеджер продажам  \n",
       "351                   разработчик мобильных приложений  \n",
       "352                                  ветеринарный врач  \n",
       "353              менеджер системе менеджмента качества  \n",
       "354                                  ветеринарный врач  \n",
       "355                                  ветеринарный врач  \n",
       "356                                  ветеринарный врач  \n",
       "357                                  бухгалтер налогам  \n",
       "358                     техник дорожного строительства  \n",
       "359                          техник аэродромной службы  \n",
       "360                                          бухгалтер  \n",
       "361                              менеджер проектов икт  \n",
       "362                 врач общественного здравоохранения  \n",
       "363     инженер эксплуатации производственных объектов  \n",
       "364                                  ветеринарный врач  \n",
       "365                                  ветеринарный врач  \n",
       "366                     техник дорожного строительства  \n",
       "367                                        переводчики  \n",
       "368                          менеджер работе клиентами  \n",
       "369                                  ветеринарный врач  \n",
       "370              инструктор производственного обучения  \n",
       "371     инженер эксплуатации производственных объектов  \n",
       "372                          менеджер работе клиентами  \n",
       "373                                 менеджер продукции  \n",
       "374                                  ветеринарный врач  \n",
       "375                                    web разработчик  \n",
       "376         инспектор техническому обслуживанию зданий  \n",
       "377                                  ветеринарный врач  \n",
       "378                                лаборант рад защита  \n",
       "379                       инспектора сфере образования  \n",
       "380                     техник дорожного строительства  \n",
       "381              менеджер системе менеджмента качества  \n",
       "382                                 агент недвижимости  \n",
       "383                             тестировщик приложений  \n",
       "384                     прочие персонал сфере культуры  \n",
       "385  инженеры строительству систем водоснабжения ка...  \n",
       "386                          менеджер работе клиентами  \n",
       "387                          менеджер работе клиентами  \n",
       "388                                         маркетолог  \n",
       "389                                  ветеринарный врач  \n",
       "390                              менеджер проектов икт  \n",
       "391                   инженер организации производства  \n",
       "392                                    инспектор связи  \n",
       "393                   инженер организации производства  \n",
       "394                                 бизнес консультант  \n",
       "395  инженер конструктор электрических машин аппаратов  \n",
       "396                     прочие персонал сфере культуры  \n",
       "397                          менеджер работе клиентами  \n",
       "398       преподаватель вуза военное дело безопасность  \n",
       "399                                  ветеринарный врач  "
      ]
     },
     "execution_count": 26,
     "metadata": {},
     "output_type": "execute_result"
    }
   ],
   "source": [
    "vacancy_df[['name', 'most_similar_profession']][350:400]"
   ]
  },
  {
   "cell_type": "code",
   "execution_count": 28,
   "metadata": {},
   "outputs": [],
   "source": [
    "# !pip install sentence-transformers"
   ]
  },
  {
   "cell_type": "code",
   "execution_count": null,
   "metadata": {},
   "outputs": [],
   "source": [
    "import torch\n",
    "from sentence_transformers import SentenceTransformer, util\n",
    "device = torch.device('cuda' if torch.cuda.is_available() else 'cpu')\n",
    "\n",
    "model = SentenceTransformer('paraphrase-multilingual-mpnet-base-v2', device=device)\n",
    "\n",
    "profession_embeddings = model.encode(cleaned_professions, convert_to_tensor=True, show_progress_bar=True, device=device)\n",
    "vacancy_embeddings = model.encode(cleaned_vacancy_descriptions, convert_to_tensor=True, show_progress_bar=True, device=device)\n",
    "\n",
    "similarity_matrix_bert = util.pytorch_cos_sim(profession_embeddings, vacancy_embeddings)\n",
    "\n",
    "most_similar_professions_indices_bert = similarity_matrix_bert.argmax(dim=0)\n",
    "most_similar_professions_bert = [cleaned_professions[idx] for idx in most_similar_professions_indices_bert]\n",
    "\n",
    "vacancy_df['most_similar_profession_bert'] = most_similar_professions_bert\n"
   ]
  },
  {
   "cell_type": "code",
   "execution_count": 29,
   "metadata": {},
   "outputs": [],
   "source": [
    "match_vacancy_df = pd.read_csv('vacancy_df_after_matching.csv')"
   ]
  },
  {
   "cell_type": "code",
   "execution_count": 31,
   "metadata": {},
   "outputs": [
    {
     "name": "stderr",
     "output_type": "stream",
     "text": [
      "C:\\Users\\Mauka\\AppData\\Local\\Temp\\ipykernel_18140\\2697063262.py:10: MarkupResemblesLocatorWarning: The input looks more like a filename than markup. You may want to open this file and pass the filehandle into Beautiful Soup.\n",
      "  soup = bs(sentence, features=\"html.parser\")\n",
      "C:\\Users\\Mauka\\AppData\\Local\\Temp\\ipykernel_18140\\2697063262.py:12: MarkupResemblesLocatorWarning: The input looks more like a filename than markup. You may want to open this file and pass the filehandle into Beautiful Soup.\n",
      "  soup = bs(sentence, features=\"html.parser\")\n"
     ]
    }
   ],
   "source": [
    "proff_df['Наименование КК'] = proff_df['Наименование КК'].apply(preprocess)"
   ]
  },
  {
   "cell_type": "code",
   "execution_count": 32,
   "metadata": {},
   "outputs": [],
   "source": [
    "it_ikt_professions = proff_df[proff_df['сфера'].str.contains('ИТ и ИКТ', regex=True, na=False)]['Наименование КК'].tolist()"
   ]
  },
  {
   "cell_type": "code",
   "execution_count": 34,
   "metadata": {},
   "outputs": [],
   "source": [
    "def update_it_tag(row, it_ikt_professions):\n",
    "    if row['most_similar_profession'] in it_ikt_professions:\n",
    "        return row['most_similar_profession']\n",
    "    return row['most_similar_profession_bert']\n",
    "\n",
    "match_vacancy_df['most_similar_profession_bert'] = match_vacancy_df.apply(update_it_tag, axis=1, it_ikt_professions=it_ikt_professions)"
   ]
  },
  {
   "cell_type": "code",
   "execution_count": 35,
   "metadata": {},
   "outputs": [],
   "source": [
    "vacancy_df = pd.read_csv('vacancy_df_updated.csv')"
   ]
  },
  {
   "cell_type": "code",
   "execution_count": 41,
   "metadata": {},
   "outputs": [
    {
     "data": {
      "text/html": [
       "<div>\n",
       "<style scoped>\n",
       "    .dataframe tbody tr th:only-of-type {\n",
       "        vertical-align: middle;\n",
       "    }\n",
       "\n",
       "    .dataframe tbody tr th {\n",
       "        vertical-align: top;\n",
       "    }\n",
       "\n",
       "    .dataframe thead th {\n",
       "        text-align: right;\n",
       "    }\n",
       "</style>\n",
       "<table border=\"1\" class=\"dataframe\">\n",
       "  <thead>\n",
       "    <tr style=\"text-align: right;\">\n",
       "      <th></th>\n",
       "      <th>name</th>\n",
       "      <th>most_similar_profession_bert</th>\n",
       "    </tr>\n",
       "  </thead>\n",
       "  <tbody>\n",
       "    <tr>\n",
       "      <th>250</th>\n",
       "      <td>Инженер ПТО</td>\n",
       "      <td>инспектор техническому обслуживанию зданий</td>\n",
       "    </tr>\n",
       "    <tr>\n",
       "      <th>251</th>\n",
       "      <td>Грузчик-комплектовщик</td>\n",
       "      <td>менеджер системе менеджмента качества</td>\n",
       "    </tr>\n",
       "    <tr>\n",
       "      <th>252</th>\n",
       "      <td>Специалист АХЧ</td>\n",
       "      <td>инспектор техническому обслуживанию зданий</td>\n",
       "    </tr>\n",
       "    <tr>\n",
       "      <th>253</th>\n",
       "      <td>Торговый представитель (строительные материалы)</td>\n",
       "      <td>менеджер работе клиентами</td>\n",
       "    </tr>\n",
       "    <tr>\n",
       "      <th>254</th>\n",
       "      <td>Торговый представитель (строительные материалы)</td>\n",
       "      <td>менеджер работе клиентами</td>\n",
       "    </tr>\n",
       "    <tr>\n",
       "      <th>...</th>\n",
       "      <td>...</td>\n",
       "      <td>...</td>\n",
       "    </tr>\n",
       "    <tr>\n",
       "      <th>595</th>\n",
       "      <td>Менеджер по работе с клиентами, оператор на CA...</td>\n",
       "      <td>менеджер работе клиентами</td>\n",
       "    </tr>\n",
       "    <tr>\n",
       "      <th>596</th>\n",
       "      <td>Региональный менеджер по работе с клиентами</td>\n",
       "      <td>консультанты профориентации</td>\n",
       "    </tr>\n",
       "    <tr>\n",
       "      <th>597</th>\n",
       "      <td>Региональный представитель (TM VARTON)</td>\n",
       "      <td>инженер организации эксплуатации ремонту</td>\n",
       "    </tr>\n",
       "    <tr>\n",
       "      <th>598</th>\n",
       "      <td>Оператор фронтального погрузчика SDLG</td>\n",
       "      <td>инспектор дорожный</td>\n",
       "    </tr>\n",
       "    <tr>\n",
       "      <th>599</th>\n",
       "      <td>Каменщик</td>\n",
       "      <td>техник дорожного строительства</td>\n",
       "    </tr>\n",
       "  </tbody>\n",
       "</table>\n",
       "<p>350 rows × 2 columns</p>\n",
       "</div>"
      ],
      "text/plain": [
       "                                                  name  \\\n",
       "250                                        Инженер ПТО   \n",
       "251                              Грузчик-комплектовщик   \n",
       "252                                     Специалист АХЧ   \n",
       "253    Торговый представитель (строительные материалы)   \n",
       "254    Торговый представитель (строительные материалы)   \n",
       "..                                                 ...   \n",
       "595  Менеджер по работе с клиентами, оператор на CA...   \n",
       "596        Региональный менеджер по работе с клиентами   \n",
       "597             Региональный представитель (TM VARTON)   \n",
       "598              Оператор фронтального погрузчика SDLG   \n",
       "599                                           Каменщик   \n",
       "\n",
       "                   most_similar_profession_bert  \n",
       "250  инспектор техническому обслуживанию зданий  \n",
       "251       менеджер системе менеджмента качества  \n",
       "252  инспектор техническому обслуживанию зданий  \n",
       "253                   менеджер работе клиентами  \n",
       "254                   менеджер работе клиентами  \n",
       "..                                          ...  \n",
       "595                   менеджер работе клиентами  \n",
       "596                 консультанты профориентации  \n",
       "597    инженер организации эксплуатации ремонту  \n",
       "598                          инспектор дорожный  \n",
       "599              техник дорожного строительства  \n",
       "\n",
       "[350 rows x 2 columns]"
      ]
     },
     "execution_count": 41,
     "metadata": {},
     "output_type": "execute_result"
    }
   ],
   "source": [
    "vacancy_df[['name','most_similar_profession_bert']][250:600]"
   ]
  },
  {
   "cell_type": "code",
   "execution_count": 36,
   "metadata": {},
   "outputs": [
    {
     "name": "stdout",
     "output_type": "stream",
     "text": [
      "менеджер работе клиентами                     1334\n",
      "прочие сотрудники сфере бизнеса               1095\n",
      "инспектор техническому обслуживанию зданий     527\n",
      "инженер организации нормированию труда         504\n",
      "инспектор труду сфере промышленности           464\n",
      "                                              ... \n",
      "техники биологи                                  1\n",
      "научный сотрудник промышленности                 1\n",
      "лаборант рад защита                              1\n",
      "экономист труду                                  1\n",
      "механик судовой                                  1\n",
      "Name: most_similar_profession_bert, Length: 239, dtype: int64\n"
     ]
    }
   ],
   "source": [
    "class_distribution = vacancy_df['most_similar_profession_bert'].value_counts()\n",
    "print(class_distribution)"
   ]
  },
  {
   "cell_type": "markdown",
   "metadata": {
    "id": "JSXCCL8Z1YMY"
   },
   "source": [
    "# **option with rubert**"
   ]
  },
  {
   "cell_type": "code",
   "execution_count": 1,
   "metadata": {
    "id": "lHPZhYV65ZcA"
   },
   "outputs": [
    {
     "name": "stdout",
     "output_type": "stream",
     "text": [
      "Collecting transformers\n",
      "  Using cached transformers-4.42.4-py3-none-any.whl (9.3 MB)\n",
      "Collecting pyyaml>=5.1\n",
      "  Downloading PyYAML-6.0.1-cp39-cp39-win_amd64.whl (152 kB)\n",
      "Requirement already satisfied: numpy<2.0,>=1.17 in c:\\users\\mauka\\appdata\\local\\programs\\python\\python39\\lib\\site-packages (from transformers) (1.26.4)\n",
      "Collecting tokenizers<0.20,>=0.19\n",
      "  Downloading tokenizers-0.19.1-cp39-none-win_amd64.whl (2.2 MB)\n",
      "Requirement already satisfied: requests in c:\\users\\mauka\\appdata\\local\\programs\\python\\python39\\lib\\site-packages (from transformers) (2.31.0)\n",
      "Collecting safetensors>=0.4.1\n",
      "  Downloading safetensors-0.4.3-cp39-none-win_amd64.whl (287 kB)\n",
      "Collecting filelock\n",
      "  Downloading filelock-3.15.4-py3-none-any.whl (16 kB)\n",
      "Collecting huggingface-hub<1.0,>=0.23.2\n",
      "  Using cached huggingface_hub-0.24.0-py3-none-any.whl (419 kB)\n",
      "Collecting regex!=2019.12.17\n",
      "  Downloading regex-2024.5.15-cp39-cp39-win_amd64.whl (269 kB)\n",
      "Requirement already satisfied: packaging>=20.0 in c:\\users\\mauka\\appdata\\local\\programs\\python\\python39\\lib\\site-packages (from transformers) (24.0)\n",
      "Requirement already satisfied: tqdm>=4.27 in c:\\users\\mauka\\appdata\\local\\programs\\python\\python39\\lib\\site-packages (from transformers) (4.64.1)\n",
      "Requirement already satisfied: idna<4,>=2.5 in c:\\users\\mauka\\appdata\\local\\programs\\python\\python39\\lib\\site-packages (from requests->transformers) (3.7)\n",
      "Requirement already satisfied: certifi>=2017.4.17 in c:\\users\\mauka\\appdata\\local\\programs\\python\\python39\\lib\\site-packages (from requests->transformers) (2024.2.2)\n",
      "Requirement already satisfied: charset-normalizer<4,>=2 in c:\\users\\mauka\\appdata\\local\\programs\\python\\python39\\lib\\site-packages (from requests->transformers) (3.3.2)\n",
      "Requirement already satisfied: urllib3<3,>=1.21.1 in c:\\users\\mauka\\appdata\\local\\programs\\python\\python39\\lib\\site-packages (from requests->transformers) (2.2.1)\n",
      "Collecting fsspec>=2023.5.0\n",
      "  Using cached fsspec-2024.6.1-py3-none-any.whl (177 kB)\n",
      "Requirement already satisfied: typing-extensions>=3.7.4.3 in c:\\users\\mauka\\appdata\\local\\programs\\python\\python39\\lib\\site-packages (from huggingface-hub<1.0,>=0.23.2->transformers) (4.11.0)\n",
      "Requirement already satisfied: colorama; platform_system == \"Windows\" in c:\\users\\mauka\\appdata\\local\\programs\\python\\python39\\lib\\site-packages (from tqdm>=4.27->transformers) (0.4.6)\n",
      "Installing collected packages: pyyaml, fsspec, filelock, huggingface-hub, tokenizers, safetensors, regex, transformers\n",
      "Successfully installed filelock-3.15.4 fsspec-2024.6.1 huggingface-hub-0.24.0 pyyaml-6.0.1 regex-2024.5.15 safetensors-0.4.3 tokenizers-0.19.1 transformers-4.42.4\n"
     ]
    },
    {
     "name": "stderr",
     "output_type": "stream",
     "text": [
      "WARNING: You are using pip version 20.2.3; however, version 24.1.2 is available.\n",
      "You should consider upgrading via the 'c:\\users\\mauka\\appdata\\local\\programs\\python\\python39\\python.exe -m pip install --upgrade pip' command.\n"
     ]
    },
    {
     "name": "stdout",
     "output_type": "stream",
     "text": [
      "Requirement already satisfied: torch in c:\\users\\mauka\\appdata\\local\\programs\\python\\python39\\lib\\site-packages (1.13.0)\n",
      "Requirement already satisfied: typing-extensions in c:\\users\\mauka\\appdata\\local\\programs\\python\\python39\\lib\\site-packages (from torch) (4.11.0)\n"
     ]
    },
    {
     "name": "stderr",
     "output_type": "stream",
     "text": [
      "WARNING: You are using pip version 20.2.3; however, version 24.1.2 is available.\n",
      "You should consider upgrading via the 'c:\\users\\mauka\\appdata\\local\\programs\\python\\python39\\python.exe -m pip install --upgrade pip' command.\n"
     ]
    }
   ],
   "source": [
    "!pip install transformers\n",
    "!pip install torch"
   ]
  },
  {
   "cell_type": "code",
   "execution_count": 2,
   "metadata": {
    "id": "BvpcUOMg5ccu"
   },
   "outputs": [],
   "source": [
    "import torch\n",
    "from transformers import BertTokenizer, BertModel\n",
    "from sklearn.metrics.pairwise import cosine_similarity"
   ]
  },
  {
   "cell_type": "code",
   "execution_count": 3,
   "metadata": {
    "colab": {
     "base_uri": "https://localhost:8080/"
    },
    "id": "yahi2ZLN5eVO",
    "outputId": "3221a0ae-11b4-4d09-fbe2-e59c4f7cad6d"
   },
   "outputs": [
    {
     "name": "stderr",
     "output_type": "stream",
     "text": [
      "Some weights of the model checkpoint at DeepPavlov/rubert-base-cased were not used when initializing BertModel: ['cls.predictions.bias', 'cls.predictions.decoder.bias', 'cls.predictions.decoder.weight', 'cls.predictions.transform.LayerNorm.bias', 'cls.predictions.transform.LayerNorm.weight', 'cls.predictions.transform.dense.bias', 'cls.predictions.transform.dense.weight', 'cls.seq_relationship.bias', 'cls.seq_relationship.weight']\n",
      "- This IS expected if you are initializing BertModel from the checkpoint of a model trained on another task or with another architecture (e.g. initializing a BertForSequenceClassification model from a BertForPreTraining model).\n",
      "- This IS NOT expected if you are initializing BertModel from the checkpoint of a model that you expect to be exactly identical (initializing a BertForSequenceClassification model from a BertForSequenceClassification model).\n"
     ]
    }
   ],
   "source": [
    "tokenizer = BertTokenizer.from_pretrained('DeepPavlov/rubert-base-cased')\n",
    "model = BertModel.from_pretrained('DeepPavlov/rubert-base-cased')"
   ]
  },
  {
   "cell_type": "code",
   "execution_count": 6,
   "metadata": {
    "id": "YnOf0-p75gD-"
   },
   "outputs": [],
   "source": [
    "def get_bert_embedding(text):\n",
    "    inputs = tokenizer(text, return_tensors='pt', truncation=True, max_length=512, padding='max_length')\n",
    "    with torch.no_grad():\n",
    "        outputs = model(**inputs)\n",
    "    cls_embedding = outputs.last_hidden_state[:, 0, :].squeeze().numpy()\n",
    "    return cls_embedding"
   ]
  },
  {
   "cell_type": "code",
   "execution_count": 7,
   "metadata": {},
   "outputs": [],
   "source": [
    "def extract_key_sentences(text, max_tokens=512):\n",
    "\n",
    "    sentences = text.split('. ')\n",
    "\n",
    "    if len(tokenizer(text)['input_ids']) <= max_tokens:\n",
    "        return text\n",
    "\n",
    "    vectorizer = TfidfVectorizer()\n",
    "    X = vectorizer.fit_transform(sentences)\n",
    "    scores = X.sum(axis=1).A1\n",
    "\n",
    "    ranked_sentences = [sentences[i] for i in np.argsort(scores)[::-1]]\n",
    "\n",
    "    selected_sentences = []\n",
    "    total_tokens = 0\n",
    "    for sentence in ranked_sentences:\n",
    "        sentence_tokens = len(tokenizer(sentence)['input_ids'])\n",
    "        if total_tokens + sentence_tokens <= max_tokens:\n",
    "            selected_sentences.append(sentence)\n",
    "            total_tokens += sentence_tokens\n",
    "        else:\n",
    "            break\n",
    "\n",
    "    return '. '.join(selected_sentences)"
   ]
  },
  {
   "cell_type": "code",
   "execution_count": 11,
   "metadata": {},
   "outputs": [],
   "source": [
    "vacancy_df = pd.read_csv('v.csv')\n",
    "proff_df = pd.read_excel('400-professions.xlsx')"
   ]
  },
  {
   "cell_type": "code",
   "execution_count": 15,
   "metadata": {
    "colab": {
     "base_uri": "https://localhost:8080/"
    },
    "id": "Q3i7-Gas55kP",
    "outputId": "71c0476a-6b0f-4c16-9015-c40a857c3f68"
   },
   "outputs": [
    {
     "name": "stderr",
     "output_type": "stream",
     "text": [
      "C:\\Users\\Mauka\\AppData\\Local\\Temp\\ipykernel_19884\\2697063262.py:10: MarkupResemblesLocatorWarning: The input looks more like a filename than markup. You may want to open this file and pass the filehandle into Beautiful Soup.\n",
      "  soup = bs(sentence, features=\"html.parser\")\n",
      "C:\\Users\\Mauka\\AppData\\Local\\Temp\\ipykernel_19884\\2697063262.py:12: MarkupResemblesLocatorWarning: The input looks more like a filename than markup. You may want to open this file and pass the filehandle into Beautiful Soup.\n",
      "  soup = bs(sentence, features=\"html.parser\")\n"
     ]
    }
   ],
   "source": [
    "proff_df['Наименование КК_clean'] = proff_df['Наименование КК'].apply(preprocess)"
   ]
  },
  {
   "cell_type": "code",
   "execution_count": 26,
   "metadata": {},
   "outputs": [],
   "source": [
    "import numpy as np"
   ]
  },
  {
   "cell_type": "code",
   "execution_count": 29,
   "metadata": {},
   "outputs": [],
   "source": [
    "from tqdm import tqdm"
   ]
  },
  {
   "cell_type": "code",
   "execution_count": 34,
   "metadata": {},
   "outputs": [],
   "source": [
    "vacancy_df['key_sentences'] = vacancy_df['clean_description'].apply(lambda x: extract_key_sentences(x))\n",
    "vacancy_df['num_tokens'] = vacancy_df['key_sentences'].apply(lambda x: len(tokenizer(x)['input_ids']))"
   ]
  },
  {
   "cell_type": "code",
   "execution_count": 37,
   "metadata": {},
   "outputs": [
    {
     "name": "stderr",
     "output_type": "stream",
     "text": [
      "100%|██████████| 10000/10000 [00:00<00:00, 1994533.26it/s]\n",
      "100%|██████████| 403/403 [00:00<00:00, 403029.21it/s]\n"
     ]
    },
    {
     "ename": "",
     "evalue": "",
     "output_type": "error",
     "traceback": [
      "\u001B[1;31mПри выполнении кода в текущей ячейке или предыдущей ячейке ядро аварийно завершило работу. \n",
      "\u001B[1;31mПроверьте код в ячейках, чтобы определить возможную причину сбоя. \n",
      "\u001B[1;31mЩелкните <a href='https://aka.ms/vscodeJupyterKernelCrash'>здесь</a>, чтобы получить дополнительные сведения. \n",
      "\u001B[1;31mПодробнее см. в <a href='command:jupyter.viewOutput'>журнале Jupyter</a>."
     ]
    }
   ],
   "source": [
    "vacancy_df['num_tokens'] = list(tqdm(vacancy_df['key_sentences'].apply(lambda x: len(tokenizer(x)['input_ids']))))\n",
    "proff_df['embedding'] = list(tqdm(proff _df['Наименование КК_clean'].apply(get_bert_embedding)))\n",
    "vacancy_df['embedding'] = list(tqdm(vacancy_df['key_sentences'].apply(get_bert_embedding)))"
   ]
  },
  {
   "cell_type": "code",
   "execution_count": 125,
   "metadata": {
    "id": "WKSl4fmg6CCI"
   },
   "outputs": [],
   "source": [
    "def find_best_match(vacancy_embedding, profession_embeddings, profession_names):\n",
    "    similarity_scores = cosine_similarity([vacancy_embedding], profession_embeddings)[0]\n",
    "    best_match_index = similarity_scores.argmax()\n",
    "    return profession_names[best_match_index]\n",
    "\n",
    "vacancy_df['best_profession_match'] = vacancy_df['embedding'].apply(\n",
    "    lambda x: find_best_match(x, proff_df['embedding'].tolist(), proff_df['Наименование КК_clean'].tolist())\n",
    ")\n"
   ]
  },
  {
   "cell_type": "code",
   "execution_count": 187,
   "metadata": {
    "id": "Ks50lyneROYF"
   },
   "outputs": [],
   "source": [
    "# vacancy_df[['name', 'best_profession_match']][:400]"
   ]
  },
  {
   "cell_type": "code",
   "execution_count": 170,
   "metadata": {
    "id": "UDJUuJRDWpoi"
   },
   "outputs": [],
   "source": [
    "# import pandas as pd\n",
    "# from transformers import BertTokenizer\n",
    "\n",
    "# tokenizer = BertTokenizer.from_pretrained('DeepPavlov/rubert-base-cased')\n",
    "\n",
    "# def count_tokens(text):\n",
    "#     inputs = tokenizer(text, truncation=True)\n",
    "#     return len(inputs['input_ids'])\n",
    "\n",
    "# text = 'техник пусконаладочным работам классифицируется специалист нанят уволен работы приказу генерального директора должность техник вводу эксплуатацию назначается лицо имеющее высшее профессиональное техническое образование опыт работы качестве специалиста вводу эксплуатацию менее лет технический специалист вводу эксплуатацию подотчетен непосредственно инженеру вводу эксплуатацию ведущему инженеру электрику силу специфики своей работы техник вводу эксплуатацию должен знать положения директивы приказы инструкции нормативные материалы рк организации ввода эксплуатацию основные технологические процессы производства предприятии технические условия конструктивные особенности назначение режимы работы оборудования предприятия правила технической эксплуатации методы монтажа наладки настройки электрооборудования контрольные инструменты приборы оборудование используемые осмотре вводе эксплуатацию испытаниях обслуживаемого оборудования опыт работы документацией электрической конфигурации однолинейные чертежи электрические схемы технические руководства испытание ввод эксплуатацию распределительного устройства электрораспределительного оборудования mv lv защитных компонентов пусконаладочные работы испытания подача питания панели шкафы ибп цепи зарядных устройств тестирование подача питания бд освещения малой мощности силовые трансформаторы измерительные приборы также базы данных телекоммуникаций испытания подача электропитания полевых потребителей электроэнергии двигатели клапаны нагреватели т д организация монтажных пусконаладочных ремонтных работ техническое обслуживание оборудования поддержка устранения неполадок электрических проблем связанных электрическим оборудованием кабелями компонентами проверка результатов пусконаладочных испытаний обеспечения безопасной эксплуатации электрической распределительной системы лучшие отечественные зарубежные практики безопасности области ввода эксплуатацию основы трудового законодательства правила нормы охраны труда умение взаимодействовать заказчиком многопрофильными специалистами компании подрядчиками культурная осведомленность способность работать людьми разных национальностей знакомство системой разрешение работу сводки инструментов специфические требования площадкиорганизовать выполнить пусконаладочные работы видов оборудования соответствии методическим нормативным иным инструктивным материалом организации пусконаладочных работ обеспечить своевременный ввод эксплуатацию подготовить измерительные приборы аппаратуру работе выполнить метрологический контроль начать работы устранению дефектов оборудования выявленных вводе эксплуатацию храните техническую документацию монтаже вводе эксплуатацию тестировании оборудования оказание помощи подготовке документации передаче досье наценки т д контролировать сотрудников участвующих вводе эксплуатацию обеспечивать соблюдение требований охраны труда соответствии видом выполняемых работ требования высшее либо средне техническое образование области электрики менее х лет опыта работы пуско наладке оборудовании нефтегазовых месторождениях специфике своей деятельности техник электрик пусконаладке должен знать постановления распоряжения приказы методические нормативные материалы вопросам организации пусконаладочных работ электрооборудования основные технологические процессы технические характеристики конструктивные особенности назначение режимы работы оборудования правила технической эксплуатации методы монтажа регулировки наладки электрического энергетического оборудования контрольные средства приборы устройства применяемые проверке наладке испытаниях обслуживаемого электрического энергетического оборудования порядок методы планирования монтажных наладочных испытательных работ организацию монтажных пусконаладочных ремонтных работ проведения технического обслуживания электрического энергетического оборудования передовой отечественный зарубежный опыт области проведения пусконаладочных работ порядок составления смет проведение работ заявок оборудование материалы запасные части измерительные инструменты приборы порядок разработки оформления технической документации основы организации производства труда управления основы трудового законодательства правила нормы охраны труда организует выполняет работу попусконаладке видов оборудования соответствии методическими нормативными другими руководящими материалами организации пусконаладочных работ обеспечивает своевременный ввод эксплуатацию составляет программы календарные графики проведения пусконаладочных работ испытаний согласовывает заказчиками осуществляет подготовку работе средств измерений аппаратуры выполняет метрологический контроль организует работу персонала обеспечивает рациональное расходование сырья материалов необходимых ввода оборудования систем эксплуатацию обеспечения хода технологического процесса период пусконаладочных работ организует обеспечивает качество ведения работ вносит необходимые коррективы способы методы наладки целью достижения необходимых параметров характеристик работы оборудования систем производит регулировку анализирует данные измерений параметров работы выполняет необходимые расчеты дает заключения пригодности эксплуатации отдельных деталей узлов механизмов систем выявляет причины неисправности инициирует работы устранению дефектов оборудования выявленных выполнении пусконаладочных работ условия вахта проживание питание проезд предоставляет компания'\n",
    "# num_tokens = count_tokens(text)\n",
    "# print(f\"Количество токенов: {num_tokens}\")"
   ]
  },
  {
   "cell_type": "code",
   "execution_count": 169,
   "metadata": {
    "id": "3GxJmcDdZKy8"
   },
   "outputs": [],
   "source": [
    "# long_descriptions = vacancy_df[vacancy_df['word_count'] > 400][['clean_description', 'word_count']]\n",
    "# print(f\"Количество описаний со словами больше 400: {len(long_descriptions)}\")\n",
    "# print(long_descriptions)\n"
   ]
  },
  {
   "cell_type": "code",
   "execution_count": 150,
   "metadata": {
    "colab": {
     "base_uri": "https://localhost:8080/"
    },
    "id": "lWx39_Z2acPL",
    "outputId": "40b3aef4-ee60-45fb-fc27-c2700b5de1d4"
   },
   "outputs": [
    {
     "name": "stderr",
     "output_type": "stream",
     "text": [
      "[nltk_data] Downloading package punkt to /root/nltk_data...\n",
      "[nltk_data]   Unzipping tokenizers/punkt.zip.\n"
     ]
    }
   ],
   "source": [
    "from sumy.parsers.plaintext import PlaintextParser\n",
    "from sumy.nlp.tokenizers import Tokenizer\n",
    "from sumy.summarizers.lsa import LsaSummarizer\n",
    "\n",
    "import nltk\n",
    "nltk.download('punkt')\n",
    "def summarize_text(text, sentence_count=10):\n",
    "    parser = PlaintextParser.from_string(text, Tokenizer(\"russian\"))\n",
    "    summarizer = LsaSummarizer()\n",
    "    summary = summarizer(parser.document, sentence_count)\n",
    "    return ' '.join([str(sentence) for sentence in summary])\n",
    "\n",
    "vacancy_df['summarized_description'] = vacancy_df['cleaned_vacancy_description'].apply(summarize_text)"
   ]
  },
  {
   "cell_type": "code",
   "execution_count": 174,
   "metadata": {
    "id": "-RuDpD55bjFs"
   },
   "outputs": [],
   "source": [
    "vacancy_df['num_tokens'] = vacancy_df['summarized_description'].apply(count_tokens)"
   ]
  },
  {
   "cell_type": "code",
   "execution_count": 168,
   "metadata": {
    "id": "NKuPYCBjb4FI"
   },
   "outputs": [],
   "source": [
    "# long_token = vacancy_df[vacancy_df['num_tokens'] > 512][['summarized_description', 'num_tokens']]\n",
    "# long_token"
   ]
  }
 ],
 "metadata": {
  "colab": {
   "provenance": []
  },
  "kernelspec": {
   "display_name": "Python 3",
   "name": "python3"
  },
  "language_info": {
   "codemirror_mode": {
    "name": "ipython",
    "version": 3
   },
   "file_extension": ".py",
   "mimetype": "text/x-python",
   "name": "python",
   "nbconvert_exporter": "python",
   "pygments_lexer": "ipython3",
   "version": "3.10.6"
  }
 },
 "nbformat": 4,
 "nbformat_minor": 0
}
